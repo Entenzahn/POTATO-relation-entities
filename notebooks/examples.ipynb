{
 "cells": [
  {
   "cell_type": "code",
   "execution_count": 2,
   "id": "3a4a31ea",
   "metadata": {},
   "outputs": [],
   "source": [
    "from exprel.dataset.dataset import Dataset"
   ]
  },
  {
   "cell_type": "code",
   "execution_count": 5,
   "id": "01748a9b",
   "metadata": {},
   "outputs": [],
   "source": [
    "sentences = [(\"fuck absolutely everything about today.\", \"HOF\"),\n",
    "            (\"I just made food and I'm making myself sick to my stomach. Lol, wtf is this shit\", \"HOF\"),\n",
    "            (\"RT [USER]: America is the most fucked up country [URL]\", \"HOF\"),\n",
    "            (\"you'd be blind to not see the heart eyes i have for you.\", \"NOT\"),\n",
    "            (\"It's hard for me to give a fuck now\", \"HOF\"),\n",
    "            (\"tell me everything\", \"NOT\"),\n",
    "            (\"Bitch YES [URL]\", \"HOF\"),\n",
    "            (\"Eight people a minute....\", \"NOT\"),\n",
    "            (\"RT [USER]: im not fine, i need you\", \"NOT\"),\n",
    "            (\"Holy shit.. 3 months and I'll be in Italy\", \"HOF\"),\n",
    "            (\"Now I do what I want 🤪\", \"NOT\"),\n",
    "            (\"[USER] you'd immediately stop\", \"NOT\"),\n",
    "            (\"Just... shut the fuck up\", \"HOF\"),\n",
    "            (\"RT [USER]: ohhhh shit a [USER] [URL]\", \"HOF\"),\n",
    "            (\"all i want is for yara to survive tonight\", \"NOT\")]"
   ]
  },
  {
   "cell_type": "code",
   "execution_count": 6,
   "id": "47ee30b3",
   "metadata": {},
   "outputs": [
    {
     "name": "stderr",
     "output_type": "stream",
     "text": [
      "2021-08-27 15:26:56 INFO: Loading these models for language: en (English):\n",
      "=========================\n",
      "| Processor | Package   |\n",
      "-------------------------\n",
      "| tokenize  | ewt       |\n",
      "| pos       | ewt       |\n",
      "| lemma     | ewt       |\n",
      "| depparse  | ewt       |\n",
      "| sentiment | sstplus   |\n",
      "| ner       | ontonotes |\n",
      "=========================\n",
      "\n",
      "2021-08-27 15:26:56 INFO: Use device: cpu\n",
      "2021-08-27 15:26:56 INFO: Loading: tokenize\n",
      "2021-08-27 15:26:56 INFO: Loading: pos\n",
      "2021-08-27 15:26:57 INFO: Loading: lemma\n",
      "2021-08-27 15:26:57 INFO: Loading: depparse\n",
      "2021-08-27 15:26:58 INFO: Loading: sentiment\n",
      "2021-08-27 15:26:59 INFO: Loading: ner\n",
      "2021-08-27 15:26:59 INFO: Done loading processors!\n"
     ]
    }
   ],
   "source": [
    "dataset = Dataset(sentences)"
   ]
  },
  {
   "cell_type": "code",
   "execution_count": 7,
   "id": "237b4779",
   "metadata": {},
   "outputs": [
    {
     "data": {
      "text/html": [
       "<div>\n",
       "<style scoped>\n",
       "    .dataframe tbody tr th:only-of-type {\n",
       "        vertical-align: middle;\n",
       "    }\n",
       "\n",
       "    .dataframe tbody tr th {\n",
       "        vertical-align: top;\n",
       "    }\n",
       "\n",
       "    .dataframe thead th {\n",
       "        text-align: right;\n",
       "    }\n",
       "</style>\n",
       "<table border=\"1\" class=\"dataframe\">\n",
       "  <thead>\n",
       "    <tr style=\"text-align: right;\">\n",
       "      <th></th>\n",
       "      <th>text</th>\n",
       "      <th>label</th>\n",
       "    </tr>\n",
       "  </thead>\n",
       "  <tbody>\n",
       "    <tr>\n",
       "      <th>0</th>\n",
       "      <td>fuck absolutely everything about today.</td>\n",
       "      <td>HOF</td>\n",
       "    </tr>\n",
       "    <tr>\n",
       "      <th>1</th>\n",
       "      <td>I just made food and I'm making myself sick to...</td>\n",
       "      <td>HOF</td>\n",
       "    </tr>\n",
       "    <tr>\n",
       "      <th>2</th>\n",
       "      <td>RT [USER]: America is the most fucked up count...</td>\n",
       "      <td>HOF</td>\n",
       "    </tr>\n",
       "    <tr>\n",
       "      <th>3</th>\n",
       "      <td>you'd be blind to not see the heart eyes i hav...</td>\n",
       "      <td>NOT</td>\n",
       "    </tr>\n",
       "    <tr>\n",
       "      <th>4</th>\n",
       "      <td>It's hard for me to give a fuck now</td>\n",
       "      <td>HOF</td>\n",
       "    </tr>\n",
       "    <tr>\n",
       "      <th>5</th>\n",
       "      <td>tell me everything</td>\n",
       "      <td>NOT</td>\n",
       "    </tr>\n",
       "    <tr>\n",
       "      <th>6</th>\n",
       "      <td>Bitch YES [URL]</td>\n",
       "      <td>HOF</td>\n",
       "    </tr>\n",
       "    <tr>\n",
       "      <th>7</th>\n",
       "      <td>Eight people a minute....</td>\n",
       "      <td>NOT</td>\n",
       "    </tr>\n",
       "    <tr>\n",
       "      <th>8</th>\n",
       "      <td>RT [USER]: im not fine, i need you</td>\n",
       "      <td>NOT</td>\n",
       "    </tr>\n",
       "    <tr>\n",
       "      <th>9</th>\n",
       "      <td>Holy shit.. 3 months and I'll be in Italy</td>\n",
       "      <td>HOF</td>\n",
       "    </tr>\n",
       "    <tr>\n",
       "      <th>10</th>\n",
       "      <td>Now I do what I want 🤪</td>\n",
       "      <td>NOT</td>\n",
       "    </tr>\n",
       "    <tr>\n",
       "      <th>11</th>\n",
       "      <td>[USER] you'd immediately stop</td>\n",
       "      <td>NOT</td>\n",
       "    </tr>\n",
       "    <tr>\n",
       "      <th>12</th>\n",
       "      <td>Just... shut the fuck up</td>\n",
       "      <td>HOF</td>\n",
       "    </tr>\n",
       "    <tr>\n",
       "      <th>13</th>\n",
       "      <td>RT [USER]: ohhhh shit a [USER] [URL]</td>\n",
       "      <td>HOF</td>\n",
       "    </tr>\n",
       "    <tr>\n",
       "      <th>14</th>\n",
       "      <td>all i want is for yara to survive tonight</td>\n",
       "      <td>NOT</td>\n",
       "    </tr>\n",
       "  </tbody>\n",
       "</table>\n",
       "</div>"
      ],
      "text/plain": [
       "                                                 text label\n",
       "0             fuck absolutely everything about today.   HOF\n",
       "1   I just made food and I'm making myself sick to...   HOF\n",
       "2   RT [USER]: America is the most fucked up count...   HOF\n",
       "3   you'd be blind to not see the heart eyes i hav...   NOT\n",
       "4                 It's hard for me to give a fuck now   HOF\n",
       "5                                  tell me everything   NOT\n",
       "6                                     Bitch YES [URL]   HOF\n",
       "7                           Eight people a minute....   NOT\n",
       "8                  RT [USER]: im not fine, i need you   NOT\n",
       "9           Holy shit.. 3 months and I'll be in Italy   HOF\n",
       "10                             Now I do what I want 🤪   NOT\n",
       "11                      [USER] you'd immediately stop   NOT\n",
       "12                           Just... shut the fuck up   HOF\n",
       "13               RT [USER]: ohhhh shit a [USER] [URL]   HOF\n",
       "14          all i want is for yara to survive tonight   NOT"
      ]
     },
     "execution_count": 7,
     "metadata": {},
     "output_type": "execute_result"
    }
   ],
   "source": [
    "dataset.to_dataframe()"
   ]
  },
  {
   "cell_type": "code",
   "execution_count": 7,
   "id": "0410f261",
   "metadata": {},
   "outputs": [],
   "source": [
    "class Hasoc():\n",
    "    def __init__(self, k):\n",
    "        self.k = k\n",
    "        \n",
    "class HasocChild(Hasoc):\n",
    "    def __init__(self, k):\n",
    "        pass\n",
    "    \n",
    "    def write_kutya(self):\n",
    "        print(self.k)\n",
    "\n",
    "h = HasocChild(\"kutya\")"
   ]
  },
  {
   "cell_type": "code",
   "execution_count": 8,
   "id": "cd302740",
   "metadata": {},
   "outputs": [
    {
     "ename": "AttributeError",
     "evalue": "'HasocChild' object has no attribute 'k'",
     "output_type": "error",
     "traceback": [
      "\u001b[0;31m---------------------------------------------------------------------------\u001b[0m",
      "\u001b[0;31mAttributeError\u001b[0m                            Traceback (most recent call last)",
      "\u001b[0;32m/var/folders/1c/zj1dzfrs57l4fk7p1_b329mh0000gn/T/ipykernel_29859/3077124526.py\u001b[0m in \u001b[0;36m<module>\u001b[0;34m\u001b[0m\n\u001b[0;32m----> 1\u001b[0;31m \u001b[0mh\u001b[0m\u001b[0;34m.\u001b[0m\u001b[0mwrite_kutya\u001b[0m\u001b[0;34m(\u001b[0m\u001b[0;34m)\u001b[0m\u001b[0;34m\u001b[0m\u001b[0;34m\u001b[0m\u001b[0m\n\u001b[0m",
      "\u001b[0;32m/var/folders/1c/zj1dzfrs57l4fk7p1_b329mh0000gn/T/ipykernel_29859/200186370.py\u001b[0m in \u001b[0;36mwrite_kutya\u001b[0;34m(self)\u001b[0m\n\u001b[1;32m      8\u001b[0m \u001b[0;34m\u001b[0m\u001b[0m\n\u001b[1;32m      9\u001b[0m     \u001b[0;32mdef\u001b[0m \u001b[0mwrite_kutya\u001b[0m\u001b[0;34m(\u001b[0m\u001b[0mself\u001b[0m\u001b[0;34m)\u001b[0m\u001b[0;34m:\u001b[0m\u001b[0;34m\u001b[0m\u001b[0;34m\u001b[0m\u001b[0m\n\u001b[0;32m---> 10\u001b[0;31m         \u001b[0mprint\u001b[0m\u001b[0;34m(\u001b[0m\u001b[0mself\u001b[0m\u001b[0;34m.\u001b[0m\u001b[0mk\u001b[0m\u001b[0;34m)\u001b[0m\u001b[0;34m\u001b[0m\u001b[0;34m\u001b[0m\u001b[0m\n\u001b[0m\u001b[1;32m     11\u001b[0m \u001b[0;34m\u001b[0m\u001b[0m\n\u001b[1;32m     12\u001b[0m \u001b[0mh\u001b[0m \u001b[0;34m=\u001b[0m \u001b[0mHasocChild\u001b[0m\u001b[0;34m(\u001b[0m\u001b[0;34m\"kutya\"\u001b[0m\u001b[0;34m)\u001b[0m\u001b[0;34m\u001b[0m\u001b[0;34m\u001b[0m\u001b[0m\n",
      "\u001b[0;31mAttributeError\u001b[0m: 'HasocChild' object has no attribute 'k'"
     ]
    }
   ],
   "source": [
    "h.write_kutya()"
   ]
  },
  {
   "cell_type": "code",
   "execution_count": null,
   "id": "24fb2276",
   "metadata": {},
   "outputs": [],
   "source": []
  }
 ],
 "metadata": {
  "kernelspec": {
   "display_name": "Python 3 (ipykernel)",
   "language": "python",
   "name": "python3"
  },
  "language_info": {
   "codemirror_mode": {
    "name": "ipython",
    "version": 3
   },
   "file_extension": ".py",
   "mimetype": "text/x-python",
   "name": "python",
   "nbconvert_exporter": "python",
   "pygments_lexer": "ipython3",
   "version": "3.9.5"
  }
 },
 "nbformat": 4,
 "nbformat_minor": 5
}
