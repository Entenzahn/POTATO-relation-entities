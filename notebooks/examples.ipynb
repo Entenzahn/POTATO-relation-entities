{
 "cells": [
  {
   "cell_type": "code",
   "execution_count": null,
   "metadata": {},
   "outputs": [],
   "source": [
    "from exprel.dataset.dataset import Dataset\n",
    "from exprel.models.trainer import GraphTrainer"
   ]
  },
  {
   "cell_type": "code",
   "execution_count": null,
   "metadata": {},
   "outputs": [],
   "source": [
    "sentences = [(\"fuck absolutely everything about today.\", \"HOF\"),\n",
    "            (\"I just made food and I'm making myself sick to my stomach. Lol, wtf is this shit\", \"HOF\"),\n",
    "            (\"RT [USER]: America is the most fucked up country [URL]\", \"HOF\"),\n",
    "            (\"you'd be blind to not see the heart eyes i have for you.\", \"NOT\"),\n",
    "            (\"It's hard for me to give a fuck now\", \"HOF\"),\n",
    "            (\"tell me everything\", \"NOT\"),\n",
    "            (\"Bitch YES [URL]\", \"HOF\"),\n",
    "            (\"Eight people a minute....\", \"NOT\"),\n",
    "            (\"RT [USER]: im not fine, i need you\", \"NOT\"),\n",
    "            (\"Holy shit.. 3 months and I'll be in Italy\", \"HOF\"),\n",
    "            (\"Now I do what I want 🤪\", \"NOT\"),\n",
    "            (\"[USER] you'd immediately stop\", \"NOT\"),\n",
    "            (\"Just... shut the fuck up\", \"HOF\"),\n",
    "            (\"RT [USER]: ohhhh shit a [USER] [URL]\", \"HOF\"),\n",
    "            (\"all i want is for yara to survive tonight\", \"NOT\")]"
   ]
  },
  {
   "cell_type": "code",
   "execution_count": null,
   "metadata": {},
   "outputs": [],
   "source": [
    "dataset = Dataset(sentences, label_vocab={\"NOT\":0, \"HOF\": 1})\n",
    "dataset.set_graphs(dataset.parse_graphs(graph_format=\"ud\"))"
   ]
  },
  {
   "cell_type": "code",
   "execution_count": null,
   "metadata": {},
   "outputs": [],
   "source": [
    "df = dataset.to_dataframe()"
   ]
  },
  {
   "cell_type": "code",
   "execution_count": null,
   "metadata": {},
   "outputs": [],
   "source": [
    "df"
   ]
  },
  {
   "cell_type": "code",
   "execution_count": null,
   "metadata": {},
   "outputs": [],
   "source": [
    "trainer = GraphTrainer(df)"
   ]
  },
  {
   "cell_type": "code",
   "execution_count": null,
   "metadata": {},
   "outputs": [],
   "source": [
    "features = trainer.train()"
   ]
  },
  {
   "cell_type": "code",
   "execution_count": null,
   "metadata": {},
   "outputs": [],
   "source": [
    "from sklearn.model_selection import train_test_split\n",
    "\n",
    "train, val = train_test_split(df, test_size=0.2, random_state=1234)"
   ]
  },
  {
   "cell_type": "code",
   "execution_count": null,
   "metadata": {},
   "outputs": [],
   "source": [
    "train.to_pickle(\"train_dataset\")\n",
    "val.to_pickle(\"val_dataset\")\n",
    "\n",
    "import json\n",
    "\n",
    "with open(\"features.json\", \"w+\") as f:\n",
    "    json.dump(features, f)"
   ]
  },
  {
   "cell_type": "code",
   "execution_count": null,
   "metadata": {},
   "outputs": [],
   "source": []
  }
 ],
 "metadata": {
  "kernelspec": {
   "display_name": "Python 3",
   "language": "python",
   "name": "python3"
  },
  "language_info": {
   "codemirror_mode": {
    "name": "ipython",
    "version": 3
   },
   "file_extension": ".py",
   "mimetype": "text/x-python",
   "name": "python",
   "nbconvert_exporter": "python",
   "pygments_lexer": "ipython3",
   "version": "3.7.4"
  }
 },
 "nbformat": 4,
 "nbformat_minor": 5
}
