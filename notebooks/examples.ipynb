{
 "cells": [
  {
   "cell_type": "code",
   "execution_count": 1,
   "id": "01748a9b",
   "metadata": {},
   "outputs": [],
   "source": [
    "sentences = [(\"fuck absolutely everything about today.\", \"HOF\"),\n",
    "            (\"I just made food and I'm making myself sick to my stomach. Lol, wtf is this shit\", \"HOF\"),\n",
    "            (\"RT [USER]: America is the most fucked up country [URL]\", \"HOF\"),\n",
    "            (\"you'd be blind to not see the heart eyes i have for you.\", \"NOT\"),\n",
    "            (\"It's hard for me to give a fuck now\", \"HOF\"),\n",
    "            (\"tell me everything\", \"NOT\"),\n",
    "            (\"Bitch YES [URL]\", \"HOF\"),\n",
    "            (\"Eight people a minute....\", \"NOT\"),\n",
    "            (\"RT [USER]: im not fine, i need you\", \"NOT\"),\n",
    "            (\"Holy shit.. 3 months and I'll be in Italy\", \"HOF\"),\n",
    "            (\"Now I do what I want 🤪\", \"NOT\"),\n",
    "            (\"[USER] you'd immediately stop\", \"NOT\"),\n",
    "            (\"Just... shut the fuck up\", \"HOF\"),\n",
    "            (\"RT [USER]: ohhhh shit a [USER] [URL]\", \"HOF\"),\n",
    "            (\"all i want is for yara to survive tonight\", \"NOT\")]"
   ]
  },
  {
   "cell_type": "code",
   "execution_count": 4,
   "id": "0410f261",
   "metadata": {},
   "outputs": [],
   "source": [
    "class Hasoc():\n",
    "    def __init__(self, k):\n",
    "        self.k = k\n",
    "        \n",
    "class HasocChild(Hasoc):\n",
    "    def __init__(self, k):\n",
    "        super().__init__(k)\n",
    "        \n",
    "    def write_kutya(self):\n",
    "        print(self.k)\n",
    "\n",
    "h = HasocChild(\"kutya\")"
   ]
  },
  {
   "cell_type": "code",
   "execution_count": 5,
   "id": "f3fab163",
   "metadata": {},
   "outputs": [
    {
     "name": "stdout",
     "output_type": "stream",
     "text": [
      "kutya\n"
     ]
    }
   ],
   "source": [
    "h.write_kutya()"
   ]
  },
  {
   "cell_type": "code",
   "execution_count": null,
   "id": "cb243f1d",
   "metadata": {},
   "outputs": [],
   "source": []
  }
 ],
 "metadata": {
  "kernelspec": {
   "display_name": "Python 3 (ipykernel)",
   "language": "python",
   "name": "python3"
  },
  "language_info": {
   "codemirror_mode": {
    "name": "ipython",
    "version": 3
   },
   "file_extension": ".py",
   "mimetype": "text/x-python",
   "name": "python",
   "nbconvert_exporter": "python",
   "pygments_lexer": "ipython3",
   "version": "3.9.5"
  }
 },
 "nbformat": 4,
 "nbformat_minor": 5
}
