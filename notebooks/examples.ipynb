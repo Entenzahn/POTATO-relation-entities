{
 "cells": [
  {
   "cell_type": "code",
   "execution_count": 1,
   "metadata": {},
   "outputs": [],
   "source": [
    "from exprel.dataset.dataset import Dataset"
   ]
  },
  {
   "cell_type": "code",
   "execution_count": 2,
   "metadata": {},
   "outputs": [],
   "source": [
    "sentences = [(\"fuck absolutely everything about today.\", \"HOF\"),\n",
    "            (\"I just made food and I'm making myself sick to my stomach. Lol, wtf is this shit\", \"HOF\"),\n",
    "            (\"RT [USER]: America is the most fucked up country [URL]\", \"HOF\"),\n",
    "            (\"you'd be blind to not see the heart eyes i have for you.\", \"NOT\"),\n",
    "            (\"It's hard for me to give a fuck now\", \"HOF\"),\n",
    "            (\"tell me everything\", \"NOT\"),\n",
    "            (\"Bitch YES [URL]\", \"HOF\"),\n",
    "            (\"Eight people a minute....\", \"NOT\"),\n",
    "            (\"RT [USER]: im not fine, i need you\", \"NOT\"),\n",
    "            (\"Holy shit.. 3 months and I'll be in Italy\", \"HOF\"),\n",
    "            (\"Now I do what I want 🤪\", \"NOT\"),\n",
    "            (\"[USER] you'd immediately stop\", \"NOT\"),\n",
    "            (\"Just... shut the fuck up\", \"HOF\"),\n",
    "            (\"RT [USER]: ohhhh shit a [USER] [URL]\", \"HOF\"),\n",
    "            (\"all i want is for yara to survive tonight\", \"NOT\")]"
   ]
  },
  {
   "cell_type": "code",
   "execution_count": 4,
   "metadata": {},
   "outputs": [
    {
     "name": "stderr",
     "output_type": "stream",
     "text": [
      "2021-08-31 07:52:44 INFO: Loading these models for language: en (English):\n",
      "=========================\n",
      "| Processor | Package   |\n",
      "-------------------------\n",
      "| tokenize  | ewt       |\n",
      "| pos       | ewt       |\n",
      "| lemma     | ewt       |\n",
      "| depparse  | ewt       |\n",
      "| sentiment | sstplus   |\n",
      "| ner       | ontonotes |\n",
      "=========================\n",
      "\n",
      "INFO:stanza:Loading these models for language: en (English):\n",
      "=========================\n",
      "| Processor | Package   |\n",
      "-------------------------\n",
      "| tokenize  | ewt       |\n",
      "| pos       | ewt       |\n",
      "| lemma     | ewt       |\n",
      "| depparse  | ewt       |\n",
      "| sentiment | sstplus   |\n",
      "| ner       | ontonotes |\n",
      "=========================\n",
      "\n",
      "/root/miniconda3/lib/python3.7/site-packages/torch/cuda/__init__.py:52: UserWarning: CUDA initialization: Found no NVIDIA driver on your system. Please check that you have an NVIDIA GPU and installed a driver from http://www.nvidia.com/Download/index.aspx (Triggered internally at  /pytorch/c10/cuda/CUDAFunctions.cpp:100.)\n",
      "  return torch._C._cuda_getDeviceCount() > 0\n",
      "2021-08-31 07:52:44 INFO: Use device: cpu\n",
      "INFO:stanza:Use device: cpu\n",
      "2021-08-31 07:52:44 INFO: Loading: tokenize\n",
      "INFO:stanza:Loading: tokenize\n",
      "2021-08-31 07:52:45 INFO: Loading: pos\n",
      "INFO:stanza:Loading: pos\n",
      "2021-08-31 07:52:46 INFO: Loading: lemma\n",
      "INFO:stanza:Loading: lemma\n",
      "2021-08-31 07:52:46 INFO: Loading: depparse\n",
      "INFO:stanza:Loading: depparse\n",
      "2021-08-31 07:52:48 INFO: Loading: sentiment\n",
      "INFO:stanza:Loading: sentiment\n",
      "2021-08-31 07:52:49 INFO: Loading: ner\n",
      "INFO:stanza:Loading: ner\n",
      "2021-08-31 07:52:50 INFO: Done loading processors!\n",
      "INFO:stanza:Done loading processors!\n"
     ]
    }
   ],
   "source": [
    "dataset = Dataset(sentences, label_vocab={\"NOT\":0, \"HOF\": 1})"
   ]
  },
  {
   "cell_type": "code",
   "execution_count": 9,
   "metadata": {},
   "outputs": [],
   "source": [
    "df = dataset.to_dataframe()"
   ]
  },
  {
   "cell_type": "code",
   "execution_count": null,
   "metadata": {},
   "outputs": [],
   "source": []
  }
 ],
 "metadata": {
  "kernelspec": {
   "display_name": "Python 3",
   "language": "python",
   "name": "python3"
  },
  "language_info": {
   "codemirror_mode": {
    "name": "ipython",
    "version": 3
   },
   "file_extension": ".py",
   "mimetype": "text/x-python",
   "name": "python",
   "nbconvert_exporter": "python",
   "pygments_lexer": "ipython3",
   "version": "3.7.4"
  }
 },
 "nbformat": 4,
 "nbformat_minor": 5
}
