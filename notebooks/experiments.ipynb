{
 "cells": [
  {
   "cell_type": "code",
   "execution_count": null,
   "metadata": {},
   "outputs": [],
   "source": [
    "from exprel.dataset.semeval_dataset import SemevalDataset\n",
    "from dotenv import load_dotenv \n",
    "load_dotenv()"
   ]
  },
  {
   "cell_type": "code",
   "execution_count": null,
   "metadata": {},
   "outputs": [],
   "source": [
    "data = SemevalDataset(\"/home/kovacs/projects/exp-relation-extraction/data/semeval_train.txt\")"
   ]
  },
  {
   "cell_type": "code",
   "execution_count": null,
   "metadata": {},
   "outputs": [],
   "source": [
    "df = data.to_dataframe()"
   ]
  },
  {
   "cell_type": "code",
   "execution_count": null,
   "metadata": {},
   "outputs": [],
   "source": [
    "len(df)"
   ]
  },
  {
   "cell_type": "code",
   "execution_count": null,
   "metadata": {},
   "outputs": [],
   "source": [
    "df"
   ]
  },
  {
   "cell_type": "code",
   "execution_count": null,
   "metadata": {},
   "outputs": [],
   "source": [
    "from exprel.feature_extractor.extract import FeatureExtractor\n",
    "\n",
    "extractor = FeatureExtractor()"
   ]
  },
  {
   "cell_type": "code",
   "execution_count": null,
   "metadata": {},
   "outputs": [],
   "source": [
    "import pickle\n",
    "PIK = \"pickle.dat\"\n",
    "\n",
    "with open(PIK, \"rb\") as f:\n",
    "    graphs = pickle.load(f)"
   ]
  },
  {
   "cell_type": "code",
   "execution_count": null,
   "metadata": {},
   "outputs": [],
   "source": [
    "one_versus_rest = data.one_versus_rest(df, \"Entity-Destination(e1,e2)\")"
   ]
  },
  {
   "cell_type": "code",
   "execution_count": null,
   "metadata": {},
   "outputs": [],
   "source": [
    "#one_versus_rest = one_versus_rest.sample(frac=0.2, random_state=1234).sample(frac=1.0, random_state=1234)"
   ]
  },
  {
   "cell_type": "code",
   "execution_count": null,
   "metadata": {},
   "outputs": [],
   "source": [
    "one_versus_rest.iloc[0].sentence"
   ]
  },
  {
   "cell_type": "code",
   "execution_count": null,
   "metadata": {},
   "outputs": [],
   "source": [
    "import pandas as pd\n",
    "\n",
    "ids = pd.to_numeric(one_versus_rest.sen_id).tolist()\n",
    "sentences = one_versus_rest.sentence.tolist()\n",
    "labels = one_versus_rest.one_versus_rest.tolist()\n",
    "postprocessed_graphs = one_versus_rest.graph.tolist()"
   ]
  },
  {
   "cell_type": "code",
   "execution_count": null,
   "metadata": {},
   "outputs": [],
   "source": [
    "labels.count(1)"
   ]
  },
  {
   "cell_type": "code",
   "execution_count": null,
   "metadata": {},
   "outputs": [],
   "source": [
    "labels.count(0)"
   ]
  },
  {
   "cell_type": "code",
   "execution_count": null,
   "metadata": {
    "tags": [
     "outputPrepend"
    ]
   },
   "outputs": [],
   "source": [
    "\"\"\"\n",
    "from tqdm import tqdm\n",
    "graphs = []\n",
    "\n",
    "for sen in tqdm(sentences):\n",
    "    output, root = extractor.extract(sen)\n",
    "    graphs.append(output)\n",
    "    \n",
    "import pickle\n",
    "PIK = \"pickle.dat\"\n",
    "\n",
    "with open(PIK, \"wb\") as f:\n",
    "    pickle.dump(graphs, f)\n",
    "\"\"\""
   ]
  },
  {
   "cell_type": "code",
   "execution_count": null,
   "metadata": {},
   "outputs": [],
   "source": [
    "data.set_graphs(graphs)"
   ]
  },
  {
   "cell_type": "code",
   "execution_count": null,
   "metadata": {},
   "outputs": [],
   "source": [
    "df = data.to_dataframe()\n",
    "one_versus_rest = data.one_versus_rest(df, \"Entity-Destination(e1,e2)\")"
   ]
  },
  {
   "cell_type": "code",
   "execution_count": null,
   "metadata": {},
   "outputs": [],
   "source": [
    "one_versus_rest"
   ]
  },
  {
   "cell_type": "code",
   "execution_count": null,
   "metadata": {},
   "outputs": [],
   "source": [
    "from exprel.models.model import GraphModel\n",
    "model = GraphModel()"
   ]
  },
  {
   "cell_type": "code",
   "execution_count": null,
   "metadata": {
    "tags": []
   },
   "outputs": [],
   "source": [
    "from tqdm import tqdm\n",
    "\n",
    "for id, graph, label in tqdm(zip(ids, postprocessed_graphs, labels)):\n",
    "    model.featurize_sen_graph(id, graph, label, 3)"
   ]
  },
  {
   "cell_type": "code",
   "execution_count": null,
   "metadata": {},
   "outputs": [],
   "source": [
    "model.select_n_best(7000)"
   ]
  },
  {
   "cell_type": "code",
   "execution_count": null,
   "metadata": {},
   "outputs": [],
   "source": [
    "X, Y = model.get_x_y(one_versus_rest.one_versus_rest.tolist())"
   ]
  },
  {
   "cell_type": "code",
   "execution_count": null,
   "metadata": {},
   "outputs": [],
   "source": [
    "len(X[0])"
   ]
  },
  {
   "cell_type": "code",
   "execution_count": null,
   "metadata": {},
   "outputs": [],
   "source": [
    "from sklearn.model_selection import train_test_split as split\n",
    "\n",
    "tr_data,tst_data,tr_labels,tst_labels = split(X,Y, test_size=0.3, random_state=1234)"
   ]
  },
  {
   "cell_type": "code",
   "execution_count": null,
   "metadata": {},
   "outputs": [],
   "source": [
    "from sklearn.linear_model import LogisticRegression\n",
    "\n",
    "clf = LogisticRegression(random_state=0).fit(tr_data, tr_labels)"
   ]
  },
  {
   "cell_type": "code",
   "execution_count": null,
   "metadata": {},
   "outputs": [],
   "source": [
    "from sklearn.metrics import precision_recall_fscore_support\n",
    "\n",
    "lr_pred = clf.predict(tst_data)\n",
    "for pcf in precision_recall_fscore_support(tst_labels, lr_pred, average=None):\n",
    "    print(pcf[1])"
   ]
  },
  {
   "cell_type": "code",
   "execution_count": null,
   "metadata": {},
   "outputs": [],
   "source": [
    "list(tr_labels).count(1)"
   ]
  },
  {
   "cell_type": "code",
   "execution_count": null,
   "metadata": {},
   "outputs": [],
   "source": [
    "print(\"hello\")"
   ]
  },
  {
   "cell_type": "code",
   "execution_count": null,
   "metadata": {},
   "outputs": [],
   "source": [
    "list(tst_labels).count(1)"
   ]
  },
  {
   "cell_type": "code",
   "execution_count": null,
   "metadata": {},
   "outputs": [],
   "source": [
    "list(lr_pred).count(1)"
   ]
  },
  {
   "cell_type": "code",
   "execution_count": 45,
   "metadata": {},
   "outputs": [],
   "source": [
    "import eli5"
   ]
  },
  {
   "cell_type": "code",
   "execution_count": 46,
   "metadata": {},
   "outputs": [],
   "source": [
    "weights_df = eli5.explain_weights_df(clf)"
   ]
  },
  {
   "cell_type": "code",
   "execution_count": 47,
   "metadata": {},
   "outputs": [
    {
     "data": {
      "text/html": [
       "<div>\n",
       "<style scoped>\n",
       "    .dataframe tbody tr th:only-of-type {\n",
       "        vertical-align: middle;\n",
       "    }\n",
       "\n",
       "    .dataframe tbody tr th {\n",
       "        vertical-align: top;\n",
       "    }\n",
       "\n",
       "    .dataframe thead th {\n",
       "        text-align: right;\n",
       "    }\n",
       "</style>\n",
       "<table border=\"1\" class=\"dataframe\">\n",
       "  <thead>\n",
       "    <tr style=\"text-align: right;\">\n",
       "      <th></th>\n",
       "      <th>target</th>\n",
       "      <th>feature</th>\n",
       "      <th>weight</th>\n",
       "    </tr>\n",
       "  </thead>\n",
       "  <tbody>\n",
       "    <tr>\n",
       "      <th>0</th>\n",
       "      <td>1.0</td>\n",
       "      <td>x42</td>\n",
       "      <td>3.554073</td>\n",
       "    </tr>\n",
       "    <tr>\n",
       "      <th>1</th>\n",
       "      <td>1.0</td>\n",
       "      <td>x19</td>\n",
       "      <td>2.829777</td>\n",
       "    </tr>\n",
       "    <tr>\n",
       "      <th>2</th>\n",
       "      <td>1.0</td>\n",
       "      <td>x1992</td>\n",
       "      <td>2.306070</td>\n",
       "    </tr>\n",
       "    <tr>\n",
       "      <th>3</th>\n",
       "      <td>1.0</td>\n",
       "      <td>x13</td>\n",
       "      <td>2.115405</td>\n",
       "    </tr>\n",
       "    <tr>\n",
       "      <th>4</th>\n",
       "      <td>1.0</td>\n",
       "      <td>x97</td>\n",
       "      <td>1.625335</td>\n",
       "    </tr>\n",
       "    <tr>\n",
       "      <th>...</th>\n",
       "      <td>...</td>\n",
       "      <td>...</td>\n",
       "      <td>...</td>\n",
       "    </tr>\n",
       "    <tr>\n",
       "      <th>6357</th>\n",
       "      <td>1.0</td>\n",
       "      <td>x963</td>\n",
       "      <td>-1.105894</td>\n",
       "    </tr>\n",
       "    <tr>\n",
       "      <th>6358</th>\n",
       "      <td>1.0</td>\n",
       "      <td>x17</td>\n",
       "      <td>-1.162078</td>\n",
       "    </tr>\n",
       "    <tr>\n",
       "      <th>6359</th>\n",
       "      <td>1.0</td>\n",
       "      <td>x376</td>\n",
       "      <td>-1.169265</td>\n",
       "    </tr>\n",
       "    <tr>\n",
       "      <th>6360</th>\n",
       "      <td>1.0</td>\n",
       "      <td>x2</td>\n",
       "      <td>-1.343590</td>\n",
       "    </tr>\n",
       "    <tr>\n",
       "      <th>6361</th>\n",
       "      <td>1.0</td>\n",
       "      <td>&lt;BIAS&gt;</td>\n",
       "      <td>-2.753407</td>\n",
       "    </tr>\n",
       "  </tbody>\n",
       "</table>\n",
       "<p>6362 rows × 3 columns</p>\n",
       "</div>"
      ],
      "text/plain": [
       "      target feature    weight\n",
       "0        1.0     x42  3.554073\n",
       "1        1.0     x19  2.829777\n",
       "2        1.0   x1992  2.306070\n",
       "3        1.0     x13  2.115405\n",
       "4        1.0     x97  1.625335\n",
       "...      ...     ...       ...\n",
       "6357     1.0    x963 -1.105894\n",
       "6358     1.0     x17 -1.162078\n",
       "6359     1.0    x376 -1.169265\n",
       "6360     1.0      x2 -1.343590\n",
       "6361     1.0  <BIAS> -2.753407\n",
       "\n",
       "[6362 rows x 3 columns]"
      ]
     },
     "execution_count": 47,
     "metadata": {},
     "output_type": "execute_result"
    }
   ],
   "source": [
    "weights_df"
   ]
  },
  {
   "cell_type": "code",
   "execution_count": 48,
   "metadata": {},
   "outputs": [],
   "source": [
    "feature_graphs = model.get_feature_graphs()"
   ]
  },
  {
   "cell_type": "code",
   "execution_count": 51,
   "metadata": {},
   "outputs": [
    {
     "name": "stdout",
     "output_type": "stream",
     "text": [
      "(u_29 / to  :2 (u_4 / entity2))\n"
     ]
    }
   ],
   "source": [
    "feature_graph_strings = model.get_feature_graph_strings()\n",
    "most_important_weights = weights_df.iloc[:10].feature.str.strip(\"x\").tolist()\n",
    "g = feature_graph_strings[model.inverse_relabel[int(most_important_weights[0])]]\n",
    "print(g)"
   ]
  },
  {
   "cell_type": "code",
   "execution_count": null,
   "metadata": {},
   "outputs": [],
   "source": [
    "import networkx as nx\n",
    "all_features = nx.MultiDiGraph()"
   ]
  },
  {
   "cell_type": "code",
   "execution_count": null,
   "metadata": {},
   "outputs": [],
   "source": [
    "for i, t in enumerate(weights_df.iloc[:10].feature.str.strip(\"x\").tolist()):\n",
    "    node_to_string = {}\n",
    "    g = feature_graphs[model.inverse_relabel[int(t)]]\n",
    "    nodes = []\n",
    "    for n in g.nodes(data=True):\n",
    "        n_post = n[1][\"name\"]+\"_feature\"+str(i)\n",
    "        nodes.append(n_post)\n",
    "        node_to_string[n[0]] = n_post\n",
    "    all_features.add_nodes_from(nodes)\n",
    "    \n",
    "    for e in g.edges(data=True):\n",
    "        all_features.add_edge(node_to_string[e[0]], node_to_string[e[1]], color=e[2][\"color\"])\n",
    "        "
   ]
  },
  {
   "cell_type": "code",
   "execution_count": null,
   "metadata": {},
   "outputs": [],
   "source": [
    "from graphviz import Digraph\n",
    "from graphviz import Source\n",
    "# Create Digraph object\n",
    "dot = to_dot(all_features, integ=True)\n",
    "Source(dot)"
   ]
  },
  {
   "cell_type": "code",
   "execution_count": null,
   "metadata": {},
   "outputs": [],
   "source": [
    "from graphviz import Digraph\n",
    "from graphviz import Source\n",
    "# Create Digraph object\n",
    "dot = to_dot(feature_graphs[model.inverse_relabel[42]])"
   ]
  },
  {
   "cell_type": "code",
   "execution_count": null,
   "metadata": {},
   "outputs": [],
   "source": [
    "dots = []\n",
    "\n",
    "for t in weights_df.iloc[:10].feature.str.strip(\"x\").tolist():\n",
    "    dots.append(feature_graphs[model.inverse_relabel[int(t)]])\n",
    "\n",
    "Source(to_dots(dots))"
   ]
  },
  {
   "cell_type": "code",
   "execution_count": null,
   "metadata": {},
   "outputs": [],
   "source": [
    "import re\n",
    "\n",
    "def d_clean(string):\n",
    "    s = string\n",
    "    for c in '\\\\=@-,\\'\".!:;<>/{}[]()#^?':\n",
    "        s = s.replace(c, '_')\n",
    "    s = s.replace('$', '_dollars')\n",
    "    s = s.replace('%', '_percent')\n",
    "    s = s.replace('|', ' ')\n",
    "    s = s.replace('*', ' ')\n",
    "    if s == '#':\n",
    "        s = '_number'\n",
    "    keywords = (\"graph\", \"node\", \"strict\", \"edge\")\n",
    "    if re.match('^[0-9]', s) or s in keywords:\n",
    "        s = \"X\" + s\n",
    "    return s\n",
    "\n",
    "def to_dots(graphs, marked_nodes=set(), integ=False):\n",
    "    lines = [u'digraph finite_state_machine {', '\\tdpi=70;']\n",
    "    # lines.append('\\tordering=out;')\n",
    "    # sorting everything to make the process deterministic\n",
    "    for i, graph in enumerate(graphs):\n",
    "        s = \"subgraph cluster_\" + chr(ord('@')+i+1) + \" {\"\n",
    "        node_lines = []\n",
    "\n",
    "        node_lines.append(s)\n",
    "        node_to_name = {}\n",
    "        for node, n_data in graph.nodes(data=True):\n",
    "            if integ:\n",
    "                d_node = d_clean(str(node))\n",
    "            else:    \n",
    "                d_node = d_clean(n_data[\"name\"])\n",
    "            printname = d_node\n",
    "            node_to_name[node] = printname\n",
    "            if 'expanded' in n_data and n_data['expanded'] and printname in marked_nodes:\n",
    "                node_line = u'\\t{0} [shape = circle, label = \"{1}\", \\\n",
    "                        style=filled, fillcolor=purple];'.format(\n",
    "                    d_node, printname).replace('-', '_')\n",
    "            elif 'expanded' in n_data and n_data['expanded']:\n",
    "                node_line = u'\\t{0} [shape = circle, label = \"{1}\", \\\n",
    "                        style=\"filled\"];'.format(\n",
    "                    d_node, printname).replace('-', '_')\n",
    "            elif 'fourlang' in n_data and n_data['fourlang']:\n",
    "                node_line = u'\\t{0} [shape = circle, label = \"{1}\", \\\n",
    "                        style=\"filled\", fillcolor=red];'.format(\n",
    "                    d_node, printname).replace('-', '_')\n",
    "            elif 'substituted' in n_data and n_data['substituted']:\n",
    "                node_line = u'\\t{0} [shape = circle, label = \"{1}\", \\\n",
    "                        style=\"filled\"];'.format(\n",
    "                    d_node, printname).replace('-', '_')\n",
    "            elif printname in marked_nodes:\n",
    "                node_line = u'\\t{0} [shape = circle, label = \"{1}\", style=filled, fillcolor=lightblue];'.format(\n",
    "                    d_node, printname).replace('-', '_')\n",
    "            else:\n",
    "                node_line = u'\\t{0} [shape = circle, label = \"{1}\"];'.format(\n",
    "                    d_node, printname).replace('-', '_')\n",
    "            node_lines.append(node_line)\n",
    "        lines += sorted(node_lines)\n",
    "\n",
    "        edge_lines = []\n",
    "        for u, v, edata in graph.edges(data=True):\n",
    "            if 'color' in edata:\n",
    "                d_node1 = node_to_name[u]\n",
    "                d_node2 = node_to_name[v]\n",
    "                edge_lines.append(\n",
    "                    u'\\t{0} -> {1} [ label = \"{2}\" ];'.format(d_node1, d_node2, edata['color']))\n",
    "\n",
    "        lines += sorted(edge_lines)\n",
    "        lines.append('}')\n",
    "    lines.append('}')\n",
    "    return u'\\n'.join(lines)\n",
    "\n",
    "def to_dot(graph, marked_nodes=set(), integ=False):\n",
    "    lines = [u'digraph finite_state_machine {', '\\tdpi=70;']\n",
    "    # lines.append('\\tordering=out;')\n",
    "    # sorting everything to make the process deterministic\n",
    "    node_lines = []\n",
    "    node_to_name = {}\n",
    "    for node, n_data in graph.nodes(data=True):\n",
    "        if integ:\n",
    "            d_node = d_clean(str(node))\n",
    "        else:    \n",
    "            d_node = d_clean(n_data[\"name\"])\n",
    "        printname = d_node\n",
    "        node_to_name[node] = printname\n",
    "        if 'expanded' in n_data and n_data['expanded'] and printname in marked_nodes:\n",
    "            node_line = u'\\t{0} [shape = circle, label = \"{1}\", \\\n",
    "                    style=filled, fillcolor=purple];'.format(\n",
    "                d_node, printname).replace('-', '_')\n",
    "        elif 'expanded' in n_data and n_data['expanded']:\n",
    "            node_line = u'\\t{0} [shape = circle, label = \"{1}\", \\\n",
    "                    style=\"filled\"];'.format(\n",
    "                d_node, printname).replace('-', '_')\n",
    "        elif 'fourlang' in n_data and n_data['fourlang']:\n",
    "            node_line = u'\\t{0} [shape = circle, label = \"{1}\", \\\n",
    "                    style=\"filled\", fillcolor=red];'.format(\n",
    "                d_node, printname).replace('-', '_')\n",
    "        elif 'substituted' in n_data and n_data['substituted']:\n",
    "            node_line = u'\\t{0} [shape = circle, label = \"{1}\", \\\n",
    "                    style=\"filled\"];'.format(\n",
    "                d_node, printname).replace('-', '_')\n",
    "        elif printname in marked_nodes:\n",
    "            node_line = u'\\t{0} [shape = circle, label = \"{1}\", style=filled, fillcolor=lightblue];'.format(\n",
    "                d_node, printname).replace('-', '_')\n",
    "        else:\n",
    "            node_line = u'\\t{0} [shape = circle, label = \"{1}\"];'.format(\n",
    "                d_node, printname).replace('-', '_')\n",
    "        node_lines.append(node_line)\n",
    "    lines += sorted(node_lines)\n",
    "\n",
    "    edge_lines = []\n",
    "    for u, v, edata in graph.edges(data=True):\n",
    "        if 'color' in edata:\n",
    "            d_node1 = node_to_name[u]\n",
    "            d_node2 = node_to_name[v]\n",
    "            edge_lines.append(\n",
    "                u'\\t{0} -> {1} [ label = \"{2}\" ];'.format(d_node1, d_node2, edata['color']))\n",
    "\n",
    "    lines += sorted(edge_lines)\n",
    "    lines.append('}')\n",
    "    return u'\\n'.join(lines)"
   ]
  },
  {
   "cell_type": "code",
   "execution_count": null,
   "metadata": {},
   "outputs": [],
   "source": [
    "from sklearn.feature_selection import SelectKBest\n",
    "from sklearn.feature_selection import chi2"
   ]
  },
  {
   "cell_type": "code",
   "execution_count": null,
   "metadata": {},
   "outputs": [],
   "source": [
    "chi2_selector = SelectKBest(chi2, k=10)\n",
    "X_kbest = chi2_selector.fit_transform(X, Y)"
   ]
  },
  {
   "cell_type": "code",
   "execution_count": null,
   "metadata": {},
   "outputs": [],
   "source": [
    "chi2_selector.get_support(indices=True)"
   ]
  },
  {
   "cell_type": "code",
   "execution_count": null,
   "metadata": {},
   "outputs": [],
   "source": [
    "for i, g in enumerate(feature_graphs):\n",
    "    if len(g.edges()) != 1:\n",
    "        print(len(g.edges()))"
   ]
  },
  {
   "cell_type": "code",
   "execution_count": null,
   "metadata": {},
   "outputs": [],
   "source": [
    "dot = to_dot(feature_graphs[2450])\n",
    "Source(dot)"
   ]
  },
  {
   "cell_type": "code",
   "execution_count": null,
   "metadata": {},
   "outputs": [],
   "source": [
    "dot = to_dot(graphs[0])\n",
    "Source(dot)"
   ]
  },
  {
   "cell_type": "code",
   "execution_count": null,
   "metadata": {},
   "outputs": [],
   "source": [
    "tests = []\n",
    "\n",
    "for l in model.lexgraphs.gen_lex_subgraphs(graphs[0], 1):\n",
    "    print(l)\n",
    "    tests.append(l[1])"
   ]
  },
  {
   "cell_type": "code",
   "execution_count": null,
   "metadata": {},
   "outputs": [],
   "source": [
    "dot = to_dot(tests[3])\n",
    "Source(dot)"
   ]
  },
  {
   "cell_type": "code",
   "execution_count": null,
   "metadata": {},
   "outputs": [],
   "source": [
    "from networkx.convert import from_dict_of_dicts as fdd\n",
    "from networkx.convert import to_dict_of_dicts as tdd\n",
    "\n",
    "H_dict = tdd(graphs[0])\n",
    "H_dict"
   ]
  },
  {
   "cell_type": "code",
   "execution_count": null,
   "metadata": {},
   "outputs": [],
   "source": [
    "import networkx as nx\n",
    "G = nx.MultiDiGraph()\n",
    "\n",
    "fdd(H_dict,create_using=nx.MultiDiGraph()).edges(data=True)"
   ]
  },
  {
   "cell_type": "code",
   "execution_count": null,
   "metadata": {},
   "outputs": [],
   "source": [
    "dot = to_dot(graphs[0], integ=True)\n",
    "Source(dot)"
   ]
  },
  {
   "cell_type": "code",
   "execution_count": null,
   "metadata": {},
   "outputs": [],
   "source": [
    "def gen_subgraphs(M, no_edges):\n",
    "    #print(no_edges)\n",
    "    \"\"\"M must be dict of dicts, see networkx.convert.to_dict_of_dicts.\n",
    "    Generates dicts of dicts, use networkx.convert.from_dict_of_dicts\"\"\"\n",
    "    if no_edges == 0:\n",
    "        yield from ({v: {}} for v in M)\n",
    "        return\n",
    "    for s_graph in gen_subgraphs(M, no_edges-1):\n",
    "        if no_edges >= 2:\n",
    "            yield s_graph\n",
    "        # print('sgraph:', s_graph)\n",
    "        for node in M:\n",
    "            #print(node)\n",
    "            #print(M[node].items())\n",
    "            for neighbor, edge in M[node].items():\n",
    "                #print(neighbor)\n",
    "                #print(edge)\n",
    "                if node in s_graph and neighbor in s_graph[node]:\n",
    "                    continue\n",
    "                if node not in s_graph and neighbor not in s_graph:\n",
    "                    continue\n",
    "\n",
    "                new_graph = s_graph.copy()\n",
    "                if node not in new_graph:\n",
    "                    new_graph[node] = {neighbor: edge}\n",
    "                else:\n",
    "                    new_graph[node][neighbor] = edge\n",
    "                yield new_graph"
   ]
  },
  {
   "cell_type": "code",
   "execution_count": null,
   "metadata": {},
   "outputs": [],
   "source": [
    "for i in gen_subgraphs(H_dict, 1):\n",
    "    #pass\n",
    "    print(i)\n",
    "    sgraph = fdd(i, create_using=nx.MultiDiGraph())\n",
    "    print(sgraph.edges(data=True))"
   ]
  },
  {
   "cell_type": "code",
   "execution_count": null,
   "metadata": {},
   "outputs": [],
   "source": [
    "t = graphs[0].copy()"
   ]
  },
  {
   "cell_type": "code",
   "execution_count": null,
   "metadata": {},
   "outputs": [],
   "source": [
    "from collections import Counter\n",
    "\n",
    "s = Counter()\n",
    "\n",
    "s[\"banana\"] += 1"
   ]
  },
  {
   "cell_type": "code",
   "execution_count": null,
   "metadata": {},
   "outputs": [],
   "source": [
    "s.most_common(1)"
   ]
  },
  {
   "cell_type": "code",
   "execution_count": null,
   "metadata": {},
   "outputs": [],
   "source": []
  }
 ],
 "metadata": {
  "kernelspec": {
   "display_name": "Python 3",
   "language": "python",
   "name": "python3"
  },
  "language_info": {
   "codemirror_mode": {
    "name": "ipython",
    "version": 3
   },
   "file_extension": ".py",
   "mimetype": "text/x-python",
   "name": "python",
   "nbconvert_exporter": "python",
   "pygments_lexer": "ipython3",
   "version": "3.9.2"
  }
 },
 "nbformat": 4,
 "nbformat_minor": 2
}
