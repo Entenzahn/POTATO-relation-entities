{
 "cells": [
  {
   "cell_type": "code",
   "execution_count": 1,
   "metadata": {},
   "outputs": [
    {
     "data": {
      "text/plain": [
       "True"
      ]
     },
     "execution_count": 1,
     "metadata": {},
     "output_type": "execute_result"
    }
   ],
   "source": [
    "from exprel.dataset.semeval_dataset import SemevalDataset\n",
    "import exprel.utils\n",
    "from dotenv import load_dotenv \n",
    "load_dotenv()"
   ]
  },
  {
   "cell_type": "code",
   "execution_count": 2,
   "metadata": {},
   "outputs": [
    {
     "name": "stderr",
     "output_type": "stream",
     "text": [
      "2021-05-05 13:02:37 INFO: Loading these models for language: en (English):\n",
      "=========================\n",
      "| Processor | Package   |\n",
      "-------------------------\n",
      "| tokenize  | combined  |\n",
      "| pos       | combined  |\n",
      "| lemma     | combined  |\n",
      "| depparse  | combined  |\n",
      "| sentiment | sstplus   |\n",
      "| ner       | ontonotes |\n",
      "=========================\n",
      "\n",
      "/home/kovacs/miniconda3/envs/rel/lib/python3.9/site-packages/torch/cuda/__init__.py:52: UserWarning: CUDA initialization: The NVIDIA driver on your system is too old (found version 6050). Please update your GPU driver by downloading and installing a new version from the URL: http://www.nvidia.com/Download/index.aspx Alternatively, go to: https://pytorch.org to install a PyTorch version that has been compiled with your version of the CUDA driver. (Triggered internally at  /pytorch/c10/cuda/CUDAFunctions.cpp:109.)\n",
      "  return torch._C._cuda_getDeviceCount() > 0\n",
      "2021-05-05 13:02:37 INFO: Use device: cpu\n",
      "2021-05-05 13:02:37 INFO: Loading: tokenize\n",
      "2021-05-05 13:02:37 INFO: Loading: pos\n",
      "2021-05-05 13:02:38 INFO: Loading: lemma\n",
      "2021-05-05 13:02:38 INFO: Loading: depparse\n",
      "2021-05-05 13:02:38 INFO: Loading: sentiment\n",
      "2021-05-05 13:02:39 INFO: Loading: ner\n",
      "2021-05-05 13:02:41 INFO: Done loading processors!\n",
      "0it [00:00, ?it/s]/home/kovacs/projects/exp-relation-extraction/exprel/dataset/semeval_sample.py:33: GuessedAtParserWarning: No parser was explicitly specified, so I'm using the best available HTML parser for this system (\"html.parser\"). This usually isn't a problem, but if you run this code on another system, or in a different virtual environment, it may use a different parser and behave differently.\n",
      "\n",
      "The code that caused this warning is on line 33 of the file /home/kovacs/projects/exp-relation-extraction/exprel/dataset/semeval_sample.py. To get rid of this warning, pass the additional argument 'features=\"html.parser\"' to the BeautifulSoup constructor.\n",
      "\n",
      "  soup = BeautifulSoup(sen)\n",
      "8000it [00:12, 652.89it/s]\n"
     ]
    }
   ],
   "source": [
    "data = SemevalDataset(\"/home/kovacs/projects/exp-relation-extraction/data/semeval_train.txt\")"
   ]
  },
  {
   "cell_type": "code",
   "execution_count": 3,
   "metadata": {},
   "outputs": [],
   "source": [
    "data.load_graphs(\"pickle.dat\")"
   ]
  },
  {
   "cell_type": "code",
   "execution_count": 4,
   "metadata": {},
   "outputs": [],
   "source": [
    "df = data.to_dataframe()"
   ]
  },
  {
   "cell_type": "code",
   "execution_count": 5,
   "metadata": {},
   "outputs": [],
   "source": [
    "df_entity_des = df[df.label == \"Entity-Destination(e2,e1)\"]\n",
    "df = df.drop(df_entity_des.index, axis=0)"
   ]
  },
  {
   "cell_type": "code",
   "execution_count": 6,
   "metadata": {},
   "outputs": [
    {
     "data": {
      "text/plain": [
       "label\n",
       "Cause-Effect(e1,e2)           344\n",
       "Cause-Effect(e2,e1)           659\n",
       "Component-Whole(e1,e2)        470\n",
       "Component-Whole(e2,e1)        471\n",
       "Content-Container(e1,e2)      374\n",
       "Content-Container(e2,e1)      166\n",
       "Entity-Destination(e1,e2)     844\n",
       "Entity-Origin(e1,e2)          568\n",
       "Entity-Origin(e2,e1)          148\n",
       "Instrument-Agency(e1,e2)       97\n",
       "Instrument-Agency(e2,e1)      407\n",
       "Member-Collection(e1,e2)       78\n",
       "Member-Collection(e2,e1)      612\n",
       "Message-Topic(e1,e2)          490\n",
       "Message-Topic(e2,e1)          144\n",
       "Other                        1410\n",
       "Product-Producer(e1,e2)       323\n",
       "Product-Producer(e2,e1)       394\n",
       "dtype: int64"
      ]
     },
     "execution_count": 6,
     "metadata": {},
     "output_type": "execute_result"
    }
   ],
   "source": [
    "df.groupby(\"label\").size()"
   ]
  },
  {
   "cell_type": "code",
   "execution_count": 7,
   "metadata": {},
   "outputs": [],
   "source": [
    "import pandas as pd\n",
    "\n",
    "ids = pd.to_numeric(df.sen_id).tolist()\n",
    "sentences = df.sentence.tolist()\n",
    "labels = df.label_id.tolist()\n",
    "postprocessed_graphs = df.graph.tolist()"
   ]
  },
  {
   "cell_type": "code",
   "execution_count": 8,
   "metadata": {},
   "outputs": [
    {
     "name": "stderr",
     "output_type": "stream",
     "text": [
      "WARNING:root:loading cache from file: cache/UD_Fourlang.json\n",
      "WARNING:root:loaded cache from cache/UD_Fourlang.json with interpretations: ['fourlang', 'ud']\n"
     ]
    }
   ],
   "source": [
    "from exprel.feature_extractor.extract import FeatureExtractor\n",
    "from exprel.models.model import GraphModel\n",
    "\n",
    "extractor = FeatureExtractor()\n",
    "model = GraphModel()"
   ]
  },
  {
   "cell_type": "code",
   "execution_count": 9,
   "metadata": {
    "tags": []
   },
   "outputs": [
    {
     "name": "stderr",
     "output_type": "stream",
     "text": [
      "7999it [06:33, 20.34it/s]\n"
     ]
    }
   ],
   "source": [
    "from tqdm import tqdm\n",
    "\n",
    "for ind, graph, label in tqdm(zip(ids, postprocessed_graphs, labels)):\n",
    "    model.featurize_sen_graph(ind, graph, label, 3)"
   ]
  },
  {
   "cell_type": "code",
   "execution_count": 10,
   "metadata": {},
   "outputs": [
    {
     "data": {
      "text/plain": [
       "387499"
      ]
     },
     "execution_count": 10,
     "metadata": {},
     "output_type": "execute_result"
    }
   ],
   "source": [
    "model.vocab_size"
   ]
  },
  {
   "cell_type": "code",
   "execution_count": 11,
   "metadata": {},
   "outputs": [],
   "source": [
    "feature_graphs = model.get_feature_graphs()"
   ]
  },
  {
   "cell_type": "code",
   "execution_count": 12,
   "metadata": {},
   "outputs": [],
   "source": [
    "model.select_n_best_from_each_class(400, feature_graphs)"
   ]
  },
  {
   "cell_type": "code",
   "execution_count": 13,
   "metadata": {},
   "outputs": [],
   "source": [
    "X, Y = model.get_x_y(df.label.tolist())"
   ]
  },
  {
   "cell_type": "code",
   "execution_count": 14,
   "metadata": {},
   "outputs": [],
   "source": [
    "from sklearn.model_selection import train_test_split as split\n",
    "\n",
    "tr_data,tst_data,tr_labels,tst_labels = split(X,Y, test_size=0.2, random_state=1234)"
   ]
  },
  {
   "cell_type": "code",
   "execution_count": 34,
   "metadata": {},
   "outputs": [],
   "source": [
    "from sklearn.tree import DecisionTreeClassifier\n",
    "from sklearn.multiclass import OneVsRestClassifier\n",
    "from sklearn.ensemble import GradientBoostingClassifier\n",
    "from sklearn.linear_model import LogisticRegression\n",
    "#clf = LogisticRegression(random_state=0).fit(tr_data, tr_labels)\n",
    "clf = OneVsRestClassifier(DecisionTreeClassifier(random_state=0, max_depth=4)).fit(tr_data, tr_labels)"
   ]
  },
  {
   "cell_type": "code",
   "execution_count": 201,
   "metadata": {},
   "outputs": [
    {
     "name": "stdout",
     "output_type": "stream",
     "text": [
      "                           precision    recall  f1-score   support\n",
      "\n",
      "   Component-Whole(e2,e1)       0.69      0.25      0.37       384\n",
      "                    Other       0.24      0.48      0.32      1127\n",
      " Instrument-Agency(e2,e1)       0.53      0.50      0.52       323\n",
      " Member-Collection(e1,e2)       0.65      0.17      0.28        63\n",
      "      Cause-Effect(e2,e1)       0.97      0.43      0.59       533\n",
      "Entity-Destination(e1,e2)       0.74      0.80      0.77       648\n",
      " Content-Container(e1,e2)       0.43      0.67      0.53       298\n",
      "     Message-Topic(e1,e2)       0.69      0.07      0.13       391\n",
      "  Product-Producer(e2,e1)       0.55      0.31      0.40       324\n",
      " Member-Collection(e2,e1)       0.41      0.88      0.56       496\n",
      "     Entity-Origin(e1,e2)       0.64      0.63      0.63       474\n",
      "      Cause-Effect(e1,e2)       0.87      0.62      0.73       271\n",
      "   Component-Whole(e1,e2)       0.55      0.15      0.23       375\n",
      "     Message-Topic(e2,e1)       0.81      0.14      0.23       124\n",
      "  Product-Producer(e1,e2)       0.61      0.15      0.24       245\n",
      "     Entity-Origin(e2,e1)       0.45      0.13      0.20       118\n",
      " Content-Container(e2,e1)       0.81      0.50      0.61       125\n",
      " Instrument-Agency(e1,e2)       0.79      0.34      0.47        80\n",
      "\n",
      "                 accuracy                           0.47      6399\n",
      "                macro avg       0.64      0.40      0.43      6399\n",
      "             weighted avg       0.58      0.47      0.46      6399\n",
      "\n"
     ]
    }
   ],
   "source": [
    "from sklearn.metrics import precision_recall_fscore_support\n",
    "from sklearn.metrics import classification_report\n",
    "keys = model.label_vocab.word_to_id.keys()\n",
    "labels_to_result = {}\n",
    "lr_pred = clf.predict(tr_data)\n",
    "#prf = precision_recall_fscore_support(tst_labels, lr_pred, average=None)\n",
    "print(classification_report(tr_labels, lr_pred, target_names=keys, output_dict=False))"
   ]
  },
  {
   "cell_type": "code",
   "execution_count": 36,
   "metadata": {},
   "outputs": [
    {
     "data": {
      "text/plain": [
       "{'Component-Whole(e2,e1)': {'precision': 0.6906474820143885,\n",
       "  'recall': 0.25,\n",
       "  'f1-score': 0.367112810707457,\n",
       "  'support': 384},\n",
       " 'Other': {'precision': 0.23948649845064188,\n",
       "  'recall': 0.4800354924578527,\n",
       "  'f1-score': 0.3195510927347903,\n",
       "  'support': 1127},\n",
       " 'Instrument-Agency(e2,e1)': {'precision': 0.5326797385620915,\n",
       "  'recall': 0.5046439628482973,\n",
       "  'f1-score': 0.5182829888712243,\n",
       "  'support': 323},\n",
       " 'Member-Collection(e1,e2)': {'precision': 0.6470588235294118,\n",
       "  'recall': 0.1746031746031746,\n",
       "  'f1-score': 0.275,\n",
       "  'support': 63},\n",
       " 'Cause-Effect(e2,e1)': {'precision': 0.9743589743589743,\n",
       "  'recall': 0.4277673545966229,\n",
       "  'f1-score': 0.5945241199478488,\n",
       "  'support': 533},\n",
       " 'Entity-Destination(e1,e2)': {'precision': 0.7421203438395415,\n",
       "  'recall': 0.7993827160493827,\n",
       "  'f1-score': 0.7696879643387816,\n",
       "  'support': 648},\n",
       " 'Content-Container(e1,e2)': {'precision': 0.43412526997840173,\n",
       "  'recall': 0.674496644295302,\n",
       "  'f1-score': 0.5282522996057819,\n",
       "  'support': 298},\n",
       " 'Message-Topic(e1,e2)': {'precision': 0.6904761904761905,\n",
       "  'recall': 0.0741687979539642,\n",
       "  'f1-score': 0.13394919168591224,\n",
       "  'support': 391},\n",
       " 'Product-Producer(e2,e1)': {'precision': 0.5543478260869565,\n",
       "  'recall': 0.3148148148148148,\n",
       "  'f1-score': 0.4015748031496063,\n",
       "  'support': 324},\n",
       " 'Member-Collection(e2,e1)': {'precision': 0.4087932647333957,\n",
       "  'recall': 0.8810483870967742,\n",
       "  'f1-score': 0.5584664536741215,\n",
       "  'support': 496},\n",
       " 'Entity-Origin(e1,e2)': {'precision': 0.6381156316916489,\n",
       "  'recall': 0.6286919831223629,\n",
       "  'f1-score': 0.6333687566418704,\n",
       "  'support': 474},\n",
       " 'Cause-Effect(e1,e2)': {'precision': 0.8666666666666667,\n",
       "  'recall': 0.6236162361623616,\n",
       "  'f1-score': 0.7253218884120172,\n",
       "  'support': 271},\n",
       " 'Component-Whole(e1,e2)': {'precision': 0.55,\n",
       "  'recall': 0.14666666666666667,\n",
       "  'f1-score': 0.23157894736842105,\n",
       "  'support': 375},\n",
       " 'Message-Topic(e2,e1)': {'precision': 0.8095238095238095,\n",
       "  'recall': 0.13709677419354838,\n",
       "  'f1-score': 0.23448275862068962,\n",
       "  'support': 124},\n",
       " 'Product-Producer(e1,e2)': {'precision': 0.6065573770491803,\n",
       "  'recall': 0.1510204081632653,\n",
       "  'f1-score': 0.24183006535947713,\n",
       "  'support': 245},\n",
       " 'Entity-Origin(e2,e1)': {'precision': 0.45454545454545453,\n",
       "  'recall': 0.1271186440677966,\n",
       "  'f1-score': 0.19867549668874174,\n",
       "  'support': 118},\n",
       " 'Content-Container(e2,e1)': {'precision': 0.8051948051948052,\n",
       "  'recall': 0.496,\n",
       "  'f1-score': 0.6138613861386139,\n",
       "  'support': 125},\n",
       " 'Instrument-Agency(e1,e2)': {'precision': 0.7941176470588235,\n",
       "  'recall': 0.3375,\n",
       "  'f1-score': 0.47368421052631576,\n",
       "  'support': 80},\n",
       " 'accuracy': 0.469760900140647,\n",
       " 'macro avg': {'precision': 0.6354897668755768,\n",
       "  'recall': 0.4015928920606771,\n",
       "  'f1-score': 0.4344002908039817,\n",
       "  'support': 6399},\n",
       " 'weighted avg': {'precision': 0.5845068420398947,\n",
       "  'recall': 0.469760900140647,\n",
       "  'f1-score': 0.457633122987852,\n",
       "  'support': 6399}}"
      ]
     },
     "execution_count": 36,
     "metadata": {},
     "output_type": "execute_result"
    }
   ],
   "source": [
    "s"
   ]
  },
  {
   "cell_type": "code",
   "execution_count": 18,
   "metadata": {},
   "outputs": [
    {
     "data": {
      "text/plain": [
       "[DecisionTreeClassifier(max_depth=6, random_state=0),\n",
       " DecisionTreeClassifier(max_depth=6, random_state=0),\n",
       " DecisionTreeClassifier(max_depth=6, random_state=0),\n",
       " DecisionTreeClassifier(max_depth=6, random_state=0),\n",
       " DecisionTreeClassifier(max_depth=6, random_state=0),\n",
       " DecisionTreeClassifier(max_depth=6, random_state=0),\n",
       " DecisionTreeClassifier(max_depth=6, random_state=0),\n",
       " DecisionTreeClassifier(max_depth=6, random_state=0),\n",
       " DecisionTreeClassifier(max_depth=6, random_state=0),\n",
       " DecisionTreeClassifier(max_depth=6, random_state=0),\n",
       " DecisionTreeClassifier(max_depth=6, random_state=0),\n",
       " DecisionTreeClassifier(max_depth=6, random_state=0),\n",
       " DecisionTreeClassifier(max_depth=6, random_state=0),\n",
       " DecisionTreeClassifier(max_depth=6, random_state=0),\n",
       " DecisionTreeClassifier(max_depth=6, random_state=0),\n",
       " DecisionTreeClassifier(max_depth=6, random_state=0),\n",
       " DecisionTreeClassifier(max_depth=6, random_state=0),\n",
       " DecisionTreeClassifier(max_depth=6, random_state=0)]"
      ]
     },
     "execution_count": 18,
     "metadata": {},
     "output_type": "execute_result"
    }
   ],
   "source": [
    "clf.estimators_"
   ]
  },
  {
   "cell_type": "code",
   "execution_count": 223,
   "metadata": {},
   "outputs": [],
   "source": [
    "from sklearn.tree import _tree\n",
    "import numpy as np\n",
    "\n",
    "def tree_to_code(tree):\n",
    "    tree_ = tree.tree_\n",
    "    feature_name = [\n",
    "        feature_graph_strings[model.inverse_relabel[int(i)]] if i != _tree.TREE_UNDEFINED else \"undefined!\"\n",
    "        for i in tree_.feature\n",
    "    ]\n",
    "    \n",
    "    def recurse(node, depth):\n",
    "        indent = \"  \" * depth\n",
    "        if tree_.feature[node] != _tree.TREE_UNDEFINED:\n",
    "            name = feature_name[node]\n",
    "            threshold = tree_.threshold[node]\n",
    "            print(\"{}if {} <= {}:\".format(indent, name, threshold))\n",
    "            for path in recurse(tree_.children_left[node], depth + 1):\n",
    "                yield [path[0], path[1] + [name], path[2]]\n",
    "            print(\"{}else:  # if {} > {}\".format(indent, name, threshold))\n",
    "            for path in recurse(tree_.children_right[node], depth + 1):\n",
    "                yield [path[0] + [name], path[1], path[2]]\n",
    "        else:\n",
    "            yield [[], [], np.argmax(tree_.value[node])]\n",
    "            print(\"{}return {}\".format(indent, np.argmax(tree_.value[node])))\n",
    "\n",
    "    return recurse(0, 1)"
   ]
  },
  {
   "cell_type": "code",
   "execution_count": 224,
   "metadata": {},
   "outputs": [
    {
     "name": "stdout",
     "output_type": "stream",
     "text": [
      "  if (u_54 / cause  :1 (u_4 / entity2)) <= 0.5:\n",
      "    if (u_23 / by  :1 (u_54 / cause)) <= 0.5:\n",
      "      if (u_2 / entity1  :0 (u_620 / trigger)) <= 0.5:\n",
      "        if (u_54 / cause  :2 (u_2 / entity1)) <= 0.5:\n",
      "          return 0\n",
      "        else:  # if (u_54 / cause  :2 (u_2 / entity1)) > 0.5\n",
      "          return 1\n",
      "      else:  # if (u_2 / entity1  :0 (u_620 / trigger)) > 0.5\n",
      "        if (u_2 / entity1  :0 (u_4 / entity2)) <= 0.5:\n",
      "          return 1\n",
      "        else:  # if (u_2 / entity1  :0 (u_4 / entity2)) > 0.5\n",
      "          return 0\n",
      "    else:  # if (u_23 / by  :1 (u_54 / cause)) > 0.5\n",
      "      if (u_72 / contain  :2 (u_2 / entity1)) <= 0.5:\n",
      "        if (u_7 / in  :1 (u_578 / work)) <= 0.5:\n",
      "          return 1\n",
      "        else:  # if (u_7 / in  :1 (u_578 / work)) > 0.5\n",
      "          return 0\n",
      "      else:  # if (u_72 / contain  :2 (u_2 / entity1)) > 0.5\n",
      "        return 0\n",
      "  else:  # if (u_54 / cause  :1 (u_4 / entity2)) > 0.5\n",
      "    if (u_2 / entity1  :0 (u_54 / cause)) <= 0.5:\n",
      "      if (u_54 / cause  :2 (u_2 / entity1)  :1 (u_4 / entity2)) <= 0.5:\n",
      "        if (u_873 / ago  :0 (u_235 / year)) <= 0.5:\n",
      "          return 1\n",
      "        else:  # if (u_873 / ago  :0 (u_235 / year)) > 0.5\n",
      "          return 1\n",
      "      else:  # if (u_54 / cause  :2 (u_2 / entity1)  :1 (u_4 / entity2)) > 0.5\n",
      "        return 1\n",
      "    else:  # if (u_2 / entity1  :0 (u_54 / cause)) > 0.5\n",
      "      return 1\n"
     ]
    }
   ],
   "source": [
    "paths = list(tree_to_code(clf.estimators_[4]))"
   ]
  },
  {
   "cell_type": "code",
   "execution_count": 226,
   "metadata": {},
   "outputs": [
    {
     "name": "stdout",
     "output_type": "stream",
     "text": [
      "[[[], ['(u_54 / cause  :2 (u_2 / entity1))', '(u_2 / entity1  :0 (u_620 / trigger))', '(u_23 / by  :1 (u_54 / cause))', '(u_54 / cause  :1 (u_4 / entity2))'], 0], [['(u_54 / cause  :2 (u_2 / entity1))'], ['(u_2 / entity1  :0 (u_620 / trigger))', '(u_23 / by  :1 (u_54 / cause))', '(u_54 / cause  :1 (u_4 / entity2))'], 1], [['(u_2 / entity1  :0 (u_620 / trigger))'], ['(u_2 / entity1  :0 (u_4 / entity2))', '(u_23 / by  :1 (u_54 / cause))', '(u_54 / cause  :1 (u_4 / entity2))'], 1], [['(u_2 / entity1  :0 (u_4 / entity2))', '(u_2 / entity1  :0 (u_620 / trigger))'], ['(u_23 / by  :1 (u_54 / cause))', '(u_54 / cause  :1 (u_4 / entity2))'], 0], [['(u_23 / by  :1 (u_54 / cause))'], ['(u_7 / in  :1 (u_578 / work))', '(u_72 / contain  :2 (u_2 / entity1))', '(u_54 / cause  :1 (u_4 / entity2))'], 1], [['(u_7 / in  :1 (u_578 / work))', '(u_23 / by  :1 (u_54 / cause))'], ['(u_72 / contain  :2 (u_2 / entity1))', '(u_54 / cause  :1 (u_4 / entity2))'], 0], [['(u_72 / contain  :2 (u_2 / entity1))', '(u_23 / by  :1 (u_54 / cause))'], ['(u_54 / cause  :1 (u_4 / entity2))'], 0], [['(u_54 / cause  :1 (u_4 / entity2))'], ['(u_873 / ago  :0 (u_235 / year))', '(u_54 / cause  :2 (u_2 / entity1)  :1 (u_4 / entity2))', '(u_2 / entity1  :0 (u_54 / cause))'], 1], [['(u_873 / ago  :0 (u_235 / year))', '(u_54 / cause  :1 (u_4 / entity2))'], ['(u_54 / cause  :2 (u_2 / entity1)  :1 (u_4 / entity2))', '(u_2 / entity1  :0 (u_54 / cause))'], 1], [['(u_54 / cause  :2 (u_2 / entity1)  :1 (u_4 / entity2))', '(u_54 / cause  :1 (u_4 / entity2))'], ['(u_2 / entity1  :0 (u_54 / cause))'], 1], [['(u_2 / entity1  :0 (u_54 / cause))', '(u_54 / cause  :1 (u_4 / entity2))'], [], 1]]\n"
     ]
    }
   ],
   "source": [
    "feats = [path for path in paths if path[2]]\n",
    "print(paths)"
   ]
  },
  {
   "cell_type": "code",
   "execution_count": 227,
   "metadata": {},
   "outputs": [
    {
     "data": {
      "image/png": "[encoded data removed]",
      "text/plain": [
       "<Figure size 1440x1440 with 1 Axes>"
      ]
     },
     "metadata": {
      "needs_background": "light"
     },
     "output_type": "display_data"
    }
   ],
   "source": [
    "\n",
    "import matplotlib.pyplot as plt\n",
    "plt.figure(figsize=(20,20))\n",
    "\n",
    "from sklearn.tree import plot_tree\n",
    "t = plot_tree(clf.estimators_[4], filled=True, fontsize=7)\n"
   ]
  },
  {
   "cell_type": "code",
   "execution_count": 190,
   "metadata": {},
   "outputs": [],
   "source": [
    "import eli5"
   ]
  },
  {
   "cell_type": "code",
   "execution_count": 191,
   "metadata": {},
   "outputs": [],
   "source": [
    "weights_df = eli5.explain_weights_df(clf.estimators_[4])"
   ]
  },
  {
   "cell_type": "code",
   "execution_count": 192,
   "metadata": {},
   "outputs": [
    {
     "data": {
      "text/html": [
       "<div>\n",
       "<style scoped>\n",
       "    .dataframe tbody tr th:only-of-type {\n",
       "        vertical-align: middle;\n",
       "    }\n",
       "\n",
       "    .dataframe tbody tr th {\n",
       "        vertical-align: top;\n",
       "    }\n",
       "\n",
       "    .dataframe thead th {\n",
       "        text-align: right;\n",
       "    }\n",
       "</style>\n",
       "<table border=\"1\" class=\"dataframe\">\n",
       "  <thead>\n",
       "    <tr style=\"text-align: right;\">\n",
       "      <th></th>\n",
       "      <th>feature</th>\n",
       "      <th>weight</th>\n",
       "    </tr>\n",
       "  </thead>\n",
       "  <tbody>\n",
       "    <tr>\n",
       "      <th>0</th>\n",
       "      <td>x17</td>\n",
       "      <td>0.669851</td>\n",
       "    </tr>\n",
       "    <tr>\n",
       "      <th>1</th>\n",
       "      <td>x116</td>\n",
       "      <td>0.182642</td>\n",
       "    </tr>\n",
       "    <tr>\n",
       "      <th>2</th>\n",
       "      <td>x506</td>\n",
       "      <td>0.071214</td>\n",
       "    </tr>\n",
       "    <tr>\n",
       "      <th>3</th>\n",
       "      <td>x22</td>\n",
       "      <td>0.061967</td>\n",
       "    </tr>\n",
       "    <tr>\n",
       "      <th>4</th>\n",
       "      <td>x992</td>\n",
       "      <td>0.004944</td>\n",
       "    </tr>\n",
       "    <tr>\n",
       "      <th>...</th>\n",
       "      <td>...</td>\n",
       "      <td>...</td>\n",
       "    </tr>\n",
       "    <tr>\n",
       "      <th>1195</th>\n",
       "      <td>x799</td>\n",
       "      <td>0.000000</td>\n",
       "    </tr>\n",
       "    <tr>\n",
       "      <th>1196</th>\n",
       "      <td>x800</td>\n",
       "      <td>0.000000</td>\n",
       "    </tr>\n",
       "    <tr>\n",
       "      <th>1197</th>\n",
       "      <td>x801</td>\n",
       "      <td>0.000000</td>\n",
       "    </tr>\n",
       "    <tr>\n",
       "      <th>1198</th>\n",
       "      <td>x802</td>\n",
       "      <td>0.000000</td>\n",
       "    </tr>\n",
       "    <tr>\n",
       "      <th>1199</th>\n",
       "      <td>x599</td>\n",
       "      <td>0.000000</td>\n",
       "    </tr>\n",
       "  </tbody>\n",
       "</table>\n",
       "<p>1200 rows × 2 columns</p>\n",
       "</div>"
      ],
      "text/plain": [
       "     feature    weight\n",
       "0        x17  0.669851\n",
       "1       x116  0.182642\n",
       "2       x506  0.071214\n",
       "3        x22  0.061967\n",
       "4       x992  0.004944\n",
       "...      ...       ...\n",
       "1195    x799  0.000000\n",
       "1196    x800  0.000000\n",
       "1197    x801  0.000000\n",
       "1198    x802  0.000000\n",
       "1199    x599  0.000000\n",
       "\n",
       "[1200 rows x 2 columns]"
      ]
     },
     "execution_count": 192,
     "metadata": {},
     "output_type": "execute_result"
    }
   ],
   "source": [
    "weights_df"
   ]
  },
  {
   "cell_type": "code",
   "execution_count": 23,
   "metadata": {},
   "outputs": [],
   "source": [
    "feature_graph_strings = model.get_feature_graph_strings()"
   ]
  },
  {
   "cell_type": "code",
   "execution_count": 193,
   "metadata": {},
   "outputs": [],
   "source": [
    "from collections import defaultdict\n",
    "features = defaultdict(list)\n",
    "\n",
    "for j, est in enumerate(clf.estimators_):\n",
    "    paths = [i for i in list(tree_to_code(est)) if i[2]]\n",
    "    for path in paths:\n",
    "        features[list(keys)[j]].append((path[0], path[1], model.label_vocab.id_to_word[j]))"
   ]
  },
  {
   "cell_type": "code",
   "execution_count": 194,
   "metadata": {},
   "outputs": [
    {
     "data": {
      "text/plain": [
       "defaultdict(list,\n",
       "            {'Component-Whole(e2,e1)': [(['(u_133 / include  :2 (u_4 / entity2))'],\n",
       "               ['(u_10 / HAS  :1 (u_2 / entity1))',\n",
       "                '(u_1158 / comprise  :1 (u_2 / entity1))',\n",
       "                '(u_0 / have  :1 (u_2 / entity1)  :2 (u_4 / entity2))'],\n",
       "               'Component-Whole(e2,e1)'),\n",
       "              (['(u_1158 / comprise  :1 (u_2 / entity1))'],\n",
       "               ['(u_4 / entity2  :0 (u_582 / several))',\n",
       "                '(u_10 / HAS  :1 (u_11 / its))',\n",
       "                '(u_0 / have  :1 (u_2 / entity1)  :2 (u_4 / entity2))'],\n",
       "               'Component-Whole(e2,e1)'),\n",
       "              (['(u_4 / entity2  :0 (u_582 / several))',\n",
       "                '(u_1158 / comprise  :1 (u_2 / entity1))'],\n",
       "               ['(u_10 / HAS  :1 (u_11 / its))',\n",
       "                '(u_0 / have  :1 (u_2 / entity1)  :2 (u_4 / entity2))'],\n",
       "               'Component-Whole(e2,e1)'),\n",
       "              (['(u_0 / have  :1 (u_2 / entity1)  :2 (u_4 / entity2))'],\n",
       "               ['(u_10 / HAS  :1 (u_11 / its))',\n",
       "                '(u_10 / HAS  :1 (u_270 / he))',\n",
       "                '(u_7 / in  :1 (u_0 / have))'],\n",
       "               'Component-Whole(e2,e1)'),\n",
       "              (['(u_10 / HAS  :1 (u_11 / its))',\n",
       "                '(u_0 / have  :1 (u_2 / entity1)  :2 (u_4 / entity2))'],\n",
       "               ['(u_10 / HAS  :1 (u_270 / he))',\n",
       "                '(u_7 / in  :1 (u_0 / have))'],\n",
       "               'Component-Whole(e2,e1)')],\n",
       "             'Other': [(['(u_30 / at  :1 (u_722 / start))'],\n",
       "               ['(u_230 / give  :2 (u_2 / entity1))',\n",
       "                '(u_89 / for  :2 (u_4 / entity2))',\n",
       "                '(u_2 / entity1  :0 (u_54 / cause))'],\n",
       "               'Other'),\n",
       "              (['(u_89 / for  :2 (u_4 / entity2))'],\n",
       "               ['(u_401 / some  :0 (u_2 / entity1))',\n",
       "                '(u_7 / in  :2 (u_346 / which))',\n",
       "                '(u_2 / entity1  :0 (u_54 / cause))'],\n",
       "               'Other')],\n",
       "             'Instrument-Agency(e2,e1)': [(['(u_76 / with  :2 (u_332 / help  :0 (u_4 / entity2)))'],\n",
       "               ['(u_2214 / apply  :2 (u_4 / entity2))',\n",
       "                '(u_76 / with  :2 (u_4 / entity2))',\n",
       "                '(u_27 / use  :2 (u_4 / entity2))'],\n",
       "               'Instrument-Agency(e2,e1)'),\n",
       "              (['(u_2214 / apply  :2 (u_4 / entity2))'],\n",
       "               ['(u_2 / entity1  :0 (u_2214 / apply  :1-of (u_29 / to  :2 (u_4 / entity2))))',\n",
       "                '(u_76 / with  :2 (u_4 / entity2))',\n",
       "                '(u_27 / use  :2 (u_4 / entity2))'],\n",
       "               'Instrument-Agency(e2,e1)'),\n",
       "              (['(u_10 / HAS  :1 (u_105 / they))',\n",
       "                '(u_76 / with  :2 (u_4 / entity2))'],\n",
       "               ['(u_76 / with  :2 (u_4 / entity2)  :1 (u_1290 / kill))',\n",
       "                '(u_27 / use  :2 (u_4 / entity2))'],\n",
       "               'Instrument-Agency(e2,e1)'),\n",
       "              (['(u_76 / with  :2 (u_4 / entity2)  :1 (u_1290 / kill))',\n",
       "                '(u_76 / with  :2 (u_4 / entity2))'],\n",
       "               ['(u_27 / use  :2 (u_4 / entity2))'],\n",
       "               'Instrument-Agency(e2,e1)'),\n",
       "              (['(u_27 / use  :2 (u_4 / entity2))'],\n",
       "               ['(u_27 / use  :1 (u_2 / entity1))',\n",
       "                '(u_10 / HAS  :2 (u_4 / entity2)  :1 (u_11 / its))',\n",
       "                '(u_2 / entity1  :0 (u_578 / work))'],\n",
       "               'Instrument-Agency(e2,e1)'),\n",
       "              (['(u_27 / use  :1 (u_2 / entity1))',\n",
       "                '(u_27 / use  :2 (u_4 / entity2))'],\n",
       "               ['(u_10 / HAS  :2 (u_4 / entity2)  :1 (u_11 / its))',\n",
       "                '(u_2 / entity1  :0 (u_578 / work))'],\n",
       "               'Instrument-Agency(e2,e1)'),\n",
       "              (['(u_7 / in  :2 (u_2 / entity1))',\n",
       "                '(u_2 / entity1  :0 (u_578 / work))',\n",
       "                '(u_27 / use  :2 (u_4 / entity2))'],\n",
       "               [],\n",
       "               'Instrument-Agency(e2,e1)')],\n",
       "             'Member-Collection(e1,e2)': [(['(u_270 / he  :0 (u_0 / have))',\n",
       "                '(u_2 / entity1  :0 (u_4 / entity2  :2-of (u_10 / HAS  :1 (u_270 / he))))'],\n",
       "               ['(u_63 / part  :0 (u_4 / entity2))',\n",
       "                '(u_2 / entity1  :0 (u_95 / collect  :1-of (u_7 / in  :2 (u_4 / entity2))))'],\n",
       "               'Member-Collection(e1,e2)'),\n",
       "              (['(u_29 / to  :1 (u_237 / take))',\n",
       "                '(u_63 / part  :0 (u_4 / entity2))'],\n",
       "               ['(u_10 / HAS  :2 (u_4 / entity2))',\n",
       "                '(u_2 / entity1  :0 (u_95 / collect  :1-of (u_7 / in  :2 (u_4 / entity2))))'],\n",
       "               'Member-Collection(e1,e2)'),\n",
       "              (['(u_10 / HAS  :2 (u_4 / entity2))',\n",
       "                '(u_63 / part  :0 (u_4 / entity2))'],\n",
       "               ['(u_2 / entity1  :0 (u_1004 / become))',\n",
       "                '(u_2 / entity1  :0 (u_95 / collect  :1-of (u_7 / in  :2 (u_4 / entity2))))'],\n",
       "               'Member-Collection(e1,e2)'),\n",
       "              (['(u_2 / entity1  :0 (u_95 / collect  :1-of (u_7 / in  :2 (u_4 / entity2))))'],\n",
       "               [],\n",
       "               'Member-Collection(e1,e2)')],\n",
       "             'Cause-Effect(e2,e1)': [(['(u_54 / cause  :2 (u_2 / entity1))'],\n",
       "               ['(u_2 / entity1  :0 (u_620 / trigger))',\n",
       "                '(u_23 / by  :1 (u_54 / cause))',\n",
       "                '(u_54 / cause  :1 (u_4 / entity2))'],\n",
       "               'Cause-Effect(e2,e1)'),\n",
       "              (['(u_2 / entity1  :0 (u_620 / trigger))'],\n",
       "               ['(u_2 / entity1  :0 (u_4 / entity2))',\n",
       "                '(u_23 / by  :1 (u_54 / cause))',\n",
       "                '(u_54 / cause  :1 (u_4 / entity2))'],\n",
       "               'Cause-Effect(e2,e1)'),\n",
       "              (['(u_23 / by  :1 (u_54 / cause))'],\n",
       "               ['(u_7 / in  :1 (u_578 / work))',\n",
       "                '(u_72 / contain  :2 (u_2 / entity1))',\n",
       "                '(u_54 / cause  :1 (u_4 / entity2))'],\n",
       "               'Cause-Effect(e2,e1)'),\n",
       "              (['(u_54 / cause  :1 (u_4 / entity2))'],\n",
       "               ['(u_873 / ago  :0 (u_235 / year))',\n",
       "                '(u_54 / cause  :2 (u_2 / entity1)  :1 (u_4 / entity2))',\n",
       "                '(u_2 / entity1  :0 (u_54 / cause))'],\n",
       "               'Cause-Effect(e2,e1)'),\n",
       "              (['(u_873 / ago  :0 (u_235 / year))',\n",
       "                '(u_54 / cause  :1 (u_4 / entity2))'],\n",
       "               ['(u_54 / cause  :2 (u_2 / entity1)  :1 (u_4 / entity2))',\n",
       "                '(u_2 / entity1  :0 (u_54 / cause))'],\n",
       "               'Cause-Effect(e2,e1)'),\n",
       "              (['(u_54 / cause  :2 (u_2 / entity1)  :1 (u_4 / entity2))',\n",
       "                '(u_54 / cause  :1 (u_4 / entity2))'],\n",
       "               ['(u_2 / entity1  :0 (u_54 / cause))'],\n",
       "               'Cause-Effect(e2,e1)'),\n",
       "              (['(u_2 / entity1  :0 (u_54 / cause))',\n",
       "                '(u_54 / cause  :1 (u_4 / entity2))'],\n",
       "               [],\n",
       "               'Cause-Effect(e2,e1)')],\n",
       "             'Entity-Destination(e1,e2)': [(['(u_856 / put  :2 (u_2 / entity1))'],\n",
       "               ['(u_82 / place  :2 (u_2 / entity1))',\n",
       "                '(u_29 / to  :2 (u_4 / entity2))',\n",
       "                '(u_26 / into  :2 (u_4 / entity2))'],\n",
       "               'Entity-Destination(e1,e2)'),\n",
       "              (['(u_82 / place  :2 (u_2 / entity1))'],\n",
       "               ['(u_7 / in  :1 (u_82 / place  :2 (u_2 / entity1)))',\n",
       "                '(u_29 / to  :2 (u_4 / entity2))',\n",
       "                '(u_26 / into  :2 (u_4 / entity2))'],\n",
       "               'Entity-Destination(e1,e2)'),\n",
       "              (['(u_7 / in  :1 (u_82 / place  :2 (u_2 / entity1)))',\n",
       "                '(u_82 / place  :2 (u_2 / entity1))'],\n",
       "               ['(u_29 / to  :2 (u_4 / entity2))',\n",
       "                '(u_26 / into  :2 (u_4 / entity2))'],\n",
       "               'Entity-Destination(e1,e2)'),\n",
       "              (['(u_29 / to  :2 (u_4 / entity2))'],\n",
       "               ['(u_29 / to  :1 (u_2214 / apply))',\n",
       "                '(u_29 / to  :1 (u_1608 / send  :2 (u_2 / entity1)))',\n",
       "                '(u_26 / into  :2 (u_4 / entity2))'],\n",
       "               'Entity-Destination(e1,e2)'),\n",
       "              (['(u_29 / to  :1 (u_1608 / send  :2 (u_2 / entity1)))',\n",
       "                '(u_29 / to  :2 (u_4 / entity2))'],\n",
       "               ['(u_26 / into  :2 (u_4 / entity2))'],\n",
       "               'Entity-Destination(e1,e2)'),\n",
       "              (['(u_26 / into  :2 (u_4 / entity2))'],\n",
       "               ['(u_2 / entity1  :0 (u_3935 / convert  :1-of (u_26 / into  :2 (u_4 / entity2))))',\n",
       "                '(u_26 / into  :2 (u_4 / entity2)  :1 (u_1247 / throw))',\n",
       "                '(u_26 / into  :1 (u_2049 / enter  :1 (u_2 / entity1)))'],\n",
       "               'Entity-Destination(e1,e2)'),\n",
       "              (['(u_10 / HAS  :2 (u_2 / entity1)  :1 (u_181 / she))',\n",
       "                '(u_26 / into  :2 (u_4 / entity2)  :1 (u_1247 / throw))',\n",
       "                '(u_26 / into  :2 (u_4 / entity2))'],\n",
       "               ['(u_26 / into  :1 (u_2049 / enter  :1 (u_2 / entity1)))'],\n",
       "               'Entity-Destination(e1,e2)')],\n",
       "             'Content-Container(e1,e2)': [(['(u_7 / in  :1 (u_72 / contain))'],\n",
       "               ['(u_92 / inside  :2 (u_4 / entity2))',\n",
       "                '(u_7 / in  :2 (u_4 / entity2))',\n",
       "                '(u_4 / entity2  :1 (u_2 / entity1))'],\n",
       "               'Content-Container(e1,e2)'),\n",
       "              (['(u_342 / discover  :2 (u_2 / entity1))',\n",
       "                '(u_92 / inside  :2 (u_4 / entity2))'],\n",
       "               ['(u_7 / in  :2 (u_4 / entity2))',\n",
       "                '(u_4 / entity2  :1 (u_2 / entity1))'],\n",
       "               'Content-Container(e1,e2)'),\n",
       "              (['(u_7 / in  :2 (u_4 / entity2)  :1 (u_72 / contain  :2 (u_2 / entity1)))',\n",
       "                '(u_7 / in  :2 (u_4 / entity2))'],\n",
       "               ['(u_7 / in  :2 (u_4 / entity2)  :1 (u_1557 / store  :2 (u_2 / entity1)))',\n",
       "                '(u_4 / entity2  :1 (u_2 / entity1))'],\n",
       "               'Content-Container(e1,e2)'),\n",
       "              (['(u_7 / in  :2 (u_4 / entity2)  :1 (u_1557 / store  :2 (u_2 / entity1)))',\n",
       "                '(u_7 / in  :2 (u_4 / entity2))'],\n",
       "               ['(u_10 / HAS  :1 (u_11 / its))',\n",
       "                '(u_4 / entity2  :1 (u_2 / entity1))'],\n",
       "               'Content-Container(e1,e2)'),\n",
       "              (['(u_2 / entity1  :0 (u_4 / entity2))',\n",
       "                '(u_4 / entity2  :1 (u_2 / entity1))'],\n",
       "               ['(u_4 / entity2  :1 (u_2 / entity1  :2-of (u_10 / HAS  :1 (u_484 / my))))',\n",
       "                '(u_10 / HAS  :2 (u_4 / entity2))'],\n",
       "               'Content-Container(e1,e2)'),\n",
       "              (['(u_4 / entity2  :1 (u_2 / entity1  :2-of (u_10 / HAS  :1 (u_484 / my))))',\n",
       "                '(u_4 / entity2  :1 (u_2 / entity1))'],\n",
       "               ['(u_10 / HAS  :2 (u_4 / entity2))'],\n",
       "               'Content-Container(e1,e2)')],\n",
       "             'Message-Topic(e1,e2)': [(['(u_76 / with  :2 (u_4 / entity2)  :1 (u_3232 / concerned  :1 (u_2 / entity1)))'],\n",
       "               ['(u_2 / entity1  :0 (u_110 / explain  :2 (u_4 / entity2)))',\n",
       "                '(u_15 / describe  :2 (u_4 / entity2))',\n",
       "                '(u_122 / about  :2 (u_4 / entity2))'],\n",
       "               'Message-Topic(e1,e2)'),\n",
       "              (['(u_2 / entity1  :0 (u_110 / explain  :2 (u_4 / entity2)))'],\n",
       "               ['(u_15 / describe  :2 (u_4 / entity2))',\n",
       "                '(u_122 / about  :2 (u_4 / entity2))'],\n",
       "               'Message-Topic(e1,e2)'),\n",
       "              (['(u_7 / in  :2 (u_2 / entity1))',\n",
       "                '(u_15 / describe  :2 (u_4 / entity2))'],\n",
       "               ['(u_2 / entity1  :0 (u_15 / describe  :2 (u_4 / entity2)))',\n",
       "                '(u_122 / about  :2 (u_4 / entity2))'],\n",
       "               'Message-Topic(e1,e2)'),\n",
       "              (['(u_2 / entity1  :0 (u_15 / describe  :2 (u_4 / entity2)))',\n",
       "                '(u_15 / describe  :2 (u_4 / entity2))'],\n",
       "               ['(u_122 / about  :2 (u_4 / entity2))'],\n",
       "               'Message-Topic(e1,e2)'),\n",
       "              (['(u_122 / about  :2 (u_4 / entity2))'],\n",
       "               ['(u_10 / HAS  :1 (u_105 / they))',\n",
       "                '(u_2 / entity1  :0 (u_443 / keep))'],\n",
       "               'Message-Topic(e1,e2)')],\n",
       "             'Product-Producer(e2,e1)': [(['(u_1354 / build  :2 (u_4 / entity2))'],\n",
       "               ['(u_2 / entity1  :0 (u_123 / make  :2 (u_4 / entity2)))',\n",
       "                '(u_642 / create  :2 (u_4 / entity2))',\n",
       "                '(u_10 / HAS  :1 (u_2 / entity1))'],\n",
       "               'Product-Producer(e2,e1)'),\n",
       "              (['(u_10 / HAS  :1 (u_181 / she))',\n",
       "                '(u_2 / entity1  :0 (u_123 / make  :2 (u_4 / entity2)))'],\n",
       "               ['(u_642 / create  :2 (u_4 / entity2))',\n",
       "                '(u_10 / HAS  :1 (u_2 / entity1))'],\n",
       "               'Product-Producer(e2,e1)'),\n",
       "              (['(u_642 / create  :2 (u_4 / entity2))'],\n",
       "               ['(u_4 / entity2  :0 (u_186 / three))',\n",
       "                '(u_2 / entity1  :0 (u_642 / create))',\n",
       "                '(u_10 / HAS  :1 (u_2 / entity1))'],\n",
       "               'Product-Producer(e2,e1)'),\n",
       "              (['(u_2 / entity1  :0 (u_642 / create))',\n",
       "                '(u_642 / create  :2 (u_4 / entity2))'],\n",
       "               ['(u_10 / HAS  :1 (u_2 / entity1))'],\n",
       "               'Product-Producer(e2,e1)'),\n",
       "              (['(u_7 / in  :2 (u_4 / entity2  :2-of (u_10 / HAS)))',\n",
       "                '(u_10 / HAS  :1 (u_2 / entity1))'],\n",
       "               ['(u_10 / HAS  :1 (u_270 / he))'],\n",
       "               'Product-Producer(e2,e1)'),\n",
       "              (['(u_10 / HAS  :1 (u_270 / he))',\n",
       "                '(u_10 / HAS  :1 (u_2 / entity1))'],\n",
       "               [],\n",
       "               'Product-Producer(e2,e1)')],\n",
       "             'Member-Collection(e2,e1)': [(['(u_10 / HAS  :1 (u_247 / we))',\n",
       "                '(u_2 / entity1  :0 (u_661 / consist  :1-of (u_6 / of  :2 (u_4 / entity2))))'],\n",
       "               ['(u_2 / entity1  :2 (u_4 / entity2))',\n",
       "                '(u_2 / entity1  :0 (u_4 / entity2))'],\n",
       "               'Member-Collection(e2,e1)'),\n",
       "              (['(u_2 / entity1  :0 (u_9 / great))',\n",
       "                '(u_2 / entity1  :2 (u_4 / entity2))'],\n",
       "               ['(u_0 / have  :2 (u_2 / entity1  :2 (u_4 / entity2)))',\n",
       "                '(u_2 / entity1  :0 (u_4 / entity2))'],\n",
       "               'Member-Collection(e2,e1)'),\n",
       "              (['(u_0 / have  :2 (u_2 / entity1  :2 (u_4 / entity2)))',\n",
       "                '(u_2 / entity1  :2 (u_4 / entity2))'],\n",
       "               ['(u_2 / entity1  :0 (u_0 / have))',\n",
       "                '(u_2 / entity1  :0 (u_4 / entity2))'],\n",
       "               'Member-Collection(e2,e1)'),\n",
       "              (['(u_10 / HAS  :1 (u_105 / they))',\n",
       "                '(u_2 / entity1  :0 (u_4 / entity2))'],\n",
       "               ['(u_7 / in  :2 (u_2 / entity1))',\n",
       "                '(u_4 / entity2  :1 (u_2 / entity1))'],\n",
       "               'Member-Collection(e2,e1)')],\n",
       "             'Entity-Origin(e1,e2)': [(['(u_7 / in  :2 (u_4 / entity2)  :1 (u_1116 / originate))'],\n",
       "               ['(u_679 / out  :2 (u_4 / entity2))',\n",
       "                '(u_553 / leave  :2 (u_4 / entity2))',\n",
       "                '(u_37 / from  :2 (u_4 / entity2))'],\n",
       "               'Entity-Origin(e1,e2)'),\n",
       "              (['(u_2 / entity1  :0 (u_6074 / pop  :1-of (u_679 / out  :2 (u_4 / entity2))))',\n",
       "                '(u_679 / out  :2 (u_4 / entity2))'],\n",
       "               ['(u_553 / leave  :2 (u_4 / entity2))',\n",
       "                '(u_37 / from  :2 (u_4 / entity2))'],\n",
       "               'Entity-Origin(e1,e2)'),\n",
       "              (['(u_2 / entity1  :0 (u_553 / leave  :2 (u_4 / entity2)))',\n",
       "                '(u_553 / leave  :2 (u_4 / entity2))'],\n",
       "               ['(u_10 / HAS  :2 (u_4 / entity2)  :1 (u_270 / he))',\n",
       "                '(u_37 / from  :2 (u_4 / entity2))'],\n",
       "               'Entity-Origin(e1,e2)'),\n",
       "              (['(u_37 / from  :2 (u_4 / entity2))'],\n",
       "               ['(u_2 / entity1  :0 (u_1396 / arrive  :1-of (u_37 / from  :2 (u_4 / entity2))))',\n",
       "                '(u_37 / from  :2 (u_4 / entity2)  :1 (u_769 / grow))',\n",
       "                '(u_37 / from  :2 (u_4 / entity2)  :1 (u_530 / get  :2 (u_2 / entity1)))'],\n",
       "               'Entity-Origin(e1,e2)'),\n",
       "              (['(u_2 / entity1  :0 (u_1396 / arrive  :1-of (u_37 / from  :2 (u_4 / entity2))))',\n",
       "                '(u_37 / from  :2 (u_4 / entity2))'],\n",
       "               ['(u_37 / from  :2 (u_4 / entity2)  :1 (u_769 / grow))',\n",
       "                '(u_37 / from  :2 (u_4 / entity2)  :1 (u_530 / get  :2 (u_2 / entity1)))'],\n",
       "               'Entity-Origin(e1,e2)')],\n",
       "             'Cause-Effect(e1,e2)': [(['(u_54 / cause  :1 (u_2 / entity1))'],\n",
       "               ['(u_54 / cause  :0 (u_4 / entity2))',\n",
       "                '(u_2 / entity1  :0 (u_66 / result))',\n",
       "                '(u_54 / cause  :2 (u_4 / entity2))'],\n",
       "               'Cause-Effect(e1,e2)'),\n",
       "              (['(u_54 / cause  :0 (u_4 / entity2))'],\n",
       "               ['(u_10 / HAS  :1 (u_270 / he))',\n",
       "                '(u_2 / entity1  :0 (u_66 / result))',\n",
       "                '(u_54 / cause  :2 (u_4 / entity2))'],\n",
       "               'Cause-Effect(e1,e2)'),\n",
       "              (['(u_2 / entity1  :0 (u_66 / result))'],\n",
       "               ['(u_7 / in  :2 (u_4 / entity2  :2-of (u_10 / HAS  :1 (u_270 / he))))',\n",
       "                '(u_2 / entity1  :0 (u_694 / provide))',\n",
       "                '(u_54 / cause  :2 (u_4 / entity2))'],\n",
       "               'Cause-Effect(e1,e2)'),\n",
       "              (['(u_54 / cause  :2 (u_4 / entity2))'],\n",
       "               ['(u_7 / in  :1 (u_123 / make))',\n",
       "                '(u_10 / HAS  :1 (u_11 / its))',\n",
       "                '(u_54 / cause  :1 (u_2 / entity1))'],\n",
       "               'Cause-Effect(e1,e2)'),\n",
       "              (['(u_54 / cause  :1 (u_2 / entity1))',\n",
       "                '(u_54 / cause  :2 (u_4 / entity2))'],\n",
       "               ['(u_2 / entity1  :0 (u_54 / cause  :1-of (u_7 / in)  :2 (u_4 / entity2)))',\n",
       "                '(u_54 / cause  :2 (u_4 / entity2)  :1-of (u_149 / on))'],\n",
       "               'Cause-Effect(e1,e2)'),\n",
       "              (['(u_2 / entity1  :0 (u_54 / cause  :1-of (u_7 / in)  :2 (u_4 / entity2)))',\n",
       "                '(u_54 / cause  :1 (u_2 / entity1))',\n",
       "                '(u_54 / cause  :2 (u_4 / entity2))'],\n",
       "               ['(u_54 / cause  :2 (u_4 / entity2)  :1-of (u_149 / on))'],\n",
       "               'Cause-Effect(e1,e2)'),\n",
       "              (['(u_54 / cause  :2 (u_4 / entity2)  :1-of (u_149 / on))',\n",
       "                '(u_54 / cause  :1 (u_2 / entity1))',\n",
       "                '(u_54 / cause  :2 (u_4 / entity2))'],\n",
       "               [],\n",
       "               'Cause-Effect(e1,e2)')],\n",
       "             'Component-Whole(e1,e2)': [(['(u_7 / in  :2 (u_4 / entity2  :2-of (u_10 / HAS  :1 (u_484 / my))))'],\n",
       "               ['(u_2144 / lock  :2 (u_2 / entity1))',\n",
       "                '(u_63 / part  :1 (u_2 / entity1))',\n",
       "                '(u_2 / entity1  :0 (u_4 / entity2))'],\n",
       "               'Component-Whole(e1,e2)'),\n",
       "              (['(u_63 / part  :1 (u_2 / entity1))'],\n",
       "               ['(u_10 / HAS  :1 (u_11 / its))',\n",
       "                '(u_10 / HAS  :2 (u_4 / entity2))',\n",
       "                '(u_2 / entity1  :0 (u_4 / entity2))'],\n",
       "               'Component-Whole(e1,e2)'),\n",
       "              (['(u_2 / entity1  :0 (u_4 / entity2)  :2-of (u_149 / on))',\n",
       "                '(u_2 / entity1  :0 (u_4 / entity2))'],\n",
       "               ['(u_29 / to  :1 (u_2307 / connect))',\n",
       "                '(u_4 / entity2  :1 (u_2 / entity1))'],\n",
       "               'Component-Whole(e1,e2)'),\n",
       "              (['(u_29 / to  :1 (u_2307 / connect))',\n",
       "                '(u_2 / entity1  :0 (u_4 / entity2))'],\n",
       "               ['(u_4 / entity2  :1 (u_2 / entity1))'],\n",
       "               'Component-Whole(e1,e2)'),\n",
       "              (['(u_441 / I  :0 (u_0 / have))',\n",
       "                '(u_4 / entity2  :1 (u_2 / entity1))',\n",
       "                '(u_2 / entity1  :0 (u_4 / entity2))'],\n",
       "               ['(u_10 / HAS  :1 (u_484 / my))'],\n",
       "               'Component-Whole(e1,e2)')],\n",
       "             'Message-Topic(e2,e1)': [(['(u_2 / entity1  :0 (u_1004 / become  :2 (u_3160 / topic  :0 (u_4 / entity2))))'],\n",
       "               ['(u_7 / in  :2 (u_4 / entity2))'],\n",
       "               'Message-Topic(e2,e1)'),\n",
       "              (['(u_10 / HAS  :1 (u_195 / his))',\n",
       "                '(u_7 / in  :2 (u_4 / entity2))'],\n",
       "               ['(u_7 / in  :2 (u_4 / entity2)  :1 (u_1006 / present  :2 (u_2 / entity1)))',\n",
       "                '(u_7 / in  :2 (u_4 / entity2)  :1 (u_1954 / analyse  :2 (u_2 / entity1)))'],\n",
       "               'Message-Topic(e2,e1)'),\n",
       "              (['(u_7 / in  :2 (u_4 / entity2)  :1 (u_1006 / present  :2 (u_2 / entity1)))',\n",
       "                '(u_7 / in  :2 (u_4 / entity2))'],\n",
       "               ['(u_7 / in  :2 (u_4 / entity2)  :1 (u_1954 / analyse  :2 (u_2 / entity1)))'],\n",
       "               'Message-Topic(e2,e1)'),\n",
       "              (['(u_7 / in  :2 (u_4 / entity2)  :1 (u_1954 / analyse  :2 (u_2 / entity1)))',\n",
       "                '(u_7 / in  :2 (u_4 / entity2))'],\n",
       "               [],\n",
       "               'Message-Topic(e2,e1)')],\n",
       "             'Product-Producer(e1,e2)': [(['(u_2 / entity1  :0 (u_2003 / write))'],\n",
       "               ['(u_2 / entity1  :0 (u_2003 / write  :2 (u_4 / entity2)))',\n",
       "                '(u_310 / produce  :1 (u_4 / entity2))',\n",
       "                '(u_123 / make  :1 (u_4 / entity2))'],\n",
       "               'Product-Producer(e1,e2)'),\n",
       "              (['(u_310 / produce  :1 (u_4 / entity2))'],\n",
       "               ['(u_4 / entity2  :0 (u_1512 / different))',\n",
       "                '(u_310 / produce  :2 (u_2 / entity1))',\n",
       "                '(u_123 / make  :1 (u_4 / entity2))'],\n",
       "               'Product-Producer(e1,e2)'),\n",
       "              (['(u_10 / HAS  :1 (u_11 / its))',\n",
       "                '(u_123 / make  :1 (u_4 / entity2))'],\n",
       "               ['(u_2 / entity1  :0 (u_123 / make))',\n",
       "                '(u_2 / entity1  :0 (u_123 / make  :1-of (u_7 / in)  :1 (u_4 / entity2)))'],\n",
       "               'Product-Producer(e1,e2)'),\n",
       "              (['(u_2 / entity1  :0 (u_123 / make))',\n",
       "                '(u_123 / make  :1 (u_4 / entity2))'],\n",
       "               ['(u_10 / HAS  :1 (u_440 / you))',\n",
       "                '(u_2 / entity1  :0 (u_123 / make  :1-of (u_7 / in)  :1 (u_4 / entity2)))'],\n",
       "               'Product-Producer(e1,e2)'),\n",
       "              (['(u_10 / HAS  :1 (u_440 / you))',\n",
       "                '(u_2 / entity1  :0 (u_123 / make))',\n",
       "                '(u_123 / make  :1 (u_4 / entity2))'],\n",
       "               ['(u_2 / entity1  :0 (u_123 / make  :1-of (u_7 / in)  :1 (u_4 / entity2)))'],\n",
       "               'Product-Producer(e1,e2)')],\n",
       "             'Entity-Origin(e2,e1)': [(['(u_2 / entity1  :0 (u_1149 / ingredient  :0 (u_27 / use  :0 (u_123 / make))))'],\n",
       "               ['(u_89 / for  :2 (u_4 / entity2)  :1 (u_896 / farm))'],\n",
       "               'Entity-Origin(e2,e1)'),\n",
       "              (['(u_7 / in  :2 (u_346 / which))',\n",
       "                '(u_89 / for  :2 (u_4 / entity2)  :1 (u_896 / farm))'],\n",
       "               ['(u_401 / some  :0 (u_2 / entity1))',\n",
       "                '(u_10 / HAS  :2 (u_4 / entity2)  :1 (u_105 / they))'],\n",
       "               'Entity-Origin(e2,e1)'),\n",
       "              (['(u_401 / some  :0 (u_2 / entity1))',\n",
       "                '(u_89 / for  :2 (u_4 / entity2)  :1 (u_896 / farm))'],\n",
       "               ['(u_10 / HAS  :2 (u_4 / entity2)  :1 (u_105 / they))'],\n",
       "               'Entity-Origin(e2,e1)'),\n",
       "              (['(u_10 / HAS  :2 (u_4 / entity2)  :1 (u_105 / they))',\n",
       "                '(u_89 / for  :2 (u_4 / entity2)  :1 (u_896 / farm))'],\n",
       "               [],\n",
       "               'Entity-Origin(e2,e1)')],\n",
       "             'Content-Container(e2,e1)': [(['(u_7 / in  :2 (u_120 / it))'],\n",
       "               ['(u_2 / entity1  :0 (u_72 / contain))',\n",
       "                '(u_4 / entity2  :0 (u_120 / it))',\n",
       "                '(u_2 / entity1  :0 (u_1190 / full  :1-of (u_6 / of)))'],\n",
       "               'Content-Container(e2,e1)'),\n",
       "              (['(u_10 / HAS  :1 (u_181 / she))',\n",
       "                '(u_2 / entity1  :0 (u_72 / contain))'],\n",
       "               ['(u_4 / entity2  :0 (u_120 / it))',\n",
       "                '(u_2 / entity1  :0 (u_1190 / full  :1-of (u_6 / of)))'],\n",
       "               'Content-Container(e2,e1)'),\n",
       "              (['(u_4 / entity2  :0 (u_120 / it))'],\n",
       "               ['(u_89 / for  :1 (u_27 / use))',\n",
       "                '(u_2 / entity1  :0 (u_1190 / full  :1-of (u_6 / of)))'],\n",
       "               'Content-Container(e2,e1)'),\n",
       "              (['(u_2 / entity1  :0 (u_1190 / full  :1-of (u_6 / of)))'],\n",
       "               ['(u_6 / of  :2 (u_4 / entity2  :2-of (u_10 / HAS)))'],\n",
       "               'Content-Container(e2,e1)')],\n",
       "             'Instrument-Agency(e1,e2)': [(['(u_23 / by  :2 (u_4 / entity2))',\n",
       "                '(u_27 / use  :2 (u_2 / entity1))'],\n",
       "               ['(u_4 / entity2  :0 (u_27 / use))',\n",
       "                '(u_2 / entity1  :0 (u_1089 / best))'],\n",
       "               'Instrument-Agency(e1,e2)'),\n",
       "              (['(u_4 / entity2  :0 (u_27 / use))',\n",
       "                '(u_27 / use  :2 (u_2 / entity1))'],\n",
       "               ['(u_2 / entity1  :0 (u_1089 / best))'],\n",
       "               'Instrument-Agency(e1,e2)'),\n",
       "              (['(u_310 / produce  :2 (u_2 / entity1))',\n",
       "                '(u_2 / entity1  :0 (u_1089 / best))'],\n",
       "               ['(u_2 / entity1  :2 (u_4 / entity2))',\n",
       "                '(u_2 / entity1  :0 (u_4 / entity2)  :0 (u_1089 / best))'],\n",
       "               'Instrument-Agency(e1,e2)'),\n",
       "              (['(u_2 / entity1  :2 (u_4 / entity2))',\n",
       "                '(u_2 / entity1  :0 (u_1089 / best))'],\n",
       "               ['(u_2 / entity1  :0 (u_4 / entity2)  :0 (u_1089 / best))'],\n",
       "               'Instrument-Agency(e1,e2)'),\n",
       "              (['(u_2 / entity1  :0 (u_4 / entity2)  :0 (u_1089 / best))',\n",
       "                '(u_2 / entity1  :0 (u_1089 / best))'],\n",
       "               ['(u_10 / HAS  :1 (u_247 / we))'],\n",
       "               'Instrument-Agency(e1,e2)')]})"
      ]
     },
     "execution_count": 194,
     "metadata": {},
     "output_type": "execute_result"
    }
   ],
   "source": [
    "features"
   ]
  },
  {
   "cell_type": "code",
   "execution_count": 215,
   "metadata": {},
   "outputs": [],
   "source": [
    "from collections import defaultdict\n",
    "features = defaultdict(list)\n",
    "\n",
    "for target in weights_df.target.unique():\n",
    "    targeted_df = weights_df[weights_df.target == target]\n",
    "    most_important_weights = targeted_df.iloc[:5].feature.str.strip(\"x\").tolist()\n",
    "    for i in most_important_weights:\n",
    "        if i != \"<BIAS>\":\n",
    "            g_nx = feature_graphs[model.inverse_relabel[int(i)]]\n",
    "            if len(g_nx.edges()):\n",
    "                g = feature_graph_strings[model.inverse_relabel[int(i)]]\n",
    "                features[list(keys)[int(target)]].append((g, [], model.label_vocab.id_to_word[int(target)]))"
   ]
  },
  {
   "cell_type": "code",
   "execution_count": 195,
   "metadata": {},
   "outputs": [],
   "source": [
    "import json\n",
    "\n",
    "with open(\"features.json\", \"w+\") as f:\n",
    "    json.dump(features, f)"
   ]
  },
  {
   "cell_type": "code",
   "execution_count": 31,
   "metadata": {},
   "outputs": [],
   "source": [
    "train, val = split(df, test_size=0.2, random_state=1234) "
   ]
  },
  {
   "cell_type": "code",
   "execution_count": 32,
   "metadata": {},
   "outputs": [],
   "source": [
    "train.to_pickle(\"train_dataset\")"
   ]
  },
  {
   "cell_type": "code",
   "execution_count": 214,
   "metadata": {},
   "outputs": [],
   "source": [
    "def one_versus_rest(df, entity):\n",
    "    mapper = {entity: 1}\n",
    "\n",
    "    one_versus_rest_df = df.copy()\n",
    "    one_versus_rest_df[\"one_versus_rest\"] = [\n",
    "        mapper[item] if item in mapper else 0 for item in df.label]\n",
    "\n",
    "    return one_versus_rest_df\n",
    "\n",
    "graphs = train.graph.tolist()\n",
    "labels = one_versus_rest(train, \"Cause-Effect(e2,e1)\").one_versus_rest.tolist()"
   ]
  },
  {
   "cell_type": "code",
   "execution_count": 216,
   "metadata": {},
   "outputs": [],
   "source": [
    "lr_pred = clf.estimators_[4].predict(tr_data)\n",
    "prf = precision_recall_fscore_support(labels, lr_pred, average=None)"
   ]
  },
  {
   "cell_type": "code",
   "execution_count": 219,
   "metadata": {},
   "outputs": [
    {
     "data": {
      "text/plain": [
       "(array([0.95128706, 0.89655172]),\n",
       " array([0.9953972 , 0.43902439]),\n",
       " array([0.97284239, 0.58942065]),\n",
       " array([5866,  533]))"
      ]
     },
     "execution_count": 219,
     "metadata": {},
     "output_type": "execute_result"
    }
   ],
   "source": [
    "prf"
   ]
  },
  {
   "cell_type": "code",
   "execution_count": null,
   "metadata": {},
   "outputs": [],
   "source": [
    "model.label_vocab.id_to_word[int(target)]"
   ]
  },
  {
   "cell_type": "code",
   "execution_count": null,
   "metadata": {},
   "outputs": [],
   "source": [
    "val_graphs = val.graph.tolist()\n",
    "val_labels = val.one_versus_rest.tolist()"
   ]
  },
  {
   "cell_type": "code",
   "execution_count": null,
   "metadata": {},
   "outputs": [],
   "source": [
    "val_df = val.copy()"
   ]
  },
  {
   "cell_type": "code",
   "execution_count": null,
   "metadata": {},
   "outputs": [],
   "source": [
    "del val_df[\"one_versus_rest\"]"
   ]
  },
  {
   "cell_type": "code",
   "execution_count": null,
   "metadata": {},
   "outputs": [],
   "source": [
    "val_df"
   ]
  },
  {
   "cell_type": "code",
   "execution_count": null,
   "metadata": {},
   "outputs": [],
   "source": [
    "from sklearn.metrics import precision_recall_fscore_support\n",
    "\n",
    "measure_features = []\n",
    "\n",
    "for feat in features:\n",
    "    measure = [feat[0]]\n",
    "    extractor.set_matcher([feat])\n",
    "    false_pos = []\n",
    "    val_predicted = []\n",
    "    for i, g in enumerate(val_graphs):\n",
    "        feats = extractor.matcher.match(g)\n",
    "        label = 0\n",
    "        for feat in feats:\n",
    "            label = feat\n",
    "        if label == 1 and val_labels[i] == 0:\n",
    "            false_pos.append(g)\n",
    "        val_predicted.append(label)\n",
    "    for pcf in precision_recall_fscore_support(val_labels, val_predicted, average=None):\n",
    "        measure.append(pcf[1])\n",
    "    measure.append(false_pos)\n",
    "    \n",
    "    measure_features.append(measure)"
   ]
  },
  {
   "cell_type": "code",
   "execution_count": null,
   "metadata": {},
   "outputs": [],
   "source": [
    "import pandas as pd\n",
    "\n",
    "df = pd.DataFrame(measure_features, columns = ['Feature', 'Precision', 'Recall', \"Fscore\", \"Support\", \"False_positives\"]) "
   ]
  },
  {
   "cell_type": "code",
   "execution_count": null,
   "metadata": {},
   "outputs": [],
   "source": [
    "df"
   ]
  },
  {
   "cell_type": "code",
   "execution_count": null,
   "metadata": {},
   "outputs": [],
   "source": [
    "df.to_pickle(\"rules_examine\")"
   ]
  },
  {
   "cell_type": "code",
   "execution_count": null,
   "metadata": {},
   "outputs": [],
   "source": [
    "from graphviz import Source\n",
    "Source(to_dot(val_graphs[1537]))"
   ]
  },
  {
   "cell_type": "code",
   "execution_count": null,
   "metadata": {},
   "outputs": [],
   "source": [
    "val.iloc[1537]"
   ]
  },
  {
   "cell_type": "code",
   "execution_count": null,
   "metadata": {},
   "outputs": [],
   "source": [
    "import networkx as nx\n",
    "all_features = nx.MultiDiGraph()"
   ]
  },
  {
   "cell_type": "code",
   "execution_count": null,
   "metadata": {},
   "outputs": [],
   "source": [
    "for i, t in enumerate(weights_df.iloc[:10].feature.str.strip(\"x\").tolist()):\n",
    "    node_to_string = {}\n",
    "    g = feature_graphs[model.inverse_relabel[int(t)]]\n",
    "    nodes = []\n",
    "    for n in g.nodes(data=True):\n",
    "        n_post = n[1][\"name\"]+\"_feature\"+str(i)\n",
    "        nodes.append(n_post)\n",
    "        node_to_string[n[0]] = n_post\n",
    "    all_features.add_nodes_from(nodes)\n",
    "    \n",
    "    for e in g.edges(data=True):\n",
    "        all_features.add_edge(node_to_string[e[0]], node_to_string[e[1]], color=e[2][\"color\"])\n",
    "        "
   ]
  },
  {
   "cell_type": "code",
   "execution_count": null,
   "metadata": {},
   "outputs": [],
   "source": [
    "from graphviz import Digraph\n",
    "from graphviz import Source\n",
    "# Create Digraph object\n",
    "dot = to_dot(all_features, integ=True)\n",
    "Source(dot)"
   ]
  },
  {
   "cell_type": "code",
   "execution_count": 247,
   "metadata": {},
   "outputs": [],
   "source": [
    "from graphviz import Digraph\n",
    "from graphviz import Source\n",
    "# Create Digraph object\n",
    "dot = to_dot(feature_graphs[model.inverse_relabel[42]])"
   ]
  },
  {
   "cell_type": "code",
   "execution_count": null,
   "metadata": {},
   "outputs": [],
   "source": [
    "dots = []\n",
    "\n",
    "for t in weights_df.iloc[:10].feature.str.strip(\"x\").tolist():\n",
    "    dots.append(feature_graphs[model.inverse_relabel[int(t)]])\n",
    "\n",
    "Source(to_dots(dots))"
   ]
  },
  {
   "cell_type": "code",
   "execution_count": 244,
   "metadata": {},
   "outputs": [],
   "source": [
    "import re\n",
    "\n",
    "def d_clean(string):\n",
    "    s = string\n",
    "    for c in '\\\\=@-,\\'\".!:;<>/{}[]()#^?':\n",
    "        s = s.replace(c, '_')\n",
    "    s = s.replace('$', '_dollars')\n",
    "    s = s.replace('%', '_percent')\n",
    "    s = s.replace('|', ' ')\n",
    "    s = s.replace('*', ' ')\n",
    "    if s == '#':\n",
    "        s = '_number'\n",
    "    keywords = (\"graph\", \"node\", \"strict\", \"edge\")\n",
    "    if re.match('^[0-9]', s) or s in keywords:\n",
    "        s = \"X\" + s\n",
    "    return s\n",
    "\n",
    "def to_dots(graphs, marked_nodes=set(), integ=False):\n",
    "    lines = [u'digraph finite_state_machine {', '\\tdpi=70;']\n",
    "    # lines.append('\\tordering=out;')\n",
    "    # sorting everything to make the process deterministic\n",
    "    for i, graph in enumerate(graphs):\n",
    "        s = \"subgraph cluster_\" + chr(ord('@')+i+1) + \" {\"\n",
    "        node_lines = []\n",
    "\n",
    "        node_lines.append(s)\n",
    "        node_to_name = {}\n",
    "        for node, n_data in graph.nodes(data=True):\n",
    "            if integ:\n",
    "                d_node = d_clean(str(node))\n",
    "            else:    \n",
    "                d_node = d_clean(n_data[\"name\"])\n",
    "            printname = d_node\n",
    "            node_to_name[node] = printname\n",
    "            if 'expanded' in n_data and n_data['expanded'] and printname in marked_nodes:\n",
    "                node_line = u'\\t{0} [shape = circle, label = \"{1}\", \\\n",
    "                        style=filled, fillcolor=purple];'.format(\n",
    "                    d_node, printname).replace('-', '_')\n",
    "            elif 'expanded' in n_data and n_data['expanded']:\n",
    "                node_line = u'\\t{0} [shape = circle, label = \"{1}\", \\\n",
    "                        style=\"filled\"];'.format(\n",
    "                    d_node, printname).replace('-', '_')\n",
    "            elif 'fourlang' in n_data and n_data['fourlang']:\n",
    "                node_line = u'\\t{0} [shape = circle, label = \"{1}\", \\\n",
    "                        style=\"filled\", fillcolor=red];'.format(\n",
    "                    d_node, printname).replace('-', '_')\n",
    "            elif 'substituted' in n_data and n_data['substituted']:\n",
    "                node_line = u'\\t{0} [shape = circle, label = \"{1}\", \\\n",
    "                        style=\"filled\"];'.format(\n",
    "                    d_node, printname).replace('-', '_')\n",
    "            elif printname in marked_nodes:\n",
    "                node_line = u'\\t{0} [shape = circle, label = \"{1}\", style=filled, fillcolor=lightblue];'.format(\n",
    "                    d_node, printname).replace('-', '_')\n",
    "            else:\n",
    "                node_line = u'\\t{0} [shape = circle, label = \"{1}\"];'.format(\n",
    "                    d_node, printname).replace('-', '_')\n",
    "            node_lines.append(node_line)\n",
    "        lines += sorted(node_lines)\n",
    "\n",
    "        edge_lines = []\n",
    "        for u, v, edata in graph.edges(data=True):\n",
    "            if 'color' in edata:\n",
    "                d_node1 = node_to_name[u]\n",
    "                d_node2 = node_to_name[v]\n",
    "                edge_lines.append(\n",
    "                    u'\\t{0} -> {1} [ label = \"{2}\" ];'.format(d_node1, d_node2, edata['color']))\n",
    "\n",
    "        lines += sorted(edge_lines)\n",
    "        lines.append('}')\n",
    "    lines.append('}')\n",
    "    return u'\\n'.join(lines)\n",
    "\n",
    "def to_dot(graph, marked_nodes=set(), integ=False):\n",
    "    lines = [u'digraph finite_state_machine {', '\\tdpi=70;']\n",
    "    # lines.append('\\tordering=out;')\n",
    "    # sorting everything to make the process deterministic\n",
    "    node_lines = []\n",
    "    node_to_name = {}\n",
    "    for node, n_data in graph.nodes(data=True):\n",
    "        if integ:\n",
    "            d_node = d_clean(str(node))\n",
    "        else:    \n",
    "            d_node = d_clean(n_data[\"name\"])\n",
    "        printname = d_node\n",
    "        node_to_name[node] = printname\n",
    "        if 'expanded' in n_data and n_data['expanded'] and printname in marked_nodes:\n",
    "            node_line = u'\\t{0} [shape = circle, label = \"{1}\", \\\n",
    "                    style=filled, fillcolor=purple];'.format(\n",
    "                d_node, printname).replace('-', '_')\n",
    "        elif 'expanded' in n_data and n_data['expanded']:\n",
    "            node_line = u'\\t{0} [shape = circle, label = \"{1}\", \\\n",
    "                    style=\"filled\"];'.format(\n",
    "                d_node, printname).replace('-', '_')\n",
    "        elif 'fourlang' in n_data and n_data['fourlang']:\n",
    "            node_line = u'\\t{0} [shape = circle, label = \"{1}\", \\\n",
    "                    style=\"filled\", fillcolor=red];'.format(\n",
    "                d_node, printname).replace('-', '_')\n",
    "        elif 'substituted' in n_data and n_data['substituted']:\n",
    "            node_line = u'\\t{0} [shape = circle, label = \"{1}\", \\\n",
    "                    style=\"filled\"];'.format(\n",
    "                d_node, printname).replace('-', '_')\n",
    "        elif printname in marked_nodes:\n",
    "            node_line = u'\\t{0} [shape = circle, label = \"{1}\", style=filled, fillcolor=lightblue];'.format(\n",
    "                d_node, printname).replace('-', '_')\n",
    "        else:\n",
    "            node_line = u'\\t{0} [shape = circle, label = \"{1}\"];'.format(\n",
    "                d_node, printname).replace('-', '_')\n",
    "        node_lines.append(node_line)\n",
    "    lines += sorted(node_lines)\n",
    "\n",
    "    edge_lines = []\n",
    "    for u, v, edata in graph.edges(data=True):\n",
    "        if 'color' in edata:\n",
    "            d_node1 = node_to_name[u]\n",
    "            d_node2 = node_to_name[v]\n",
    "            edge_lines.append(\n",
    "                u'\\t{0} -> {1} [ label = \"{2}\" ];'.format(d_node1, d_node2, edata['color']))\n",
    "\n",
    "    lines += sorted(edge_lines)\n",
    "    lines.append('}')\n",
    "    return u'\\n'.join(lines)"
   ]
  },
  {
   "cell_type": "code",
   "execution_count": null,
   "metadata": {},
   "outputs": [],
   "source": [
    "from sklearn.feature_selection import SelectKBest\n",
    "from sklearn.feature_selection import chi2"
   ]
  },
  {
   "cell_type": "code",
   "execution_count": null,
   "metadata": {},
   "outputs": [],
   "source": [
    "chi2_selector = SelectKBest(chi2, k=10)\n",
    "X_kbest = chi2_selector.fit_transform(X, Y)"
   ]
  },
  {
   "cell_type": "code",
   "execution_count": null,
   "metadata": {},
   "outputs": [],
   "source": [
    "chi2_selector.get_support(indices=True)"
   ]
  },
  {
   "cell_type": "code",
   "execution_count": null,
   "metadata": {},
   "outputs": [],
   "source": [
    "for i, g in enumerate(feature_graphs):\n",
    "    if len(g.edges()) != 1:\n",
    "        print(len(g.edges()))"
   ]
  },
  {
   "cell_type": "code",
   "execution_count": null,
   "metadata": {},
   "outputs": [],
   "source": [
    "dot = to_dot(feature_graphs[2450])\n",
    "Source(dot)"
   ]
  },
  {
   "cell_type": "code",
   "execution_count": null,
   "metadata": {},
   "outputs": [],
   "source": [
    "dot = to_dot(graphs[0])\n",
    "Source(dot)"
   ]
  },
  {
   "cell_type": "code",
   "execution_count": null,
   "metadata": {},
   "outputs": [],
   "source": [
    "tests = []\n",
    "\n",
    "for l in model.lexgraphs.gen_lex_subgraphs(graphs[0], 1):\n",
    "    print(l)\n",
    "    tests.append(l[1])"
   ]
  },
  {
   "cell_type": "code",
   "execution_count": null,
   "metadata": {},
   "outputs": [],
   "source": [
    "dot = to_dot(tests[3])\n",
    "Source(dot)"
   ]
  },
  {
   "cell_type": "code",
   "execution_count": null,
   "metadata": {},
   "outputs": [],
   "source": [
    "from networkx.convert import from_dict_of_dicts as fdd\n",
    "from networkx.convert import to_dict_of_dicts as tdd\n",
    "\n",
    "H_dict = tdd(graphs[0])\n",
    "H_dict"
   ]
  },
  {
   "cell_type": "code",
   "execution_count": null,
   "metadata": {},
   "outputs": [],
   "source": []
  },
  {
   "cell_type": "code",
   "execution_count": null,
   "metadata": {},
   "outputs": [],
   "source": [
    "import pickle\n",
    "with open(\"pickle.dat\", \"rb\") as f:\n",
    "    graphs = pickle.load(f)"
   ]
  },
  {
   "cell_type": "code",
   "execution_count": null,
   "metadata": {},
   "outputs": [],
   "source": [
    "for n in graphs[0].nodes(data=True):\n",
    "    print(n)"
   ]
  },
  {
   "cell_type": "code",
   "execution_count": null,
   "metadata": {},
   "outputs": [],
   "source": [
    "import networkx as nx\n",
    "G = nx.MultiDiGraph()\n",
    "\n",
    "C = fdd(H_dict,create_using=nx.MultiDiGraph())"
   ]
  },
  {
   "cell_type": "code",
   "execution_count": null,
   "metadata": {},
   "outputs": [],
   "source": [
    "from graphviz import Digraph\n",
    "from graphviz import Source\n",
    "\n",
    "outdeg = graphs[7].degree()\n",
    "print(outdeg)\n",
    "\n",
    "to_keep = [n for (n, deg) in outdeg if deg != 0]\n",
    "G = graphs[7].subgraph(to_keep)\n",
    "dot = to_dot(G, integ=False)\n",
    "Source(dot)"
   ]
  },
  {
   "cell_type": "code",
   "execution_count": 253,
   "metadata": {},
   "outputs": [],
   "source": [
    "class GraphMatcher():\n",
    "    @staticmethod\n",
    "    def node_matcher(n1, n2):\n",
    "        logging.debug(f'matchig these: {n1}, {n2}')\n",
    "        if n1['name'] is None or n2['name'] is None:\n",
    "            return True\n",
    "        return n1['name'] == n2['name']\n",
    "    \n",
    "    @staticmethod\n",
    "    def edge_matcher(e1, e2):\n",
    "        logging.debug(f'matchig these: {e1}, {e2}')\n",
    "        return e1['color'] == e2['color']\n",
    "\n",
    "    def __init__(self, patterns):\n",
    "        self.patts = [\n",
    "            (pn_to_graph(patt)[0], key) for patt, key in patterns]\n",
    "\n",
    "    def match(self, graph):\n",
    "        for i, (patt, key) in enumerate(self.patts):\n",
    "            logging.debug(f'matching this: {self.patts[i]}')\n",
    "            matcher = DiGraphMatcher(\n",
    "                graph, patt, node_match=GraphMatcher.node_matcher, edge_match=GraphMatcher.edge_matcher)\n",
    "            if matcher.subgraph_is_isomorphic():\n",
    "                logging.debug('MATCH!')\n",
    "                yield key"
   ]
  },
  {
   "cell_type": "code",
   "execution_count": 254,
   "metadata": {},
   "outputs": [],
   "source": [
    "g = df[df.sentence == \"Colds and flu cause inflammation of the mucous membranes of the nose, throat and mouth.\"].iloc[0].graph"
   ]
  },
  {
   "cell_type": "code",
   "execution_count": 257,
   "metadata": {},
   "outputs": [],
   "source": [
    "from tuw_nlp.graph.utils import pn_to_graph\n",
    "from networkx.algorithms.isomorphism import DiGraphMatcher\n",
    "\n",
    "matcher = GraphMatcher([(\"(u_54 / cause  :2 (u_2 / entity1)  :2 (u_4 / entity2))\", 1)])"
   ]
  },
  {
   "cell_type": "code",
   "execution_count": 258,
   "metadata": {},
   "outputs": [
    {
     "name": "stdout",
     "output_type": "stream",
     "text": [
      "1\n"
     ]
    }
   ],
   "source": [
    "import logging\n",
    "\n",
    "for i in matcher.match(g):\n",
    "    print(i)"
   ]
  },
  {
   "cell_type": "code",
   "execution_count": 252,
   "metadata": {},
   "outputs": [
    {
     "data": {
      "image/svg+xml": [
       "<?xml version=\"1.0\" encoding=\"UTF-8\" standalone=\"no\"?>\n",
       "<!DOCTYPE svg PUBLIC \"-//W3C//DTD SVG 1.1//EN\"\n",
       " \"http://www.w3.org/Graphics/SVG/1.1/DTD/svg11.dtd\">\n",
       "<!-- Generated by graphviz version 2.40.1 (20161225.0304)\n",
       " -->\n",
       "<!-- Title: finite_state_machine Pages: 1 -->\n",
       "<svg width=\"538pt\" height=\"484pt\"\n",
       " viewBox=\"0.00 0.00 553.34 497.67\" xmlns=\"http://www.w3.org/2000/svg\" xmlns:xlink=\"http://www.w3.org/1999/xlink\">\n",
       "<g id=\"graph0\" class=\"graph\" transform=\"scale(.9722 .9722) rotate(0) translate(4 493.6701)\">\n",
       "<title>finite_state_machine</title>\n",
       "<polygon fill=\"#ffffff\" stroke=\"transparent\" points=\"-4,4 -4,-493.6701 549.3431,-493.6701 549.3431,4 -4,4\"/>\n",
       "<!-- COMMA -->\n",
       "<g id=\"node1\" class=\"node\">\n",
       "<title>COMMA</title>\n",
       "<ellipse fill=\"none\" stroke=\"#000000\" cx=\"46.1459\" cy=\"-443.5242\" rx=\"46.2923\" ry=\"46.2923\"/>\n",
       "<text text-anchor=\"middle\" x=\"46.1459\" y=\"-439.8242\" font-family=\"Times,serif\" font-size=\"14.00\" fill=\"#000000\">COMMA</text>\n",
       "</g>\n",
       "<!-- PERIOD -->\n",
       "<g id=\"node2\" class=\"node\">\n",
       "<title>PERIOD</title>\n",
       "<ellipse fill=\"none\" stroke=\"#000000\" cx=\"152.1459\" cy=\"-443.5242\" rx=\"42.4939\" ry=\"42.4939\"/>\n",
       "<text text-anchor=\"middle\" x=\"152.1459\" y=\"-439.8242\" font-family=\"Times,serif\" font-size=\"14.00\" fill=\"#000000\">PERIOD</text>\n",
       "</g>\n",
       "<!-- and -->\n",
       "<g id=\"node3\" class=\"node\">\n",
       "<title>and</title>\n",
       "<ellipse fill=\"none\" stroke=\"#000000\" cx=\"236.1459\" cy=\"-443.5242\" rx=\"23.2963\" ry=\"23.2963\"/>\n",
       "<text text-anchor=\"middle\" x=\"236.1459\" y=\"-439.8242\" font-family=\"Times,serif\" font-size=\"14.00\" fill=\"#000000\">and</text>\n",
       "</g>\n",
       "<!-- cause -->\n",
       "<g id=\"node4\" class=\"node\">\n",
       "<title>cause</title>\n",
       "<ellipse fill=\"none\" stroke=\"#000000\" cx=\"308.1459\" cy=\"-443.5242\" rx=\"30.5947\" ry=\"30.5947\"/>\n",
       "<text text-anchor=\"middle\" x=\"308.1459\" y=\"-439.8242\" font-family=\"Times,serif\" font-size=\"14.00\" fill=\"#000000\">cause</text>\n",
       "</g>\n",
       "<!-- cold -->\n",
       "<g id=\"node5\" class=\"node\">\n",
       "<title>cold</title>\n",
       "<ellipse fill=\"none\" stroke=\"#000000\" cx=\"229.1459\" cy=\"-311.2814\" rx=\"25.9954\" ry=\"25.9954\"/>\n",
       "<text text-anchor=\"middle\" x=\"229.1459\" y=\"-307.5814\" font-family=\"Times,serif\" font-size=\"14.00\" fill=\"#000000\">cold</text>\n",
       "</g>\n",
       "<!-- cause&#45;&gt;cold -->\n",
       "<g id=\"edge1\" class=\"edge\">\n",
       "<title>cause&#45;&gt;cold</title>\n",
       "<path fill=\"none\" stroke=\"#000000\" d=\"M292.3489,-417.0808C279.4696,-395.5213 261.2551,-365.0309 247.6861,-342.3169\"/>\n",
       "<polygon fill=\"#000000\" stroke=\"#000000\" points=\"250.6846,-340.5115 242.5514,-333.7216 244.6752,-344.1014 250.6846,-340.5115\"/>\n",
       "<text text-anchor=\"middle\" x=\"272.6459\" y=\"-368.1783\" font-family=\"Times,serif\" font-size=\"14.00\" fill=\"#000000\">2</text>\n",
       "</g>\n",
       "<!-- entity1 -->\n",
       "<g id=\"node6\" class=\"node\">\n",
       "<title>entity1</title>\n",
       "<ellipse fill=\"none\" stroke=\"#000000\" cx=\"308.1459\" cy=\"-311.2814\" rx=\"35.194\" ry=\"35.194\"/>\n",
       "<text text-anchor=\"middle\" x=\"308.1459\" y=\"-307.5814\" font-family=\"Times,serif\" font-size=\"14.00\" fill=\"#000000\">entity1</text>\n",
       "</g>\n",
       "<!-- cause&#45;&gt;entity1 -->\n",
       "<g id=\"edge2\" class=\"edge\">\n",
       "<title>cause&#45;&gt;entity1</title>\n",
       "<path fill=\"none\" stroke=\"#000000\" d=\"M308.1459,-412.8527C308.1459,-396.1143 308.1459,-375.0727 308.1459,-356.4884\"/>\n",
       "<polygon fill=\"#000000\" stroke=\"#000000\" points=\"311.646,-356.4596 308.1459,-346.4596 304.646,-356.4596 311.646,-356.4596\"/>\n",
       "<text text-anchor=\"middle\" x=\"311.6459\" y=\"-368.1783\" font-family=\"Times,serif\" font-size=\"14.00\" fill=\"#000000\">2</text>\n",
       "</g>\n",
       "<!-- entity2 -->\n",
       "<g id=\"node7\" class=\"node\">\n",
       "<title>entity2</title>\n",
       "<ellipse fill=\"none\" stroke=\"#000000\" cx=\"396.1459\" cy=\"-311.2814\" rx=\"35.194\" ry=\"35.194\"/>\n",
       "<text text-anchor=\"middle\" x=\"396.1459\" y=\"-307.5814\" font-family=\"Times,serif\" font-size=\"14.00\" fill=\"#000000\">entity2</text>\n",
       "</g>\n",
       "<!-- cause&#45;&gt;entity2 -->\n",
       "<g id=\"edge3\" class=\"edge\">\n",
       "<title>cause&#45;&gt;entity2</title>\n",
       "<path fill=\"none\" stroke=\"#000000\" d=\"M325.1132,-418.0265C338.0762,-398.5462 356.1503,-371.3852 370.8224,-349.3366\"/>\n",
       "<polygon fill=\"#000000\" stroke=\"#000000\" points=\"373.8393,-351.1206 376.4655,-340.8564 368.0117,-347.2426 373.8393,-351.1206\"/>\n",
       "<text text-anchor=\"middle\" x=\"363.6459\" y=\"-368.1783\" font-family=\"Times,serif\" font-size=\"14.00\" fill=\"#000000\">2</text>\n",
       "</g>\n",
       "<!-- membrane -->\n",
       "<g id=\"node8\" class=\"node\">\n",
       "<title>membrane</title>\n",
       "<ellipse fill=\"none\" stroke=\"#000000\" cx=\"396.1459\" cy=\"-176.4389\" rx=\"48.9926\" ry=\"48.9926\"/>\n",
       "<text text-anchor=\"middle\" x=\"396.1459\" y=\"-172.7389\" font-family=\"Times,serif\" font-size=\"14.00\" fill=\"#000000\">membrane</text>\n",
       "</g>\n",
       "<!-- entity2&#45;&gt;membrane -->\n",
       "<g id=\"edge4\" class=\"edge\">\n",
       "<title>entity2&#45;&gt;membrane</title>\n",
       "<path fill=\"none\" stroke=\"#000000\" d=\"M396.1459,-275.8531C396.1459,-263.5414 396.1459,-249.3768 396.1459,-235.6704\"/>\n",
       "<polygon fill=\"#000000\" stroke=\"#000000\" points=\"399.646,-235.3167 396.1459,-225.3167 392.646,-235.3168 399.646,-235.3167\"/>\n",
       "<text text-anchor=\"middle\" x=\"399.6459\" y=\"-246.9845\" font-family=\"Times,serif\" font-size=\"14.00\" fill=\"#000000\">2</text>\n",
       "</g>\n",
       "<!-- mouth -->\n",
       "<g id=\"node9\" class=\"node\">\n",
       "<title>mouth</title>\n",
       "<ellipse fill=\"none\" stroke=\"#000000\" cx=\"265.1459\" cy=\"-38.3466\" rx=\"33.5952\" ry=\"33.5952\"/>\n",
       "<text text-anchor=\"middle\" x=\"265.1459\" y=\"-34.6466\" font-family=\"Times,serif\" font-size=\"14.00\" fill=\"#000000\">mouth</text>\n",
       "</g>\n",
       "<!-- membrane&#45;&gt;mouth -->\n",
       "<g id=\"edge5\" class=\"edge\">\n",
       "<title>membrane&#45;&gt;mouth</title>\n",
       "<path fill=\"none\" stroke=\"#000000\" d=\"M362.4102,-140.8767C341.7497,-119.0977 315.526,-91.4543 295.5152,-70.3601\"/>\n",
       "<polygon fill=\"#000000\" stroke=\"#000000\" points=\"297.8673,-67.754 288.4458,-62.9079 292.7889,-72.5717 297.8673,-67.754\"/>\n",
       "<text text-anchor=\"middle\" x=\"334.6459\" y=\"-98.4932\" font-family=\"Times,serif\" font-size=\"14.00\" fill=\"#000000\">2</text>\n",
       "</g>\n",
       "<!-- mucous -->\n",
       "<g id=\"node10\" class=\"node\">\n",
       "<title>mucous</title>\n",
       "<ellipse fill=\"none\" stroke=\"#000000\" cx=\"355.1459\" cy=\"-38.3466\" rx=\"38.1938\" ry=\"38.1938\"/>\n",
       "<text text-anchor=\"middle\" x=\"355.1459\" y=\"-34.6466\" font-family=\"Times,serif\" font-size=\"14.00\" fill=\"#000000\">mucous</text>\n",
       "</g>\n",
       "<!-- membrane&#45;&gt;mucous -->\n",
       "<g id=\"edge6\" class=\"edge\">\n",
       "<title>membrane&#45;&gt;mucous</title>\n",
       "<path fill=\"none\" stroke=\"#000000\" d=\"M382.2652,-129.6871C377.9993,-115.3193 373.3051,-99.5087 369.0385,-85.1382\"/>\n",
       "<polygon fill=\"#000000\" stroke=\"#000000\" points=\"372.365,-84.0451 366.1635,-75.4549 365.6545,-86.0375 372.365,-84.0451\"/>\n",
       "<text text-anchor=\"middle\" x=\"379.6459\" y=\"-98.4932\" font-family=\"Times,serif\" font-size=\"14.00\" fill=\"#000000\">0</text>\n",
       "</g>\n",
       "<!-- nose -->\n",
       "<g id=\"node11\" class=\"node\">\n",
       "<title>nose</title>\n",
       "<ellipse fill=\"none\" stroke=\"#000000\" cx=\"438.1459\" cy=\"-38.3466\" rx=\"26.7961\" ry=\"26.7961\"/>\n",
       "<text text-anchor=\"middle\" x=\"438.1459\" y=\"-34.6466\" font-family=\"Times,serif\" font-size=\"14.00\" fill=\"#000000\">nose</text>\n",
       "</g>\n",
       "<!-- membrane&#45;&gt;nose -->\n",
       "<g id=\"edge7\" class=\"edge\">\n",
       "<title>membrane&#45;&gt;nose</title>\n",
       "<path fill=\"none\" stroke=\"#000000\" d=\"M410.3652,-129.6871C415.8833,-111.544 422.1012,-91.1002 427.2532,-74.1607\"/>\n",
       "<polygon fill=\"#000000\" stroke=\"#000000\" points=\"430.7462,-74.704 430.3076,-64.1183 424.0491,-72.6671 430.7462,-74.704\"/>\n",
       "<text text-anchor=\"middle\" x=\"424.6459\" y=\"-98.4932\" font-family=\"Times,serif\" font-size=\"14.00\" fill=\"#000000\">2</text>\n",
       "</g>\n",
       "<!-- throat -->\n",
       "<g id=\"node14\" class=\"node\">\n",
       "<title>throat</title>\n",
       "<ellipse fill=\"none\" stroke=\"#000000\" cx=\"514.1459\" cy=\"-38.3466\" rx=\"31.3957\" ry=\"31.3957\"/>\n",
       "<text text-anchor=\"middle\" x=\"514.1459\" y=\"-34.6466\" font-family=\"Times,serif\" font-size=\"14.00\" fill=\"#000000\">throat</text>\n",
       "</g>\n",
       "<!-- membrane&#45;&gt;throat -->\n",
       "<g id=\"edge8\" class=\"edge\">\n",
       "<title>membrane&#45;&gt;throat</title>\n",
       "<path fill=\"none\" stroke=\"#000000\" d=\"M428.0784,-139.0691C446.5167,-117.4913 469.4578,-90.6439 487.0173,-70.0945\"/>\n",
       "<polygon fill=\"#000000\" stroke=\"#000000\" points=\"489.8669,-72.1473 493.7024,-62.2711 484.5452,-67.5999 489.8669,-72.1473\"/>\n",
       "<text text-anchor=\"middle\" x=\"469.6459\" y=\"-98.4932\" font-family=\"Times,serif\" font-size=\"14.00\" fill=\"#000000\">2</text>\n",
       "</g>\n",
       "<!-- of -->\n",
       "<g id=\"node12\" class=\"node\">\n",
       "<title>of</title>\n",
       "<ellipse fill=\"none\" stroke=\"#000000\" cx=\"375.1459\" cy=\"-443.5242\" rx=\"18.399\" ry=\"18.399\"/>\n",
       "<text text-anchor=\"middle\" x=\"375.1459\" y=\"-439.8242\" font-family=\"Times,serif\" font-size=\"14.00\" fill=\"#000000\">of</text>\n",
       "</g>\n",
       "<!-- the -->\n",
       "<g id=\"node13\" class=\"node\">\n",
       "<title>the</title>\n",
       "<ellipse fill=\"none\" stroke=\"#000000\" cx=\"433.1459\" cy=\"-443.5242\" rx=\"21.3963\" ry=\"21.3963\"/>\n",
       "<text text-anchor=\"middle\" x=\"433.1459\" y=\"-439.8242\" font-family=\"Times,serif\" font-size=\"14.00\" fill=\"#000000\">the</text>\n",
       "</g>\n",
       "</g>\n",
       "</svg>\n"
      ],
      "text/plain": [
       "<graphviz.files.Source at 0x7f5737bfbe50>"
      ]
     },
     "execution_count": 252,
     "metadata": {},
     "output_type": "execute_result"
    }
   ],
   "source": [
    "Source(to_dot(g))"
   ]
  },
  {
   "cell_type": "code",
   "execution_count": null,
   "metadata": {},
   "outputs": [],
   "source": []
  }
 ],
 "metadata": {
  "kernelspec": {
   "display_name": "Python 3",
   "language": "python",
   "name": "python3"
  },
  "language_info": {
   "codemirror_mode": {
    "name": "ipython",
    "version": 3
   },
   "file_extension": ".py",
   "mimetype": "text/x-python",
   "name": "python",
   "nbconvert_exporter": "python",
   "pygments_lexer": "ipython3",
   "version": "3.9.2"
  }
 },
 "nbformat": 4,
 "nbformat_minor": 2
}
