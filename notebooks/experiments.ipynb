{
 "cells": [
  {
   "cell_type": "code",
   "execution_count": 1,
   "metadata": {},
   "outputs": [
    {
     "data": {
      "text/plain": [
       "True"
      ]
     },
     "execution_count": 1,
     "metadata": {},
     "output_type": "execute_result"
    }
   ],
   "source": [
    "from exprel.dataset.semeval_dataset import SemevalDataset\n",
    "import exprel.utils\n",
    "from dotenv import load_dotenv \n",
    "load_dotenv()"
   ]
  },
  {
   "cell_type": "code",
   "execution_count": 2,
   "metadata": {},
   "outputs": [
    {
     "name": "stderr",
     "output_type": "stream",
     "text": [
      "2021-04-07 10:37:36 INFO: Loading these models for language: en (English):\n",
      "=========================\n",
      "| Processor | Package   |\n",
      "-------------------------\n",
      "| tokenize  | combined  |\n",
      "| pos       | combined  |\n",
      "| lemma     | combined  |\n",
      "| depparse  | combined  |\n",
      "| sentiment | sstplus   |\n",
      "| ner       | ontonotes |\n",
      "=========================\n",
      "\n",
      "/home/kovacs/miniconda3/envs/rel/lib/python3.9/site-packages/torch/cuda/__init__.py:52: UserWarning: CUDA initialization: The NVIDIA driver on your system is too old (found version 6050). Please update your GPU driver by downloading and installing a new version from the URL: http://www.nvidia.com/Download/index.aspx Alternatively, go to: https://pytorch.org to install a PyTorch version that has been compiled with your version of the CUDA driver. (Triggered internally at  /pytorch/c10/cuda/CUDAFunctions.cpp:109.)\n",
      "  return torch._C._cuda_getDeviceCount() > 0\n",
      "2021-04-07 10:37:36 INFO: Use device: cpu\n",
      "2021-04-07 10:37:36 INFO: Loading: tokenize\n",
      "2021-04-07 10:37:36 INFO: Loading: pos\n",
      "2021-04-07 10:37:37 INFO: Loading: lemma\n",
      "2021-04-07 10:37:37 INFO: Loading: depparse\n",
      "2021-04-07 10:37:38 INFO: Loading: sentiment\n",
      "2021-04-07 10:37:38 INFO: Loading: ner\n",
      "2021-04-07 10:37:40 INFO: Done loading processors!\n",
      "0it [00:00, ?it/s]/home/kovacs/projects/exp-relation-extraction/exprel/dataset/semeval_sample.py:33: GuessedAtParserWarning: No parser was explicitly specified, so I'm using the best available HTML parser for this system (\"html.parser\"). This usually isn't a problem, but if you run this code on another system, or in a different virtual environment, it may use a different parser and behave differently.\n",
      "\n",
      "The code that caused this warning is on line 33 of the file /home/kovacs/projects/exp-relation-extraction/exprel/dataset/semeval_sample.py. To get rid of this warning, pass the additional argument 'features=\"html.parser\"' to the BeautifulSoup constructor.\n",
      "\n",
      "  soup = BeautifulSoup(sen)\n",
      "8000it [00:12, 648.45it/s]\n"
     ]
    }
   ],
   "source": [
    "data = SemevalDataset(\"/home/kovacs/projects/exp-relation-extraction/data/semeval_train.txt\")"
   ]
  },
  {
   "cell_type": "code",
   "execution_count": 3,
   "metadata": {},
   "outputs": [],
   "source": [
    "data.load_graphs(\"pickle.dat\")"
   ]
  },
  {
   "cell_type": "code",
   "execution_count": 4,
   "metadata": {},
   "outputs": [],
   "source": [
    "df = data.to_dataframe()"
   ]
  },
  {
   "cell_type": "code",
   "execution_count": 5,
   "metadata": {},
   "outputs": [
    {
     "data": {
      "text/plain": [
       "8000"
      ]
     },
     "execution_count": 5,
     "metadata": {},
     "output_type": "execute_result"
    }
   ],
   "source": [
    "len(df)"
   ]
  },
  {
   "cell_type": "code",
   "execution_count": 120,
   "metadata": {},
   "outputs": [
    {
     "data": {
      "text/plain": [
       "label\n",
       "Cause-Effect(e1,e2)           344\n",
       "Cause-Effect(e2,e1)           659\n",
       "Component-Whole(e1,e2)        470\n",
       "Component-Whole(e2,e1)        471\n",
       "Content-Container(e1,e2)      374\n",
       "Content-Container(e2,e1)      166\n",
       "Entity-Destination(e1,e2)     844\n",
       "Entity-Destination(e2,e1)       1\n",
       "Entity-Origin(e1,e2)          568\n",
       "Entity-Origin(e2,e1)          148\n",
       "Instrument-Agency(e1,e2)       97\n",
       "Instrument-Agency(e2,e1)      407\n",
       "Member-Collection(e1,e2)       78\n",
       "Member-Collection(e2,e1)      612\n",
       "Message-Topic(e1,e2)          490\n",
       "Message-Topic(e2,e1)          144\n",
       "Other                        1410\n",
       "Product-Producer(e1,e2)       323\n",
       "Product-Producer(e2,e1)       394\n",
       "dtype: int64"
      ]
     },
     "execution_count": 120,
     "metadata": {},
     "output_type": "execute_result"
    }
   ],
   "source": [
    "df.groupby(\"label\").size()"
   ]
  },
  {
   "cell_type": "code",
   "execution_count": 7,
   "metadata": {},
   "outputs": [],
   "source": [
    "one_versus_rest = data.one_versus_rest(df, \"Entity-Destination(e1,e2)\")"
   ]
  },
  {
   "cell_type": "code",
   "execution_count": 8,
   "metadata": {},
   "outputs": [
    {
     "data": {
      "text/plain": [
       "'The system as described above has its greatest application in an arrayed configuration of antenna elements.'"
      ]
     },
     "execution_count": 8,
     "metadata": {},
     "output_type": "execute_result"
    }
   ],
   "source": [
    "one_versus_rest.iloc[0].sentence"
   ]
  },
  {
   "cell_type": "code",
   "execution_count": 9,
   "metadata": {},
   "outputs": [],
   "source": [
    "import pandas as pd\n",
    "\n",
    "ids = pd.to_numeric(one_versus_rest.sen_id).tolist()\n",
    "sentences = one_versus_rest.sentence.tolist()\n",
    "labels = one_versus_rest.one_versus_rest.tolist()\n",
    "postprocessed_graphs = one_versus_rest.graph.tolist()"
   ]
  },
  {
   "cell_type": "code",
   "execution_count": 10,
   "metadata": {},
   "outputs": [
    {
     "data": {
      "text/plain": [
       "844"
      ]
     },
     "execution_count": 10,
     "metadata": {},
     "output_type": "execute_result"
    }
   ],
   "source": [
    "labels.count(1)"
   ]
  },
  {
   "cell_type": "code",
   "execution_count": 11,
   "metadata": {},
   "outputs": [
    {
     "data": {
      "text/plain": [
       "7156"
      ]
     },
     "execution_count": 11,
     "metadata": {},
     "output_type": "execute_result"
    }
   ],
   "source": [
    "labels.count(0)"
   ]
  },
  {
   "cell_type": "code",
   "execution_count": 12,
   "metadata": {},
   "outputs": [
    {
     "name": "stderr",
     "output_type": "stream",
     "text": [
      "WARNING:root:loading cache from file: cache/UD_Fourlang.json\n",
      "WARNING:root:loaded cache from cache/UD_Fourlang.json with interpretations: ['fourlang', 'ud']\n"
     ]
    }
   ],
   "source": [
    "from exprel.feature_extractor.extract import FeatureExtractor\n",
    "from exprel.models.model import GraphModel\n",
    "\n",
    "extractor = FeatureExtractor()\n",
    "model = GraphModel()"
   ]
  },
  {
   "cell_type": "code",
   "execution_count": 13,
   "metadata": {
    "tags": []
   },
   "outputs": [
    {
     "name": "stderr",
     "output_type": "stream",
     "text": [
      "8000it [01:45, 75.88it/s] \n"
     ]
    }
   ],
   "source": [
    "from tqdm import tqdm\n",
    "\n",
    "for ind, graph, label in tqdm(zip(ids, postprocessed_graphs, labels)):\n",
    "    model.featurize_sen_graph(ind, graph, label, 3)"
   ]
  },
  {
   "cell_type": "code",
   "execution_count": 14,
   "metadata": {},
   "outputs": [
    {
     "data": {
      "text/plain": [
       "499095"
      ]
     },
     "execution_count": 14,
     "metadata": {},
     "output_type": "execute_result"
    }
   ],
   "source": [
    "model.vocab_size"
   ]
  },
  {
   "cell_type": "code",
   "execution_count": 15,
   "metadata": {},
   "outputs": [],
   "source": [
    "model.select_n_best(7000)"
   ]
  },
  {
   "cell_type": "code",
   "execution_count": 16,
   "metadata": {},
   "outputs": [],
   "source": [
    "X, Y = model.get_x_y(one_versus_rest.one_versus_rest.tolist())"
   ]
  },
  {
   "cell_type": "code",
   "execution_count": 122,
   "metadata": {},
   "outputs": [
    {
     "data": {
      "text/plain": [
       "259"
      ]
     },
     "execution_count": 122,
     "metadata": {},
     "output_type": "execute_result"
    }
   ],
   "source": [
    "list(tst_labels).count(1)"
   ]
  },
  {
   "cell_type": "code",
   "execution_count": 18,
   "metadata": {},
   "outputs": [],
   "source": [
    "from sklearn.model_selection import train_test_split as split\n",
    "\n",
    "tr_data,tst_data,tr_labels,tst_labels = split(X,Y, test_size=0.3, random_state=1234)"
   ]
  },
  {
   "cell_type": "code",
   "execution_count": 96,
   "metadata": {},
   "outputs": [],
   "source": [
    "from sklearn.tree import DecisionTreeClassifier\n",
    "from sklearn.ensemble import GradientBoostingClassifier\n",
    "from sklearn.linear_model import LogisticRegression\n",
    "clf = LogisticRegression(random_state=0).fit(tr_data, tr_labels)\n",
    "#clf = DecisionTreeClassifier(random_state=0, max_depth=4).fit(tr_data, tr_labels)"
   ]
  },
  {
   "cell_type": "code",
   "execution_count": 97,
   "metadata": {},
   "outputs": [
    {
     "name": "stdout",
     "output_type": "stream",
     "text": [
      "0.8046875\n",
      "0.7953667953667953\n",
      "0.8\n",
      "259\n"
     ]
    }
   ],
   "source": [
    "from sklearn.metrics import precision_recall_fscore_support\n",
    "\n",
    "lr_pred = clf.predict(tst_data)\n",
    "for pcf in precision_recall_fscore_support(tst_labels, lr_pred, average=None):\n",
    "    print(pcf[1])"
   ]
  },
  {
   "cell_type": "code",
   "execution_count": 33,
   "metadata": {},
   "outputs": [
    {
     "name": "stdout",
     "output_type": "stream",
     "text": [
      "[   1   13   38 ... 4671 4672    0]\n"
     ]
    }
   ],
   "source": [
    "import numpy as np\n",
    "\n",
    "importances = clf.feature_importances_\n",
    "indices = np.argsort(importances)[::-1]\n",
    "print(indices)"
   ]
  },
  {
   "cell_type": "code",
   "execution_count": 64,
   "metadata": {},
   "outputs": [
    {
     "data": {
      "image/png": "[encoded data removed]",
      "text/plain": [
       "<Figure size 1440x1440 with 1 Axes>"
      ]
     },
     "metadata": {
      "needs_background": "light"
     },
     "output_type": "display_data"
    }
   ],
   "source": [
    "import matplotlib.pyplot as plt\n",
    "plt.figure(figsize=(20,20))\n",
    "\n",
    "from sklearn.tree import plot_tree\n",
    "t = plot_tree(clf, filled=True, fontsize=14)"
   ]
  },
  {
   "cell_type": "code",
   "execution_count": null,
   "metadata": {},
   "outputs": [],
   "source": [
    "print(\"hello\")"
   ]
  },
  {
   "cell_type": "code",
   "execution_count": null,
   "metadata": {},
   "outputs": [],
   "source": [
    "list(tst_labels).count(1)"
   ]
  },
  {
   "cell_type": "code",
   "execution_count": null,
   "metadata": {},
   "outputs": [],
   "source": [
    "list(lr_pred).count(1)"
   ]
  },
  {
   "cell_type": "code",
   "execution_count": 98,
   "metadata": {},
   "outputs": [],
   "source": [
    "import eli5"
   ]
  },
  {
   "cell_type": "code",
   "execution_count": 99,
   "metadata": {},
   "outputs": [],
   "source": [
    "weights_df = eli5.explain_weights_df(clf)"
   ]
  },
  {
   "cell_type": "code",
   "execution_count": 100,
   "metadata": {},
   "outputs": [
    {
     "data": {
      "text/html": [
       "<div>\n",
       "<style scoped>\n",
       "    .dataframe tbody tr th:only-of-type {\n",
       "        vertical-align: middle;\n",
       "    }\n",
       "\n",
       "    .dataframe tbody tr th {\n",
       "        vertical-align: top;\n",
       "    }\n",
       "\n",
       "    .dataframe thead th {\n",
       "        text-align: right;\n",
       "    }\n",
       "</style>\n",
       "<table border=\"1\" class=\"dataframe\">\n",
       "  <thead>\n",
       "    <tr style=\"text-align: right;\">\n",
       "      <th></th>\n",
       "      <th>target</th>\n",
       "      <th>feature</th>\n",
       "      <th>weight</th>\n",
       "    </tr>\n",
       "  </thead>\n",
       "  <tbody>\n",
       "    <tr>\n",
       "      <th>0</th>\n",
       "      <td>1.0</td>\n",
       "      <td>x42</td>\n",
       "      <td>3.554073</td>\n",
       "    </tr>\n",
       "    <tr>\n",
       "      <th>1</th>\n",
       "      <td>1.0</td>\n",
       "      <td>x19</td>\n",
       "      <td>2.829777</td>\n",
       "    </tr>\n",
       "    <tr>\n",
       "      <th>2</th>\n",
       "      <td>1.0</td>\n",
       "      <td>x1992</td>\n",
       "      <td>2.306070</td>\n",
       "    </tr>\n",
       "    <tr>\n",
       "      <th>3</th>\n",
       "      <td>1.0</td>\n",
       "      <td>x13</td>\n",
       "      <td>2.115405</td>\n",
       "    </tr>\n",
       "    <tr>\n",
       "      <th>4</th>\n",
       "      <td>1.0</td>\n",
       "      <td>x97</td>\n",
       "      <td>1.625335</td>\n",
       "    </tr>\n",
       "    <tr>\n",
       "      <th>...</th>\n",
       "      <td>...</td>\n",
       "      <td>...</td>\n",
       "      <td>...</td>\n",
       "    </tr>\n",
       "    <tr>\n",
       "      <th>6357</th>\n",
       "      <td>1.0</td>\n",
       "      <td>x963</td>\n",
       "      <td>-1.105894</td>\n",
       "    </tr>\n",
       "    <tr>\n",
       "      <th>6358</th>\n",
       "      <td>1.0</td>\n",
       "      <td>x17</td>\n",
       "      <td>-1.162078</td>\n",
       "    </tr>\n",
       "    <tr>\n",
       "      <th>6359</th>\n",
       "      <td>1.0</td>\n",
       "      <td>x376</td>\n",
       "      <td>-1.169265</td>\n",
       "    </tr>\n",
       "    <tr>\n",
       "      <th>6360</th>\n",
       "      <td>1.0</td>\n",
       "      <td>x2</td>\n",
       "      <td>-1.343590</td>\n",
       "    </tr>\n",
       "    <tr>\n",
       "      <th>6361</th>\n",
       "      <td>1.0</td>\n",
       "      <td>&lt;BIAS&gt;</td>\n",
       "      <td>-2.753407</td>\n",
       "    </tr>\n",
       "  </tbody>\n",
       "</table>\n",
       "<p>6362 rows × 3 columns</p>\n",
       "</div>"
      ],
      "text/plain": [
       "      target feature    weight\n",
       "0        1.0     x42  3.554073\n",
       "1        1.0     x19  2.829777\n",
       "2        1.0   x1992  2.306070\n",
       "3        1.0     x13  2.115405\n",
       "4        1.0     x97  1.625335\n",
       "...      ...     ...       ...\n",
       "6357     1.0    x963 -1.105894\n",
       "6358     1.0     x17 -1.162078\n",
       "6359     1.0    x376 -1.169265\n",
       "6360     1.0      x2 -1.343590\n",
       "6361     1.0  <BIAS> -2.753407\n",
       "\n",
       "[6362 rows x 3 columns]"
      ]
     },
     "execution_count": 100,
     "metadata": {},
     "output_type": "execute_result"
    }
   ],
   "source": [
    "weights_df"
   ]
  },
  {
   "cell_type": "code",
   "execution_count": 24,
   "metadata": {},
   "outputs": [],
   "source": [
    "feature_graphs = model.get_feature_graphs()"
   ]
  },
  {
   "cell_type": "code",
   "execution_count": 29,
   "metadata": {},
   "outputs": [
    {
     "ename": "NameError",
     "evalue": "name 'to_dot' is not defined",
     "output_type": "error",
     "traceback": [
      "\u001b[0;31m---------------------------------------------------------------------------\u001b[0m",
      "\u001b[0;31mNameError\u001b[0m                                 Traceback (most recent call last)",
      "\u001b[0;32m<ipython-input-29-c78ee7fe0ed8>\u001b[0m in \u001b[0;36m<module>\u001b[0;34m\u001b[0m\n\u001b[1;32m      1\u001b[0m \u001b[0;32mfrom\u001b[0m \u001b[0mgraphviz\u001b[0m \u001b[0;32mimport\u001b[0m \u001b[0mSource\u001b[0m\u001b[0;34m\u001b[0m\u001b[0;34m\u001b[0m\u001b[0m\n\u001b[1;32m      2\u001b[0m \u001b[0mg\u001b[0m \u001b[0;34m=\u001b[0m \u001b[0mfeature_graphs\u001b[0m\u001b[0;34m[\u001b[0m\u001b[0mmodel\u001b[0m\u001b[0;34m.\u001b[0m\u001b[0minverse_relabel\u001b[0m\u001b[0;34m[\u001b[0m\u001b[0;36m1\u001b[0m\u001b[0;34m]\u001b[0m\u001b[0;34m]\u001b[0m\u001b[0;34m\u001b[0m\u001b[0;34m\u001b[0m\u001b[0m\n\u001b[0;32m----> 3\u001b[0;31m \u001b[0mSource\u001b[0m\u001b[0;34m(\u001b[0m\u001b[0mto_dot\u001b[0m\u001b[0;34m(\u001b[0m\u001b[0mg\u001b[0m\u001b[0;34m)\u001b[0m\u001b[0;34m)\u001b[0m\u001b[0;34m\u001b[0m\u001b[0;34m\u001b[0m\u001b[0m\n\u001b[0m",
      "\u001b[0;31mNameError\u001b[0m: name 'to_dot' is not defined"
     ]
    }
   ],
   "source": [
    "from graphviz import Source\n",
    "g = feature_graphs[model.inverse_relabel[1]]\n",
    "Source(to_dot(g))"
   ]
  },
  {
   "cell_type": "code",
   "execution_count": 25,
   "metadata": {},
   "outputs": [],
   "source": [
    "feature_graph_strings = model.get_feature_graph_strings()"
   ]
  },
  {
   "cell_type": "code",
   "execution_count": 112,
   "metadata": {},
   "outputs": [],
   "source": [
    "features = []\n",
    "most_important_weights = weights_df.iloc[:5].feature.str.strip(\"x\").tolist()\n",
    "for i in most_important_weights:\n",
    "    g_nx = feature_graphs[model.inverse_relabel[int(i)]]\n",
    "    if len(g_nx.edges()):\n",
    "        g = feature_graph_strings[model.inverse_relabel[int(i)]]\n",
    "        features.append((g, 1))"
   ]
  },
  {
   "cell_type": "code",
   "execution_count": 113,
   "metadata": {},
   "outputs": [
    {
     "data": {
      "text/plain": [
       "[('(u_29 / to  :2 (u_4 / entity2))', 1),\n",
       " ('(u_26 / into  :2 (u_4 / entity2))', 1),\n",
       " ('(u_82 / place  :2 (u_2 / entity1))', 1)]"
      ]
     },
     "execution_count": 113,
     "metadata": {},
     "output_type": "execute_result"
    }
   ],
   "source": [
    "features"
   ]
  },
  {
   "cell_type": "code",
   "execution_count": 114,
   "metadata": {},
   "outputs": [],
   "source": [
    "extractor.set_matcher(features)"
   ]
  },
  {
   "cell_type": "code",
   "execution_count": 115,
   "metadata": {},
   "outputs": [],
   "source": [
    "_, val = split(one_versus_rest, test_size=0.3, random_state=1234) "
   ]
  },
  {
   "cell_type": "code",
   "execution_count": 116,
   "metadata": {},
   "outputs": [],
   "source": [
    "val_graphs = val.graph.tolist()\n",
    "val_labels = val.one_versus_rest.tolist()"
   ]
  },
  {
   "cell_type": "code",
   "execution_count": 117,
   "metadata": {},
   "outputs": [],
   "source": [
    "val_predicted = []\n",
    "for g in val_graphs:\n",
    "    feats = extractor.matcher.match(g)\n",
    "    label = 0\n",
    "    for feat in feats:\n",
    "        label = feat\n",
    "    val_predicted.append(label)"
   ]
  },
  {
   "cell_type": "code",
   "execution_count": 118,
   "metadata": {},
   "outputs": [
    {
     "data": {
      "text/plain": [
       "270"
      ]
     },
     "execution_count": 118,
     "metadata": {},
     "output_type": "execute_result"
    }
   ],
   "source": [
    "val_predicted.count(1)"
   ]
  },
  {
   "cell_type": "code",
   "execution_count": 119,
   "metadata": {},
   "outputs": [
    {
     "name": "stdout",
     "output_type": "stream",
     "text": [
      "0.7111111111111111\n",
      "0.7413127413127413\n",
      "0.7258979206049149\n",
      "259\n"
     ]
    }
   ],
   "source": [
    "from sklearn.metrics import precision_recall_fscore_support\n",
    "for pcf in precision_recall_fscore_support(val_labels, val_predicted, average=None):\n",
    "    print(pcf[1])"
   ]
  },
  {
   "cell_type": "code",
   "execution_count": 113,
   "metadata": {},
   "outputs": [],
   "source": [
    "import networkx as nx\n",
    "all_features = nx.MultiDiGraph()"
   ]
  },
  {
   "cell_type": "code",
   "execution_count": 114,
   "metadata": {},
   "outputs": [],
   "source": [
    "for i, t in enumerate(weights_df.iloc[:10].feature.str.strip(\"x\").tolist()):\n",
    "    node_to_string = {}\n",
    "    g = feature_graphs[model.inverse_relabel[int(t)]]\n",
    "    nodes = []\n",
    "    for n in g.nodes(data=True):\n",
    "        n_post = n[1][\"name\"]+\"_feature\"+str(i)\n",
    "        nodes.append(n_post)\n",
    "        node_to_string[n[0]] = n_post\n",
    "    all_features.add_nodes_from(nodes)\n",
    "    \n",
    "    for e in g.edges(data=True):\n",
    "        all_features.add_edge(node_to_string[e[0]], node_to_string[e[1]], color=e[2][\"color\"])\n",
    "        "
   ]
  },
  {
   "cell_type": "code",
   "execution_count": 115,
   "metadata": {},
   "outputs": [
    {
     "data": {
      "image/svg+xml": [
       "<?xml version=\"1.0\" encoding=\"UTF-8\" standalone=\"no\"?>\n",
       "<!DOCTYPE svg PUBLIC \"-//W3C//DTD SVG 1.1//EN\"\n",
       " \"http://www.w3.org/Graphics/SVG/1.1/DTD/svg11.dtd\">\n",
       "<!-- Generated by graphviz version 2.40.1 (20161225.0304)\n",
       " -->\n",
       "<!-- Title: finite_state_machine Pages: 1 -->\n",
       "<svg width=\"1429pt\" height=\"329pt\"\n",
       " viewBox=\"0.00 0.00 1469.54 338.48\" xmlns=\"http://www.w3.org/2000/svg\" xmlns:xlink=\"http://www.w3.org/1999/xlink\">\n",
       "<g id=\"graph0\" class=\"graph\" transform=\"scale(.9722 .9722) rotate(0) translate(4 334.4752)\">\n",
       "<title>finite_state_machine</title>\n",
       "<polygon fill=\"#ffffff\" stroke=\"transparent\" points=\"-4,4 -4,-334.4752 1465.5381,-334.4752 1465.5381,4 -4,4\"/>\n",
       "<!-- donate_feature2 -->\n",
       "<g id=\"node1\" class=\"node\">\n",
       "<title>donate_feature2</title>\n",
       "<ellipse fill=\"none\" stroke=\"#000000\" cx=\"67.594\" cy=\"-258.9815\" rx=\"67.6881\" ry=\"67.6881\"/>\n",
       "<text text-anchor=\"middle\" x=\"67.594\" y=\"-255.2815\" font-family=\"Times,serif\" font-size=\"14.00\" fill=\"#000000\">donate_feature2</text>\n",
       "</g>\n",
       "<!-- entity1_feature4 -->\n",
       "<g id=\"node2\" class=\"node\">\n",
       "<title>entity1_feature4</title>\n",
       "<ellipse fill=\"none\" stroke=\"#000000\" cx=\"215.594\" cy=\"-68.2439\" rx=\"68.4888\" ry=\"68.4888\"/>\n",
       "<text text-anchor=\"middle\" x=\"215.594\" y=\"-64.5439\" font-family=\"Times,serif\" font-size=\"14.00\" fill=\"#000000\">entity1_feature4</text>\n",
       "</g>\n",
       "<!-- entity2_feature0 -->\n",
       "<g id=\"node3\" class=\"node\">\n",
       "<title>entity2_feature0</title>\n",
       "<ellipse fill=\"none\" stroke=\"#000000\" cx=\"369.594\" cy=\"-68.2439\" rx=\"68.4888\" ry=\"68.4888\"/>\n",
       "<text text-anchor=\"middle\" x=\"369.594\" y=\"-64.5439\" font-family=\"Times,serif\" font-size=\"14.00\" fill=\"#000000\">entity2_feature0</text>\n",
       "</g>\n",
       "<!-- entity2_feature3 -->\n",
       "<g id=\"node4\" class=\"node\">\n",
       "<title>entity2_feature3</title>\n",
       "<ellipse fill=\"none\" stroke=\"#000000\" cx=\"523.594\" cy=\"-68.2439\" rx=\"68.4888\" ry=\"68.4888\"/>\n",
       "<text text-anchor=\"middle\" x=\"523.594\" y=\"-64.5439\" font-family=\"Times,serif\" font-size=\"14.00\" fill=\"#000000\">entity2_feature3</text>\n",
       "</g>\n",
       "<!-- entity2_feature5 -->\n",
       "<g id=\"node5\" class=\"node\">\n",
       "<title>entity2_feature5</title>\n",
       "<ellipse fill=\"none\" stroke=\"#000000\" cx=\"677.594\" cy=\"-68.2439\" rx=\"68.4888\" ry=\"68.4888\"/>\n",
       "<text text-anchor=\"middle\" x=\"677.594\" y=\"-64.5439\" font-family=\"Times,serif\" font-size=\"14.00\" fill=\"#000000\">entity2_feature5</text>\n",
       "</g>\n",
       "<!-- in_feature5 -->\n",
       "<g id=\"node6\" class=\"node\">\n",
       "<title>in_feature5</title>\n",
       "<ellipse fill=\"none\" stroke=\"#000000\" cx=\"677.594\" cy=\"-258.9815\" rx=\"50.8918\" ry=\"50.8918\"/>\n",
       "<text text-anchor=\"middle\" x=\"677.594\" y=\"-255.2815\" font-family=\"Times,serif\" font-size=\"14.00\" fill=\"#000000\">in_feature5</text>\n",
       "</g>\n",
       "<!-- in_feature5&#45;&gt;entity2_feature5 -->\n",
       "<g id=\"edge1\" class=\"edge\">\n",
       "<title>in_feature5&#45;&gt;entity2_feature5</title>\n",
       "<path fill=\"none\" stroke=\"#000000\" d=\"M677.594,-208.1179C677.594,-189.245 677.594,-167.3746 677.594,-146.6147\"/>\n",
       "<polygon fill=\"#000000\" stroke=\"#000000\" points=\"681.0941,-146.5306 677.594,-136.5306 674.0941,-146.5307 681.0941,-146.5306\"/>\n",
       "<text text-anchor=\"middle\" x=\"681.094\" y=\"-158.2879\" font-family=\"Times,serif\" font-size=\"14.00\" fill=\"#000000\">2</text>\n",
       "</g>\n",
       "<!-- in_feature8 -->\n",
       "<g id=\"node7\" class=\"node\">\n",
       "<title>in_feature8</title>\n",
       "<ellipse fill=\"none\" stroke=\"#000000\" cx=\"826.594\" cy=\"-258.9815\" rx=\"50.8918\" ry=\"50.8918\"/>\n",
       "<text text-anchor=\"middle\" x=\"826.594\" y=\"-255.2815\" font-family=\"Times,serif\" font-size=\"14.00\" fill=\"#000000\">in_feature8</text>\n",
       "</g>\n",
       "<!-- place_feature8 -->\n",
       "<g id=\"node12\" class=\"node\">\n",
       "<title>place_feature8</title>\n",
       "<ellipse fill=\"none\" stroke=\"#000000\" cx=\"826.594\" cy=\"-68.2439\" rx=\"62.2891\" ry=\"62.2891\"/>\n",
       "<text text-anchor=\"middle\" x=\"826.594\" y=\"-64.5439\" font-family=\"Times,serif\" font-size=\"14.00\" fill=\"#000000\">place_feature8</text>\n",
       "</g>\n",
       "<!-- in_feature8&#45;&gt;place_feature8 -->\n",
       "<g id=\"edge2\" class=\"edge\">\n",
       "<title>in_feature8&#45;&gt;place_feature8</title>\n",
       "<path fill=\"none\" stroke=\"#000000\" d=\"M826.594,-208.1179C826.594,-187.5422 826.594,-163.4037 826.594,-141.0257\"/>\n",
       "<polygon fill=\"#000000\" stroke=\"#000000\" points=\"830.0941,-140.8868 826.594,-130.8869 823.0941,-140.8869 830.0941,-140.8868\"/>\n",
       "<text text-anchor=\"middle\" x=\"830.094\" y=\"-158.2879\" font-family=\"Times,serif\" font-size=\"14.00\" fill=\"#000000\">1</text>\n",
       "</g>\n",
       "<!-- into_feature1 -->\n",
       "<g id=\"node8\" class=\"node\">\n",
       "<title>into_feature1</title>\n",
       "<ellipse fill=\"none\" stroke=\"#000000\" cx=\"953.594\" cy=\"-258.9815\" rx=\"57.6901\" ry=\"57.6901\"/>\n",
       "<text text-anchor=\"middle\" x=\"953.594\" y=\"-255.2815\" font-family=\"Times,serif\" font-size=\"14.00\" fill=\"#000000\">into_feature1</text>\n",
       "</g>\n",
       "<!-- into_feature3 -->\n",
       "<g id=\"node9\" class=\"node\">\n",
       "<title>into_feature3</title>\n",
       "<ellipse fill=\"none\" stroke=\"#000000\" cx=\"523.594\" cy=\"-258.9815\" rx=\"57.6901\" ry=\"57.6901\"/>\n",
       "<text text-anchor=\"middle\" x=\"523.594\" y=\"-255.2815\" font-family=\"Times,serif\" font-size=\"14.00\" fill=\"#000000\">into_feature3</text>\n",
       "</g>\n",
       "<!-- into_feature3&#45;&gt;entity2_feature3 -->\n",
       "<g id=\"edge3\" class=\"edge\">\n",
       "<title>into_feature3&#45;&gt;entity2_feature3</title>\n",
       "<path fill=\"none\" stroke=\"#000000\" d=\"M523.594,-200.9771C523.594,-183.9482 523.594,-165.0314 523.594,-146.9406\"/>\n",
       "<polygon fill=\"#000000\" stroke=\"#000000\" points=\"527.0941,-146.6999 523.594,-136.6999 520.0941,-146.7 527.0941,-146.6999\"/>\n",
       "<text text-anchor=\"middle\" x=\"527.094\" y=\"-158.2879\" font-family=\"Times,serif\" font-size=\"14.00\" fill=\"#000000\">2</text>\n",
       "</g>\n",
       "<!-- migrate_feature9 -->\n",
       "<g id=\"node10\" class=\"node\">\n",
       "<title>migrate_feature9</title>\n",
       "<ellipse fill=\"none\" stroke=\"#000000\" cx=\"1100.594\" cy=\"-258.9815\" rx=\"71.4873\" ry=\"71.4873\"/>\n",
       "<text text-anchor=\"middle\" x=\"1100.594\" y=\"-255.2815\" font-family=\"Times,serif\" font-size=\"14.00\" fill=\"#000000\">migrate_feature9</text>\n",
       "</g>\n",
       "<!-- place_feature4 -->\n",
       "<g id=\"node11\" class=\"node\">\n",
       "<title>place_feature4</title>\n",
       "<ellipse fill=\"none\" stroke=\"#000000\" cx=\"215.594\" cy=\"-258.9815\" rx=\"62.2891\" ry=\"62.2891\"/>\n",
       "<text text-anchor=\"middle\" x=\"215.594\" y=\"-255.2815\" font-family=\"Times,serif\" font-size=\"14.00\" fill=\"#000000\">place_feature4</text>\n",
       "</g>\n",
       "<!-- place_feature4&#45;&gt;entity1_feature4 -->\n",
       "<g id=\"edge4\" class=\"edge\">\n",
       "<title>place_feature4&#45;&gt;entity1_feature4</title>\n",
       "<path fill=\"none\" stroke=\"#000000\" d=\"M215.594,-196.5269C215.594,-180.6917 215.594,-163.4765 215.594,-146.9502\"/>\n",
       "<polygon fill=\"#000000\" stroke=\"#000000\" points=\"219.0941,-146.7677 215.594,-136.7678 212.0941,-146.7678 219.0941,-146.7677\"/>\n",
       "<text text-anchor=\"middle\" x=\"219.094\" y=\"-158.2879\" font-family=\"Times,serif\" font-size=\"14.00\" fill=\"#000000\">2</text>\n",
       "</g>\n",
       "<!-- pour_feature7 -->\n",
       "<g id=\"node13\" class=\"node\">\n",
       "<title>pour_feature7</title>\n",
       "<ellipse fill=\"none\" stroke=\"#000000\" cx=\"1249.594\" cy=\"-258.9815\" rx=\"59.5901\" ry=\"59.5901\"/>\n",
       "<text text-anchor=\"middle\" x=\"1249.594\" y=\"-255.2815\" font-family=\"Times,serif\" font-size=\"14.00\" fill=\"#000000\">pour_feature7</text>\n",
       "</g>\n",
       "<!-- spread_feature6 -->\n",
       "<g id=\"node14\" class=\"node\">\n",
       "<title>spread_feature6</title>\n",
       "<ellipse fill=\"none\" stroke=\"#000000\" cx=\"1394.594\" cy=\"-258.9815\" rx=\"66.8882\" ry=\"66.8882\"/>\n",
       "<text text-anchor=\"middle\" x=\"1394.594\" y=\"-255.2815\" font-family=\"Times,serif\" font-size=\"14.00\" fill=\"#000000\">spread_feature6</text>\n",
       "</g>\n",
       "<!-- to_feature0 -->\n",
       "<g id=\"node15\" class=\"node\">\n",
       "<title>to_feature0</title>\n",
       "<ellipse fill=\"none\" stroke=\"#000000\" cx=\"369.594\" cy=\"-258.9815\" rx=\"50.8918\" ry=\"50.8918\"/>\n",
       "<text text-anchor=\"middle\" x=\"369.594\" y=\"-255.2815\" font-family=\"Times,serif\" font-size=\"14.00\" fill=\"#000000\">to_feature0</text>\n",
       "</g>\n",
       "<!-- to_feature0&#45;&gt;entity2_feature0 -->\n",
       "<g id=\"edge5\" class=\"edge\">\n",
       "<title>to_feature0&#45;&gt;entity2_feature0</title>\n",
       "<path fill=\"none\" stroke=\"#000000\" d=\"M369.594,-208.1179C369.594,-189.245 369.594,-167.3746 369.594,-146.6147\"/>\n",
       "<polygon fill=\"#000000\" stroke=\"#000000\" points=\"373.0941,-146.5306 369.594,-136.5306 366.0941,-146.5307 373.0941,-146.5306\"/>\n",
       "<text text-anchor=\"middle\" x=\"373.094\" y=\"-158.2879\" font-family=\"Times,serif\" font-size=\"14.00\" fill=\"#000000\">2</text>\n",
       "</g>\n",
       "</g>\n",
       "</svg>\n"
      ],
      "text/plain": [
       "<graphviz.files.Source at 0x7f65ee3d9820>"
      ]
     },
     "execution_count": 115,
     "metadata": {},
     "output_type": "execute_result"
    }
   ],
   "source": [
    "from graphviz import Digraph\n",
    "from graphviz import Source\n",
    "# Create Digraph object\n",
    "dot = to_dot(all_features, integ=True)\n",
    "Source(dot)"
   ]
  },
  {
   "cell_type": "code",
   "execution_count": null,
   "metadata": {},
   "outputs": [],
   "source": [
    "from graphviz import Digraph\n",
    "from graphviz import Source\n",
    "# Create Digraph object\n",
    "dot = to_dot(feature_graphs[model.inverse_relabel[42]])"
   ]
  },
  {
   "cell_type": "code",
   "execution_count": null,
   "metadata": {},
   "outputs": [],
   "source": [
    "dots = []\n",
    "\n",
    "for t in weights_df.iloc[:10].feature.str.strip(\"x\").tolist():\n",
    "    dots.append(feature_graphs[model.inverse_relabel[int(t)]])\n",
    "\n",
    "Source(to_dots(dots))"
   ]
  },
  {
   "cell_type": "code",
   "execution_count": 30,
   "metadata": {},
   "outputs": [],
   "source": [
    "import re\n",
    "\n",
    "def d_clean(string):\n",
    "    s = string\n",
    "    for c in '\\\\=@-,\\'\".!:;<>/{}[]()#^?':\n",
    "        s = s.replace(c, '_')\n",
    "    s = s.replace('$', '_dollars')\n",
    "    s = s.replace('%', '_percent')\n",
    "    s = s.replace('|', ' ')\n",
    "    s = s.replace('*', ' ')\n",
    "    if s == '#':\n",
    "        s = '_number'\n",
    "    keywords = (\"graph\", \"node\", \"strict\", \"edge\")\n",
    "    if re.match('^[0-9]', s) or s in keywords:\n",
    "        s = \"X\" + s\n",
    "    return s\n",
    "\n",
    "def to_dots(graphs, marked_nodes=set(), integ=False):\n",
    "    lines = [u'digraph finite_state_machine {', '\\tdpi=70;']\n",
    "    # lines.append('\\tordering=out;')\n",
    "    # sorting everything to make the process deterministic\n",
    "    for i, graph in enumerate(graphs):\n",
    "        s = \"subgraph cluster_\" + chr(ord('@')+i+1) + \" {\"\n",
    "        node_lines = []\n",
    "\n",
    "        node_lines.append(s)\n",
    "        node_to_name = {}\n",
    "        for node, n_data in graph.nodes(data=True):\n",
    "            if integ:\n",
    "                d_node = d_clean(str(node))\n",
    "            else:    \n",
    "                d_node = d_clean(n_data[\"name\"])\n",
    "            printname = d_node\n",
    "            node_to_name[node] = printname\n",
    "            if 'expanded' in n_data and n_data['expanded'] and printname in marked_nodes:\n",
    "                node_line = u'\\t{0} [shape = circle, label = \"{1}\", \\\n",
    "                        style=filled, fillcolor=purple];'.format(\n",
    "                    d_node, printname).replace('-', '_')\n",
    "            elif 'expanded' in n_data and n_data['expanded']:\n",
    "                node_line = u'\\t{0} [shape = circle, label = \"{1}\", \\\n",
    "                        style=\"filled\"];'.format(\n",
    "                    d_node, printname).replace('-', '_')\n",
    "            elif 'fourlang' in n_data and n_data['fourlang']:\n",
    "                node_line = u'\\t{0} [shape = circle, label = \"{1}\", \\\n",
    "                        style=\"filled\", fillcolor=red];'.format(\n",
    "                    d_node, printname).replace('-', '_')\n",
    "            elif 'substituted' in n_data and n_data['substituted']:\n",
    "                node_line = u'\\t{0} [shape = circle, label = \"{1}\", \\\n",
    "                        style=\"filled\"];'.format(\n",
    "                    d_node, printname).replace('-', '_')\n",
    "            elif printname in marked_nodes:\n",
    "                node_line = u'\\t{0} [shape = circle, label = \"{1}\", style=filled, fillcolor=lightblue];'.format(\n",
    "                    d_node, printname).replace('-', '_')\n",
    "            else:\n",
    "                node_line = u'\\t{0} [shape = circle, label = \"{1}\"];'.format(\n",
    "                    d_node, printname).replace('-', '_')\n",
    "            node_lines.append(node_line)\n",
    "        lines += sorted(node_lines)\n",
    "\n",
    "        edge_lines = []\n",
    "        for u, v, edata in graph.edges(data=True):\n",
    "            if 'color' in edata:\n",
    "                d_node1 = node_to_name[u]\n",
    "                d_node2 = node_to_name[v]\n",
    "                edge_lines.append(\n",
    "                    u'\\t{0} -> {1} [ label = \"{2}\" ];'.format(d_node1, d_node2, edata['color']))\n",
    "\n",
    "        lines += sorted(edge_lines)\n",
    "        lines.append('}')\n",
    "    lines.append('}')\n",
    "    return u'\\n'.join(lines)\n",
    "\n",
    "def to_dot(graph, marked_nodes=set(), integ=False):\n",
    "    lines = [u'digraph finite_state_machine {', '\\tdpi=70;']\n",
    "    # lines.append('\\tordering=out;')\n",
    "    # sorting everything to make the process deterministic\n",
    "    node_lines = []\n",
    "    node_to_name = {}\n",
    "    for node, n_data in graph.nodes(data=True):\n",
    "        if integ:\n",
    "            d_node = d_clean(str(node))\n",
    "        else:    \n",
    "            d_node = d_clean(n_data[\"name\"])\n",
    "        printname = d_node\n",
    "        node_to_name[node] = printname\n",
    "        if 'expanded' in n_data and n_data['expanded'] and printname in marked_nodes:\n",
    "            node_line = u'\\t{0} [shape = circle, label = \"{1}\", \\\n",
    "                    style=filled, fillcolor=purple];'.format(\n",
    "                d_node, printname).replace('-', '_')\n",
    "        elif 'expanded' in n_data and n_data['expanded']:\n",
    "            node_line = u'\\t{0} [shape = circle, label = \"{1}\", \\\n",
    "                    style=\"filled\"];'.format(\n",
    "                d_node, printname).replace('-', '_')\n",
    "        elif 'fourlang' in n_data and n_data['fourlang']:\n",
    "            node_line = u'\\t{0} [shape = circle, label = \"{1}\", \\\n",
    "                    style=\"filled\", fillcolor=red];'.format(\n",
    "                d_node, printname).replace('-', '_')\n",
    "        elif 'substituted' in n_data and n_data['substituted']:\n",
    "            node_line = u'\\t{0} [shape = circle, label = \"{1}\", \\\n",
    "                    style=\"filled\"];'.format(\n",
    "                d_node, printname).replace('-', '_')\n",
    "        elif printname in marked_nodes:\n",
    "            node_line = u'\\t{0} [shape = circle, label = \"{1}\", style=filled, fillcolor=lightblue];'.format(\n",
    "                d_node, printname).replace('-', '_')\n",
    "        else:\n",
    "            node_line = u'\\t{0} [shape = circle, label = \"{1}\"];'.format(\n",
    "                d_node, printname).replace('-', '_')\n",
    "        node_lines.append(node_line)\n",
    "    lines += sorted(node_lines)\n",
    "\n",
    "    edge_lines = []\n",
    "    for u, v, edata in graph.edges(data=True):\n",
    "        if 'color' in edata:\n",
    "            d_node1 = node_to_name[u]\n",
    "            d_node2 = node_to_name[v]\n",
    "            edge_lines.append(\n",
    "                u'\\t{0} -> {1} [ label = \"{2}\" ];'.format(d_node1, d_node2, edata['color']))\n",
    "\n",
    "    lines += sorted(edge_lines)\n",
    "    lines.append('}')\n",
    "    return u'\\n'.join(lines)"
   ]
  },
  {
   "cell_type": "code",
   "execution_count": null,
   "metadata": {},
   "outputs": [],
   "source": [
    "from sklearn.feature_selection import SelectKBest\n",
    "from sklearn.feature_selection import chi2"
   ]
  },
  {
   "cell_type": "code",
   "execution_count": null,
   "metadata": {},
   "outputs": [],
   "source": [
    "chi2_selector = SelectKBest(chi2, k=10)\n",
    "X_kbest = chi2_selector.fit_transform(X, Y)"
   ]
  },
  {
   "cell_type": "code",
   "execution_count": null,
   "metadata": {},
   "outputs": [],
   "source": [
    "chi2_selector.get_support(indices=True)"
   ]
  },
  {
   "cell_type": "code",
   "execution_count": null,
   "metadata": {},
   "outputs": [],
   "source": [
    "for i, g in enumerate(feature_graphs):\n",
    "    if len(g.edges()) != 1:\n",
    "        print(len(g.edges()))"
   ]
  },
  {
   "cell_type": "code",
   "execution_count": null,
   "metadata": {},
   "outputs": [],
   "source": [
    "dot = to_dot(feature_graphs[2450])\n",
    "Source(dot)"
   ]
  },
  {
   "cell_type": "code",
   "execution_count": null,
   "metadata": {},
   "outputs": [],
   "source": [
    "dot = to_dot(graphs[0])\n",
    "Source(dot)"
   ]
  },
  {
   "cell_type": "code",
   "execution_count": null,
   "metadata": {},
   "outputs": [],
   "source": [
    "tests = []\n",
    "\n",
    "for l in model.lexgraphs.gen_lex_subgraphs(graphs[0], 1):\n",
    "    print(l)\n",
    "    tests.append(l[1])"
   ]
  },
  {
   "cell_type": "code",
   "execution_count": null,
   "metadata": {},
   "outputs": [],
   "source": [
    "dot = to_dot(tests[3])\n",
    "Source(dot)"
   ]
  },
  {
   "cell_type": "code",
   "execution_count": 46,
   "metadata": {},
   "outputs": [
    {
     "data": {
      "text/plain": [
       "{50: {52: {'color': 2}, 86: {'color': 1}},\n",
       " 52: {59: {'color': 0}, 80: {'color': 0}},\n",
       " 59: {65: {'color': 0}, 77: {'color': 0}},\n",
       " 62: {},\n",
       " 65: {},\n",
       " 68: {},\n",
       " 71: {},\n",
       " 74: {},\n",
       " 77: {},\n",
       " 80: {},\n",
       " 55: {52: {'color': 2}, 56: {'color': 1}},\n",
       " 56: {},\n",
       " 83: {},\n",
       " 86: {50: {'color': 0}, 92: {'color': 0}},\n",
       " 89: {},\n",
       " 92: {95: {'color': 0}},\n",
       " 95: {},\n",
       " 98: {}}"
      ]
     },
     "execution_count": 46,
     "metadata": {},
     "output_type": "execute_result"
    }
   ],
   "source": [
    "from networkx.convert import from_dict_of_dicts as fdd\n",
    "from networkx.convert import to_dict_of_dicts as tdd\n",
    "\n",
    "H_dict = tdd(graphs[0])\n",
    "H_dict"
   ]
  },
  {
   "cell_type": "code",
   "execution_count": null,
   "metadata": {},
   "outputs": [],
   "source": []
  },
  {
   "cell_type": "code",
   "execution_count": 33,
   "metadata": {},
   "outputs": [],
   "source": [
    "import pickle\n",
    "with open(\"pickle.dat\", \"rb\") as f:\n",
    "    graphs = pickle.load(f)"
   ]
  },
  {
   "cell_type": "code",
   "execution_count": 30,
   "metadata": {},
   "outputs": [
    {
     "name": "stdout",
     "output_type": "stream",
     "text": [
      "(50, {'name': 'have'})\n",
      "(52, {'name': 'application'})\n",
      "(59, {'name': 'configuration'})\n",
      "(62, {'name': 'a'})\n",
      "(65, {'name': 'element'})\n",
      "(68, {'name': 'antenna'})\n",
      "(71, {'name': 'of'})\n",
      "(74, {'name': 'in'})\n",
      "(77, {'name': 'array'})\n",
      "(80, {'name': 'great'})\n",
      "(55, {'name': 'HAS'})\n",
      "(56, {'name': 'its'})\n",
      "(83, {'name': 'PERIOD'})\n",
      "(86, {'name': 'system'})\n",
      "(89, {'name': 'the'})\n",
      "(92, {'name': 'describe'})\n",
      "(95, {'name': 'above'})\n",
      "(98, {'name': 'as'})\n"
     ]
    }
   ],
   "source": [
    "for n in graphs[0].nodes(data=True):\n",
    "    print(n)"
   ]
  },
  {
   "cell_type": "code",
   "execution_count": 52,
   "metadata": {},
   "outputs": [],
   "source": [
    "import networkx as nx\n",
    "G = nx.MultiDiGraph()\n",
    "\n",
    "C = fdd(H_dict,create_using=nx.MultiDiGraph())"
   ]
  },
  {
   "cell_type": "code",
   "execution_count": 83,
   "metadata": {},
   "outputs": [
    {
     "name": "stdout",
     "output_type": "stream",
     "text": [
      "[(23, 4), (25, 0), (33, 1), (36, 0), (39, 0), (42, 2), (28, 2), (29, 1)]\n"
     ]
    },
    {
     "data": {
      "image/svg+xml": [
       "<?xml version=\"1.0\" encoding=\"UTF-8\" standalone=\"no\"?>\n",
       "<!DOCTYPE svg PUBLIC \"-//W3C//DTD SVG 1.1//EN\"\n",
       " \"http://www.w3.org/Graphics/SVG/1.1/DTD/svg11.dtd\">\n",
       "<!-- Generated by graphviz version 2.40.1 (20161225.0304)\n",
       " -->\n",
       "<!-- Title: finite_state_machine Pages: 1 -->\n",
       "<svg width=\"199pt\" height=\"291pt\"\n",
       " viewBox=\"0.00 0.00 204.39 299.78\" xmlns=\"http://www.w3.org/2000/svg\" xmlns:xlink=\"http://www.w3.org/1999/xlink\">\n",
       "<g id=\"graph0\" class=\"graph\" transform=\"scale(.9722 .9722) rotate(0) translate(4 295.7832)\">\n",
       "<title>finite_state_machine</title>\n",
       "<polygon fill=\"#ffffff\" stroke=\"transparent\" points=\"-4,4 -4,-295.7832 200.3945,-295.7832 200.3945,4 -4,4\"/>\n",
       "<!-- back -->\n",
       "<g id=\"node1\" class=\"node\">\n",
       "<title>back</title>\n",
       "<ellipse fill=\"none\" stroke=\"#000000\" cx=\"169.0969\" cy=\"-35.0969\" rx=\"27.0966\" ry=\"27.0966\"/>\n",
       "<text text-anchor=\"middle\" x=\"169.0969\" y=\"-31.3969\" font-family=\"Times,serif\" font-size=\"14.00\" fill=\"#000000\">back</text>\n",
       "</g>\n",
       "<!-- entity1 -->\n",
       "<g id=\"node2\" class=\"node\">\n",
       "<title>entity1</title>\n",
       "<ellipse fill=\"none\" stroke=\"#000000\" cx=\"89.0969\" cy=\"-35.0969\" rx=\"35.194\" ry=\"35.194\"/>\n",
       "<text text-anchor=\"middle\" x=\"89.0969\" y=\"-31.3969\" font-family=\"Times,serif\" font-size=\"14.00\" fill=\"#000000\">entity1</text>\n",
       "</g>\n",
       "<!-- move -->\n",
       "<g id=\"node5\" class=\"node\">\n",
       "<title>move</title>\n",
       "<ellipse fill=\"none\" stroke=\"#000000\" cx=\"119.0969\" cy=\"-156.2907\" rx=\"30.5947\" ry=\"30.5947\"/>\n",
       "<text text-anchor=\"middle\" x=\"119.0969\" y=\"-152.5907\" font-family=\"Times,serif\" font-size=\"14.00\" fill=\"#000000\">move</text>\n",
       "</g>\n",
       "<!-- entity1&#45;&gt;move -->\n",
       "<g id=\"edge1\" class=\"edge\">\n",
       "<title>entity1&#45;&gt;move</title>\n",
       "<path fill=\"none\" stroke=\"#000000\" d=\"M97.594,-69.4236C101.2002,-83.9918 105.4282,-101.0721 109.1764,-116.2141\"/>\n",
       "<polygon fill=\"#000000\" stroke=\"#000000\" points=\"105.8808,-117.4666 111.6812,-126.3326 112.6757,-115.7846 105.8808,-117.4666\"/>\n",
       "<text text-anchor=\"middle\" x=\"108.5969\" y=\"-91.9938\" font-family=\"Times,serif\" font-size=\"14.00\" fill=\"#000000\">0</text>\n",
       "</g>\n",
       "<!-- entity2 -->\n",
       "<g id=\"node3\" class=\"node\">\n",
       "<title>entity2</title>\n",
       "<ellipse fill=\"none\" stroke=\"#000000\" cx=\"35.0969\" cy=\"-156.2907\" rx=\"35.194\" ry=\"35.194\"/>\n",
       "<text text-anchor=\"middle\" x=\"35.0969\" y=\"-152.5907\" font-family=\"Times,serif\" font-size=\"14.00\" fill=\"#000000\">entity2</text>\n",
       "</g>\n",
       "<!-- into -->\n",
       "<g id=\"node4\" class=\"node\">\n",
       "<title>into</title>\n",
       "<ellipse fill=\"none\" stroke=\"#000000\" cx=\"50.0969\" cy=\"-267.0854\" rx=\"24.8972\" ry=\"24.8972\"/>\n",
       "<text text-anchor=\"middle\" x=\"50.0969\" y=\"-263.3854\" font-family=\"Times,serif\" font-size=\"14.00\" fill=\"#000000\">into</text>\n",
       "</g>\n",
       "<!-- into&#45;&gt;entity2 -->\n",
       "<g id=\"edge2\" class=\"edge\">\n",
       "<title>into&#45;&gt;entity2</title>\n",
       "<path fill=\"none\" stroke=\"#000000\" d=\"M46.7679,-242.4964C45.1288,-230.3895 43.1,-215.404 41.196,-201.341\"/>\n",
       "<polygon fill=\"#000000\" stroke=\"#000000\" points=\"44.6492,-200.7583 39.8391,-191.3183 37.7125,-201.6975 44.6492,-200.7583\"/>\n",
       "<text text-anchor=\"middle\" x=\"47.5969\" y=\"-213.1875\" font-family=\"Times,serif\" font-size=\"14.00\" fill=\"#000000\">2</text>\n",
       "</g>\n",
       "<!-- into&#45;&gt;move -->\n",
       "<g id=\"edge3\" class=\"edge\">\n",
       "<title>into&#45;&gt;move</title>\n",
       "<path fill=\"none\" stroke=\"#000000\" d=\"M63.2377,-245.9849C72.9152,-230.4456 86.2893,-208.9704 97.5249,-190.9293\"/>\n",
       "<polygon fill=\"#000000\" stroke=\"#000000\" points=\"100.5277,-192.7284 102.8431,-182.3896 94.5857,-189.0279 100.5277,-192.7284\"/>\n",
       "<text text-anchor=\"middle\" x=\"87.5969\" y=\"-213.1875\" font-family=\"Times,serif\" font-size=\"14.00\" fill=\"#000000\">1</text>\n",
       "</g>\n",
       "<!-- move&#45;&gt;back -->\n",
       "<g id=\"edge4\" class=\"edge\">\n",
       "<title>move&#45;&gt;back</title>\n",
       "<path fill=\"none\" stroke=\"#000000\" d=\"M130.8197,-127.8761C137.964,-110.5591 147.1463,-88.3023 154.7265,-69.9289\"/>\n",
       "<polygon fill=\"#000000\" stroke=\"#000000\" points=\"158.0587,-71.0291 158.6371,-60.45 151.5878,-68.3594 158.0587,-71.0291\"/>\n",
       "<text text-anchor=\"middle\" x=\"149.5969\" y=\"-91.9938\" font-family=\"Times,serif\" font-size=\"14.00\" fill=\"#000000\">0</text>\n",
       "</g>\n",
       "<!-- move&#45;&gt;entity1 -->\n",
       "<g id=\"edge5\" class=\"edge\">\n",
       "<title>move&#45;&gt;entity1</title>\n",
       "<path fill=\"none\" stroke=\"#000000\" d=\"M103.0318,-130.166C98.6851,-121.8403 94.5173,-112.395 92.0969,-103.1938 90.2134,-96.0338 89.0714,-88.3064 88.4208,-80.7165\"/>\n",
       "<polygon fill=\"#000000\" stroke=\"#000000\" points=\"91.9019,-80.2929 87.8149,-70.5181 84.9143,-80.7082 91.9019,-80.2929\"/>\n",
       "<text text-anchor=\"middle\" x=\"95.5969\" y=\"-91.9938\" font-family=\"Times,serif\" font-size=\"14.00\" fill=\"#000000\">1</text>\n",
       "</g>\n",
       "</g>\n",
       "</svg>\n"
      ],
      "text/plain": [
       "<graphviz.files.Source at 0x7f64e6002280>"
      ]
     },
     "execution_count": 83,
     "metadata": {},
     "output_type": "execute_result"
    }
   ],
   "source": [
    "from graphviz import Digraph\n",
    "from graphviz import Source\n",
    "\n",
    "outdeg = graphs[7].degree()\n",
    "print(outdeg)\n",
    "\n",
    "to_keep = [n for (n, deg) in outdeg if deg != 0]\n",
    "G = graphs[7].subgraph(to_keep)\n",
    "dot = to_dot(G, integ=False)\n",
    "Source(dot)"
   ]
  },
  {
   "cell_type": "code",
   "execution_count": 70,
   "metadata": {},
   "outputs": [],
   "source": [
    "import networkx as nx\n",
    "\n",
    "\n",
    "def gen_subgraphs(M, no_edges):\n",
    "    \"\"\"M must be dict of dicts, see networkx.convert.to_dict_of_dicts.\n",
    "    Generates dicts of dicts, use networkx.convert.from_dict_of_dicts\"\"\"\n",
    "    if no_edges == 0:\n",
    "        yield from ({v: {}} for v in M)\n",
    "        return\n",
    "    for s_graph in gen_subgraphs(M, no_edges-1):\n",
    "        yield s_graph\n",
    "        # print('sgraph:', s_graph)\n",
    "        for node in M:\n",
    "            for neighbor, edge in M[node].items():\n",
    "                if node in s_graph and neighbor in s_graph[node]:\n",
    "                    continue\n",
    "                if node not in s_graph and neighbor not in s_graph:\n",
    "                    continue\n",
    "\n",
    "                new_graph = s_graph.copy()\n",
    "                if node not in new_graph:\n",
    "                    new_graph[node] = {neighbor: edge}\n",
    "                else:\n",
    "                    new_graph[node][neighbor] = edge\n",
    "                yield new_graph"
   ]
  },
  {
   "cell_type": "code",
   "execution_count": 107,
   "metadata": {},
   "outputs": [],
   "source": [
    "sgraphs = []\n",
    "for l in model.lexgraphs.gen_lex_subgraphs(G, 1):\n",
    "    if l[1].edges():\n",
    "        sgraphs.append(to_dot(l[1]))"
   ]
  },
  {
   "cell_type": "code",
   "execution_count": 108,
   "metadata": {},
   "outputs": [
    {
     "data": {
      "text/plain": [
       "10"
      ]
     },
     "execution_count": 108,
     "metadata": {},
     "output_type": "execute_result"
    }
   ],
   "source": [
    "len(sgraphs)"
   ]
  },
  {
   "cell_type": "code",
   "execution_count": 110,
   "metadata": {},
   "outputs": [
    {
     "data": {
      "image/svg+xml": [
       "<?xml version=\"1.0\" encoding=\"UTF-8\" standalone=\"no\"?>\n",
       "<!DOCTYPE svg PUBLIC \"-//W3C//DTD SVG 1.1//EN\"\n",
       " \"http://www.w3.org/Graphics/SVG/1.1/DTD/svg11.dtd\">\n",
       "<!-- Generated by graphviz version 2.40.1 (20161225.0304)\n",
       " -->\n",
       "<!-- Title: finite_state_machine Pages: 1 -->\n",
       "<svg width=\"67pt\" height=\"165pt\"\n",
       " viewBox=\"0.00 0.00 69.09 169.49\" xmlns=\"http://www.w3.org/2000/svg\" xmlns:xlink=\"http://www.w3.org/1999/xlink\">\n",
       "<g id=\"graph0\" class=\"graph\" transform=\"scale(.9722 .9722) rotate(0) translate(4 165.4902)\">\n",
       "<title>finite_state_machine</title>\n",
       "<polygon fill=\"#ffffff\" stroke=\"transparent\" points=\"-4,4 -4,-165.4902 65.0946,-165.4902 65.0946,4 -4,4\"/>\n",
       "<!-- into -->\n",
       "<g id=\"node1\" class=\"node\">\n",
       "<title>into</title>\n",
       "<ellipse fill=\"none\" stroke=\"#000000\" cx=\"30.5473\" cy=\"-136.7924\" rx=\"24.8972\" ry=\"24.8972\"/>\n",
       "<text text-anchor=\"middle\" x=\"30.5473\" y=\"-133.0924\" font-family=\"Times,serif\" font-size=\"14.00\" fill=\"#000000\">into</text>\n",
       "</g>\n",
       "<!-- move -->\n",
       "<g id=\"node2\" class=\"node\">\n",
       "<title>move</title>\n",
       "<ellipse fill=\"none\" stroke=\"#000000\" cx=\"30.5473\" cy=\"-30.5473\" rx=\"30.5947\" ry=\"30.5947\"/>\n",
       "<text text-anchor=\"middle\" x=\"30.5473\" y=\"-26.8473\" font-family=\"Times,serif\" font-size=\"14.00\" fill=\"#000000\">move</text>\n",
       "</g>\n",
       "<!-- into&#45;&gt;move -->\n",
       "<g id=\"edge1\" class=\"edge\">\n",
       "<title>into&#45;&gt;move</title>\n",
       "<path fill=\"none\" stroke=\"#000000\" d=\"M30.5473,-111.8826C30.5473,-99.8593 30.5473,-85.1197 30.5473,-71.5063\"/>\n",
       "<polygon fill=\"#000000\" stroke=\"#000000\" points=\"34.0474,-71.3792 30.5473,-61.3792 27.0474,-71.3793 34.0474,-71.3792\"/>\n",
       "<text text-anchor=\"middle\" x=\"34.0473\" y=\"-82.8946\" font-family=\"Times,serif\" font-size=\"14.00\" fill=\"#000000\">1</text>\n",
       "</g>\n",
       "</g>\n",
       "</svg>\n"
      ],
      "text/plain": [
       "<graphviz.files.Source at 0x7f64a14371f0>"
      ]
     },
     "execution_count": 110,
     "metadata": {},
     "output_type": "execute_result"
    }
   ],
   "source": [
    "Source(sgraphs[7])"
   ]
  },
  {
   "cell_type": "code",
   "execution_count": null,
   "metadata": {},
   "outputs": [],
   "source": [
    "from collections import Counter\n",
    "\n",
    "s = Counter()\n",
    "\n",
    "s[\"banana\"] += 1"
   ]
  },
  {
   "cell_type": "code",
   "execution_count": null,
   "metadata": {},
   "outputs": [],
   "source": [
    "s.most_common(1)"
   ]
  },
  {
   "cell_type": "code",
   "execution_count": null,
   "metadata": {},
   "outputs": [],
   "source": []
  }
 ],
 "metadata": {
  "kernelspec": {
   "display_name": "Python 3",
   "language": "python",
   "name": "python3"
  },
  "language_info": {
   "codemirror_mode": {
    "name": "ipython",
    "version": 3
   },
   "file_extension": ".py",
   "mimetype": "text/x-python",
   "name": "python",
   "nbconvert_exporter": "python",
   "pygments_lexer": "ipython3",
   "version": "3.9.2"
  }
 },
 "nbformat": 4,
 "nbformat_minor": 2
}
