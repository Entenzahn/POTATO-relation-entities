{
 "metadata": {
  "language_info": {
   "codemirror_mode": {
    "name": "ipython",
    "version": 3
   },
   "file_extension": ".py",
   "mimetype": "text/x-python",
   "name": "python",
   "nbconvert_exporter": "python",
   "pygments_lexer": "ipython3",
   "version": "3.9.2"
  },
  "orig_nbformat": 2,
  "kernelspec": {
   "name": "python3",
   "display_name": "Python 3.9.2 64-bit ('rel': conda)",
   "metadata": {
    "interpreter": {
     "hash": "fd9af7ae2cd66d57f86111bac4c82f02f071b9b33511d39a24d41efa33301f27"
    }
   }
  }
 },
 "nbformat": 4,
 "nbformat_minor": 2,
 "cells": [
  {
   "cell_type": "code",
   "execution_count": 1,
   "metadata": {},
   "outputs": [],
   "source": [
    "from exprel.dataset.semeval_dataset import SemevalDataset"
   ]
  },
  {
   "cell_type": "code",
   "execution_count": 2,
   "metadata": {},
   "outputs": [
    {
     "output_type": "stream",
     "name": "stderr",
     "text": [
      "2021-03-19 15:00:50 INFO: Loading these models for language: en (English):\n",
      "=========================\n",
      "| Processor | Package   |\n",
      "-------------------------\n",
      "| tokenize  | combined  |\n",
      "| pos       | combined  |\n",
      "| lemma     | combined  |\n",
      "| depparse  | combined  |\n",
      "| sentiment | sstplus   |\n",
      "| ner       | ontonotes |\n",
      "=========================\n",
      "\n",
      "/home/kovacs/miniconda3/envs/rel/lib/python3.9/site-packages/torch/cuda/__init__.py:52: UserWarning: CUDA initialization: The NVIDIA driver on your system is too old (found version 6050). Please update your GPU driver by downloading and installing a new version from the URL: http://www.nvidia.com/Download/index.aspx Alternatively, go to: https://pytorch.org to install a PyTorch version that has been compiled with your version of the CUDA driver. (Triggered internally at  /pytorch/c10/cuda/CUDAFunctions.cpp:109.)\n",
      "  return torch._C._cuda_getDeviceCount() > 0\n",
      "2021-03-19 15:00:50 INFO: Use device: cpu\n",
      "2021-03-19 15:00:50 INFO: Loading: tokenize\n",
      "2021-03-19 15:00:50 INFO: Loading: pos\n",
      "2021-03-19 15:00:50 INFO: Loading: lemma\n",
      "2021-03-19 15:00:50 INFO: Loading: depparse\n",
      "2021-03-19 15:00:51 INFO: Loading: sentiment\n",
      "2021-03-19 15:00:52 INFO: Loading: ner\n",
      "2021-03-19 15:00:54 INFO: Done loading processors!\n",
      "0it [00:00, ?it/s]/home/kovacs/projects/exp-relation-extraction/exprel/dataset/semeval_sample.py:26: GuessedAtParserWarning: No parser was explicitly specified, so I'm using the best available HTML parser for this system (\"html.parser\"). This usually isn't a problem, but if you run this code on another system, or in a different virtual environment, it may use a different parser and behave differently.\n",
      "\n",
      "The code that caused this warning is on line 26 of the file /home/kovacs/projects/exp-relation-extraction/exprel/dataset/semeval_sample.py. To get rid of this warning, pass the additional argument 'features=\"html.parser\"' to the BeautifulSoup constructor.\n",
      "\n",
      "  soup = BeautifulSoup(sen)\n",
      "8000it [00:05, 1436.71it/s]\n"
     ]
    }
   ],
   "source": [
    "data = SemevalDataset(\"/home/kovacs/projects/exp-relation-extraction/data/semeval_train.txt\")"
   ]
  },
  {
   "cell_type": "code",
   "execution_count": 7,
   "metadata": {},
   "outputs": [
    {
     "output_type": "execute_result",
     "data": {
      "text/plain": [
       "label_id\n",
       "0      344\n",
       "1      659\n",
       "2      470\n",
       "3      471\n",
       "4      374\n",
       "5      166\n",
       "6      844\n",
       "7        1\n",
       "8      568\n",
       "9      148\n",
       "10      97\n",
       "11     407\n",
       "12      78\n",
       "13     612\n",
       "14     490\n",
       "15     144\n",
       "16    1410\n",
       "17     323\n",
       "18     394\n",
       "dtype: int64"
      ]
     },
     "metadata": {},
     "execution_count": 7
    }
   ],
   "source": [
    "data.to_dataframe().groupby(\"label_id\").size()"
   ]
  },
  {
   "cell_type": "code",
   "execution_count": null,
   "metadata": {},
   "outputs": [],
   "source": []
  }
 ]
}